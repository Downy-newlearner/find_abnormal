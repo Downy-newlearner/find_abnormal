{
 "cells": [
  {
   "cell_type": "code",
   "execution_count": 1,
   "metadata": {},
   "outputs": [],
   "source": [
    "from preprocessing_class import *"
   ]
  },
  {
   "cell_type": "code",
   "execution_count": 2,
   "metadata": {},
   "outputs": [
    {
     "name": "stderr",
     "output_type": "stream",
     "text": [
      "c:\\lg_capstone\\find_abnormal\\preprocessing_class.py:130: SettingWithCopyWarning: \n",
      "A value is trying to be set on a copy of a slice from a DataFrame.\n",
      "Try using .loc[row_indexer,col_indexer] = value instead\n",
      "\n",
      "See the caveats in the documentation: https://pandas.pydata.org/pandas-docs/stable/user_guide/indexing.html#returning-a-view-versus-a-copy\n",
      "  diff_test['target'] = 'AbNormal'\n",
      "c:\\lg_capstone\\find_abnormal\\preprocessing_class.py:469: SettingWithCopyWarning: \n",
      "A value is trying to be set on a copy of a slice from a DataFrame.\n",
      "Try using .loc[row_indexer,col_indexer] = value instead\n",
      "\n",
      "See the caveats in the documentation: https://pandas.pydata.org/pandas-docs/stable/user_guide/indexing.html#returning-a-view-versus-a-copy\n",
      "  train_data['target'] = train_data['target'].astype(str)  # target 변수\n",
      "c:\\lg_capstone\\find_abnormal\\preprocessing_class.py:470: SettingWithCopyWarning: \n",
      "A value is trying to be set on a copy of a slice from a DataFrame.\n",
      "Try using .loc[row_indexer,col_indexer] = value instead\n",
      "\n",
      "See the caveats in the documentation: https://pandas.pydata.org/pandas-docs/stable/user_guide/indexing.html#returning-a-view-versus-a-copy\n",
      "  train_data['target'] = le.fit_transform(train_data['target'])  # target 변수를 숫자로 변환\n"
     ]
    },
    {
     "name": "stdout",
     "output_type": "stream",
     "text": [
      "Top 20 Correlations with Target:\n",
      "target                                                 1.000000\n",
      "Head Zero Position Y Collect Result_Dam                0.065833\n",
      "Stage2 Line1 Distance Speed Collect Result_Dam         0.063872\n",
      "Stage2 Line4 Distance Speed Collect Result_Dam         0.063487\n",
      "Stage2 Line2 Distance Speed Collect Result_Dam         0.063487\n",
      "Stage2 Line3 Distance Speed Collect Result_Dam         0.063398\n",
      "Stage2 Circle4 Distance Speed Collect Result_Dam       0.063390\n",
      "Stage2 Circle3 Distance Speed Collect Result_Dam       0.063390\n",
      "Stage2 Circle2 Distance Speed Collect Result_Dam       0.063390\n",
      "Stage2 Circle1 Distance Speed Collect Result_Dam       0.063390\n",
      "DISCHARGED TIME OF RESIN(Stage2) Collect Result_Dam    0.061503\n",
      "Workorder_Dam                                          0.059662\n",
      "Head Purge Position Z Collect Result_Fill1             0.058668\n",
      "Machine Tact time Collect Result_Fill1                 0.058312\n",
      "Stage1 Line4 Distance Speed Collect Result_Dam         0.057311\n",
      "Stage1 Circle2 Distance Speed Collect Result_Dam       0.057311\n",
      "Stage1 Circle3 Distance Speed Collect Result_Dam       0.057311\n",
      "Stage1 Circle4 Distance Speed Collect Result_Dam       0.057311\n",
      "Stage1 Line2 Distance Speed Collect Result_Dam         0.057311\n",
      "Stage1 Circle1 Distance Speed Collect Result_Dam       0.057311\n",
      "Name: target, dtype: float64\n"
     ]
    }
   ],
   "source": [
    "train = pd.read_csv('C:/lg_capstone/find_abnormal/data/train_begin.csv')\n",
    "test = pd.read_csv('C:/lg_capstone/find_abnormal/data/test_begin.csv')\n",
    "\n",
    "preprocessing = Preprocessing(train, test)\n",
    "preprocessing.final_preprocessing()\n",
    "X_train = preprocessing.X_train\n",
    "y_train = preprocessing.y_train\n",
    "X_test = preprocessing.X_test\n",
    "y_test = preprocessing.y_test\n",
    "\n",
    "X_test = preprocessing.X_test"
   ]
  },
  {
   "cell_type": "code",
   "execution_count": 3,
   "metadata": {},
   "outputs": [
    {
     "name": "stdout",
     "output_type": "stream",
     "text": [
      "SMOTE 적용 모델 성능\n",
      "Accuracy: 0.8536434492144006\n",
      "Classification Report:\n",
      "               precision    recall  f1-score   support\n",
      "\n",
      "           0     0.0841    0.1701    0.1125       441\n",
      "           1     0.9491    0.8931    0.9202      7642\n",
      "\n",
      "    accuracy                         0.8536      8083\n",
      "   macro avg     0.5166    0.5316    0.5164      8083\n",
      "weighted avg     0.9019    0.8536    0.8762      8083\n",
      "\n"
     ]
    }
   ],
   "source": [
    "# 1. SMOTE를 적용하여 학습한 랜덤 포레스트 모델\n",
    "model_weighted_smote = RandomForestClassifier(n_estimators=200, random_state=42, class_weight={0: 1, 1: 10})\n",
    "model_weighted_smote.fit(X_train, y_train)\n",
    "\n",
    "# 2. 검증 데이터셋에서 예측 수행\n",
    "y_pred_weighted_val = model_weighted_smote.predict(X_test)\n",
    "\n",
    "# 3. 성능 평가\n",
    "accuracy_weighted_val = accuracy_score(y_test, y_pred_weighted_val)\n",
    "classification_rep_weighted_val = classification_report(y_test, y_pred_weighted_val, digits=4)\n",
    "\n",
    "print(\"SMOTE 적용 모델 성능\")\n",
    "print(\"Accuracy:\", accuracy_weighted_val)\n",
    "print(\"Classification Report:\\n\", classification_rep_weighted_val)\n",
    "\n",
    "# 4. 테스트 데이터에서 예측 수행\n",
    "y_pred_test = model_weighted_smote.predict(X_test)"
   ]
  }
 ],
 "metadata": {
  "kernelspec": {
   "display_name": "lg_capstone",
   "language": "python",
   "name": "python3"
  },
  "language_info": {
   "codemirror_mode": {
    "name": "ipython",
    "version": 3
   },
   "file_extension": ".py",
   "mimetype": "text/x-python",
   "name": "python",
   "nbconvert_exporter": "python",
   "pygments_lexer": "ipython3",
   "version": "3.12.4"
  }
 },
 "nbformat": 4,
 "nbformat_minor": 2
}
