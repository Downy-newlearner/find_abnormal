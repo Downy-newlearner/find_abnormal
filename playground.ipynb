{
 "cells": [
  {
   "cell_type": "code",
   "execution_count": 1,
   "metadata": {},
   "outputs": [],
   "source": [
    "from preprocessing_class import *"
   ]
  },
  {
   "cell_type": "code",
   "execution_count": 2,
   "metadata": {},
   "outputs": [
    {
     "name": "stderr",
     "output_type": "stream",
     "text": [
      "c:\\lg_capstone\\find_abnormal\\preprocessing_class.py:130: SettingWithCopyWarning: \n",
      "A value is trying to be set on a copy of a slice from a DataFrame.\n",
      "Try using .loc[row_indexer,col_indexer] = value instead\n",
      "\n",
      "See the caveats in the documentation: https://pandas.pydata.org/pandas-docs/stable/user_guide/indexing.html#returning-a-view-versus-a-copy\n",
      "  diff_test['target'] = 'AbNormal'\n"
     ]
    },
    {
     "name": "stdout",
     "output_type": "stream",
     "text": [
      "preprocessing - dam\n",
      "preprocessing - fill1\n",
      "preprocessing - fill2\n"
     ]
    },
    {
     "name": "stderr",
     "output_type": "stream",
     "text": [
      "c:\\lg_capstone\\find_abnormal\\preprocessing_class.py:396: FutureWarning: A value is trying to be set on a copy of a DataFrame or Series through chained assignment using an inplace method.\n",
      "The behavior will change in pandas 3.0. This inplace method will never work because the intermediate object on which we are setting values always behaves as a copy.\n",
      "\n",
      "For example, when doing 'df[col].method(value, inplace=True)', try using 'df.method({col: value}, inplace=True)' or df[col] = df[col].method(value) instead, to perform the operation inplace on the original object.\n",
      "\n",
      "\n",
      "  data['HEAD NORMAL COORDINATE X AXIS(Stage1) Collect Result_Fill2'].replace(304.8, 305.0, inplace=True) # 304.8을 305.0으로 대체\n",
      "c:\\lg_capstone\\find_abnormal\\preprocessing_class.py:397: FutureWarning: A value is trying to be set on a copy of a DataFrame or Series through chained assignment using an inplace method.\n",
      "The behavior will change in pandas 3.0. This inplace method will never work because the intermediate object on which we are setting values always behaves as a copy.\n",
      "\n",
      "For example, when doing 'df[col].method(value, inplace=True)', try using 'df.method({col: value}, inplace=True)' or df[col] = df[col].method(value) instead, to perform the operation inplace on the original object.\n",
      "\n",
      "\n",
      "  data['HEAD NORMAL COORDINATE X AXIS(Stage3) Collect Result_Fill2'].replace(692.8, 694.0, inplace=True) # 692.8을 694.0으로 대체\n"
     ]
    },
    {
     "name": "stdout",
     "output_type": "stream",
     "text": [
      "preprocessing - autoclave\n",
      "Final preprocessing\n",
      "Section 1\n",
      "Section 2\n",
      "Section 3\n"
     ]
    },
    {
     "name": "stderr",
     "output_type": "stream",
     "text": [
      "c:\\lg_capstone\\find_abnormal\\preprocessing_class.py:659: SettingWithCopyWarning: \n",
      "A value is trying to be set on a copy of a slice from a DataFrame.\n",
      "Try using .loc[row_indexer,col_indexer] = value instead\n",
      "\n",
      "See the caveats in the documentation: https://pandas.pydata.org/pandas-docs/stable/user_guide/indexing.html#returning-a-view-versus-a-copy\n",
      "  train_data['target'] = le.fit_transform(train_data['target'].astype(str))\n",
      "c:\\lg_capstone\\find_abnormal\\preprocessing_class.py:663: SettingWithCopyWarning: \n",
      "A value is trying to be set on a copy of a slice from a DataFrame.\n",
      "Try using .loc[row_indexer,col_indexer] = value instead\n",
      "\n",
      "See the caveats in the documentation: https://pandas.pydata.org/pandas-docs/stable/user_guide/indexing.html#returning-a-view-versus-a-copy\n",
      "  train_data[column] = le.fit_transform(train_data[column].astype(str))\n",
      "c:\\lg_capstone\\find_abnormal\\preprocessing_class.py:663: SettingWithCopyWarning: \n",
      "A value is trying to be set on a copy of a slice from a DataFrame.\n",
      "Try using .loc[row_indexer,col_indexer] = value instead\n",
      "\n",
      "See the caveats in the documentation: https://pandas.pydata.org/pandas-docs/stable/user_guide/indexing.html#returning-a-view-versus-a-copy\n",
      "  train_data[column] = le.fit_transform(train_data[column].astype(str))\n",
      "c:\\lg_capstone\\find_abnormal\\preprocessing_class.py:663: SettingWithCopyWarning: \n",
      "A value is trying to be set on a copy of a slice from a DataFrame.\n",
      "Try using .loc[row_indexer,col_indexer] = value instead\n",
      "\n",
      "See the caveats in the documentation: https://pandas.pydata.org/pandas-docs/stable/user_guide/indexing.html#returning-a-view-versus-a-copy\n",
      "  train_data[column] = le.fit_transform(train_data[column].astype(str))\n",
      "c:\\lg_capstone\\find_abnormal\\preprocessing_class.py:663: SettingWithCopyWarning: \n",
      "A value is trying to be set on a copy of a slice from a DataFrame.\n",
      "Try using .loc[row_indexer,col_indexer] = value instead\n",
      "\n",
      "See the caveats in the documentation: https://pandas.pydata.org/pandas-docs/stable/user_guide/indexing.html#returning-a-view-versus-a-copy\n",
      "  train_data[column] = le.fit_transform(train_data[column].astype(str))\n",
      "c:\\lg_capstone\\find_abnormal\\preprocessing_class.py:663: SettingWithCopyWarning: \n",
      "A value is trying to be set on a copy of a slice from a DataFrame.\n",
      "Try using .loc[row_indexer,col_indexer] = value instead\n",
      "\n",
      "See the caveats in the documentation: https://pandas.pydata.org/pandas-docs/stable/user_guide/indexing.html#returning-a-view-versus-a-copy\n",
      "  train_data[column] = le.fit_transform(train_data[column].astype(str))\n"
     ]
    },
    {
     "name": "stdout",
     "output_type": "stream",
     "text": [
      "Section 4\n",
      "Train data shape:  (40413, 73)\n",
      "Features shape:  (40413, 69)\n",
      "Section 5\n"
     ]
    }
   ],
   "source": [
    "train = pd.read_csv('C:/lg_capstone/find_abnormal/data/train_begin.csv')\n",
    "test = pd.read_csv('C:/lg_capstone/find_abnormal/data/test_begin.csv')\n",
    "\n",
    "preprocessing = Preprocessing(train, test)\n",
    "preprocessing.dam()\n",
    "preprocessing.fill1()\n",
    "preprocessing.fill2()\n",
    "preprocessing.autoclave()\n",
    "preprocessing.final_preprocessing_v2()\n",
    "X_train = preprocessing.X_train\n",
    "y_train = preprocessing.y_train\n",
    "X_val = preprocessing.X_val\n",
    "y_val = preprocessing.y_val\n",
    "\n",
    "X_test = preprocessing.X_test\n",
    "Set_ID = preprocessing.Set_ID\n",
    "\n",
    "submission_diff = preprocessing.submission_diff"
   ]
  },
  {
   "cell_type": "code",
   "execution_count": 3,
   "metadata": {},
   "outputs": [
    {
     "name": "stdout",
     "output_type": "stream",
     "text": [
      "SMOTE 적용 모델 성능\n",
      "Accuracy: 0.9396263763454163\n",
      "Classification Report:\n",
      "               precision    recall  f1-score   support\n",
      "\n",
      "           0     0.2418    0.0499    0.0827       441\n",
      "           1     0.9476    0.9910    0.9688      7642\n",
      "\n",
      "    accuracy                         0.9396      8083\n",
      "   macro avg     0.5947    0.5204    0.5257      8083\n",
      "weighted avg     0.9091    0.9396    0.9204      8083\n",
      "\n"
     ]
    }
   ],
   "source": [
    "# 1. SMOTE를 적용하여 학습한 랜덤 포레스트 모델\n",
    "model_weighted_smote = RandomForestClassifier(n_estimators=200, random_state=42, class_weight={0: 1, 1: 10})\n",
    "model_weighted_smote.fit(X_train, y_train)\n",
    "\n",
    "# 2. 검증 데이터셋에서 예측 수행\n",
    "y_pred_weighted_val = model_weighted_smote.predict(X_val)\n",
    "\n",
    "# 3. 성능 평가\n",
    "accuracy_weighted_val = accuracy_score(y_val, y_pred_weighted_val)\n",
    "classification_rep_weighted_val = classification_report(y_val, y_pred_weighted_val, digits=4)\n",
    "\n",
    "print(\"SMOTE 적용 모델 성능\")\n",
    "print(\"Accuracy:\", accuracy_weighted_val)\n",
    "print(\"Classification Report:\\n\", classification_rep_weighted_val)\n",
    "\n",
    "# 4. 테스트 데이터에서 예측 수행\n",
    "y_pred_test = model_weighted_smote.predict(X_test)"
   ]
  },
  {
   "cell_type": "code",
   "execution_count": 4,
   "metadata": {},
   "outputs": [
    {
     "data": {
      "text/plain": [
       "(17333, 17333)"
      ]
     },
     "execution_count": 4,
     "metadata": {},
     "output_type": "execute_result"
    }
   ],
   "source": [
    "len(Set_ID), len(y_pred_test)"
   ]
  },
  {
   "cell_type": "code",
   "execution_count": 5,
   "metadata": {},
   "outputs": [
    {
     "name": "stdout",
     "output_type": "stream",
     "text": [
      "                             Set ID  target\n",
      "0  0001be084fbc4aaa9d921f39e595961b       1\n",
      "1  0005bbd180064abd99e63f9ed3e1ac80       1\n",
      "2  000948934c4140d883d670adcb609584       1\n",
      "3  000a6bfd02874c6296dc7b2e9c5678a7       1\n",
      "4  0018e78ce91343678716e2ea27a51c95       1\n",
      "(17333, 2)\n"
     ]
    }
   ],
   "source": [
    "# 6. 결과를 DataFrame으로 저장\n",
    "result = pd.DataFrame({\n",
    "    'Set ID': Set_ID.values,  # Set ID를 원래대로 유지\n",
    "    'target': y_pred_test\n",
    "})\n",
    "\n",
    "# 결과 출력\n",
    "print(result.head())\n",
    "\n",
    "print(result.shape)\n",
    "\n",
    "# 기존 0과 1 값을 'AbNormal'과 'Normal'로 변환\n",
    "result['target'] = result['target'].map({0: 'AbNormal', 1: 'Normal'})\n",
    "\n",
    "submission_same = result"
   ]
  },
  {
   "cell_type": "code",
   "execution_count": 6,
   "metadata": {},
   "outputs": [],
   "source": [
    "# submission_same, submission_diff 데이터프레임을 하나로 합치기\n",
    "submission = pd.concat([submission_same, submission_diff])"
   ]
  },
  {
   "cell_type": "code",
   "execution_count": 7,
   "metadata": {},
   "outputs": [],
   "source": [
    "submission.to_csv('C:/lg_capstone/find_abnormal/data/submission.csv', index=False)"
   ]
  },
  {
   "cell_type": "code",
   "execution_count": 8,
   "metadata": {},
   "outputs": [
    {
     "name": "stdout",
     "output_type": "stream",
     "text": [
      "['AbNormal' 'Normal'] [  169 17164]\n"
     ]
    }
   ],
   "source": [
    "unique, counts = np.unique(submission_same['target'], return_counts=True)\n",
    "print(unique, counts)"
   ]
  },
  {
   "cell_type": "code",
   "execution_count": null,
   "metadata": {},
   "outputs": [],
   "source": [
    "# submission_same, submission_diff 데이터프레임을 하나로 합치기\n",
    "submission = pd.concat([submission_same, submission_diff])"
   ]
  },
  {
   "cell_type": "code",
   "execution_count": null,
   "metadata": {},
   "outputs": [],
   "source": [
    "import pandas as pd\n",
    "train_data = pd.read_csv('C:/lg_capstone/find_abnormal/data/train_begin.csv')"
   ]
  },
  {
   "cell_type": "code",
   "execution_count": null,
   "metadata": {},
   "outputs": [],
   "source": [
    "# CURE START POSITION Z Collect Result_Fill2, CURE END POSITION Z Collect Result_Fill2 열만 추출\n",
    "train_data = train_data[['CURE START POSITION Z Collect Result_Fill2', 'CURE END POSITION Z Collect Result_Fill2']]"
   ]
  },
  {
   "cell_type": "code",
   "execution_count": null,
   "metadata": {},
   "outputs": [],
   "source": [
    "train_data['CURE START POSITION Z Collect Result_Fill2'].value_counts()"
   ]
  },
  {
   "cell_type": "code",
   "execution_count": null,
   "metadata": {},
   "outputs": [],
   "source": [
    "# 'CURE START POSITION Z Collect Result_Fill2'가 33인 행만 추출\n",
    "train_data_33_33 = train_data[train_data['CURE START POSITION Z Collect Result_Fill2'] == 33 & (train_data['CURE END POSITION Z Collect Result_Fill2'] == 33)]\n",
    "print(len(train_data_33_33))\n",
    "\n",
    "train_data_33_32 = train_data[train_data['CURE START POSITION Z Collect Result_Fill2'] == 33 & (train_data['CURE END POSITION Z Collect Result_Fill2'] == 32)]\n",
    "print(len(train_data_33_32))\n",
    "\n",
    "train_data_33_22 = train_data[train_data['CURE START POSITION Z Collect Result_Fill2'] == 33 & (train_data['CURE END POSITION Z Collect Result_Fill2'] == 22)]\n",
    "print(len(train_data_33_22))"
   ]
  },
  {
   "cell_type": "code",
   "execution_count": null,
   "metadata": {},
   "outputs": [],
   "source": [
    "# 'CURE START POSITION Z Collect Result_Fill2'가 33인 행만 추출\n",
    "train_data_start32 = train_data[train_data['CURE START POSITION Z Collect Result_Fill2'] == 32]\n",
    "train_data_start32['CURE END POSITION Z Collect Result_Fill2'].value_counts()\n",
    "\n",
    "train_data_start32_32 = train_data[train_data['CURE START POSITION Z Collect Result_Fill2'] == 32 & (train_data['CURE END POSITION Z Collect Result_Fill2'] == 32)]\n",
    "print(len(train_data_start32_32))\n",
    "train_data_start32_33 = train_data[train_data['CURE START POSITION Z Collect Result_Fill2'] == 32 & (train_data['CURE END POSITION Z Collect Result_Fill2'] == 33)]\n",
    "print(len(train_data_start32_33))"
   ]
  },
  {
   "cell_type": "code",
   "execution_count": null,
   "metadata": {},
   "outputs": [],
   "source": [
    "# 'CURE START POSITION Z Collect Result_Fill2'가 33인 행만 추출\n",
    "train_data_start22 = train_data[train_data['CURE START POSITION Z Collect Result_Fill2'] == 22]\n",
    "train_data_start22['CURE END POSITION Z Collect Result_Fill2'].value_counts()\n",
    "\n",
    "train_data_start22_32 = train_data[train_data['CURE START POSITION Z Collect Result_Fill2'] == 22 & (train_data['CURE END POSITION Z Collect Result_Fill2'] == 32)]\n",
    "print(len(train_data_start22_32))\n",
    "train_data_start22_22 = train_data[train_data['CURE START POSITION Z Collect Result_Fill2'] == 22 & (train_data['CURE END POSITION Z Collect Result_Fill2'] == 22)]\n",
    "print(len(train_data_start22_22))"
   ]
  },
  {
   "cell_type": "code",
   "execution_count": null,
   "metadata": {},
   "outputs": [],
   "source": [
    "# 'CURE START POSITION Z Collect Result_Fill2'가 33인 행만 추출\n",
    "train_data_start23 = train_data[train_data['CURE START POSITION Z Collect Result_Fill2'] == 23]\n",
    "train_data_start23['CURE END POSITION Z Collect Result_Fill2'].value_counts()\n",
    "\n",
    "print(train_data_start23['CURE END POSITION Z Collect Result_Fill2'].value_counts())\n"
   ]
  },
  {
   "cell_type": "code",
   "execution_count": null,
   "metadata": {},
   "outputs": [],
   "source": []
  }
 ],
 "metadata": {
  "kernelspec": {
   "display_name": "lg_capstone",
   "language": "python",
   "name": "python3"
  },
  "language_info": {
   "codemirror_mode": {
    "name": "ipython",
    "version": 3
   },
   "file_extension": ".py",
   "mimetype": "text/x-python",
   "name": "python",
   "nbconvert_exporter": "python",
   "pygments_lexer": "ipython3",
   "version": "3.12.4"
  }
 },
 "nbformat": 4,
 "nbformat_minor": 2
}
