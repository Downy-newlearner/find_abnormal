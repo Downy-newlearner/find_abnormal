{
 "cells": [
  {
   "cell_type": "code",
   "execution_count": 5,
   "metadata": {},
   "outputs": [],
   "source": [
    "import pandas as pd\n",
    "import numpy as np\n",
    "import matplotlib.pyplot as plt"
   ]
  },
  {
   "cell_type": "code",
   "execution_count": 22,
   "metadata": {},
   "outputs": [],
   "source": [
    "import os\n",
    "\n",
    "def describe(df, df_name, directory=None):\n",
    "    # 디렉토리가 존재하지 않으면 생성\n",
    "    if not os.path.exists(directory):\n",
    "        os.makedirs(directory)\n",
    "\n",
    "    # 파일 경로 지정\n",
    "    file_path = os.path.join(directory, f'{df_name}_summary.txt')\n",
    "\n",
    "    # 파일 쓰기\n",
    "    with open(file_path, 'w') as f:\n",
    "        for i in range(len(df.columns)):\n",
    "            f.write(f'{i + 1}: {df.columns[i]}:\\nnunique: ' +\n",
    "                    str(df[df.columns[i]].nunique()) + \"\\n\" +\n",
    "                    str(df[df.columns[i]].unique()) + \"\\n\")\n",
    "            if df[df.columns[i]].isnull().sum() > 0:\n",
    "                f.write(f'{df.columns[i]} has {df[df.columns[i]].isnull().sum()} missing values\\n\\n')\n",
    "            else:\n",
    "                f.write(f'{df.columns[i]} has no missing values\\n\\n')"
   ]
  },
  {
   "cell_type": "code",
   "execution_count": 23,
   "metadata": {},
   "outputs": [],
   "source": [
    "train_begin = pd.read_csv(\"./data/train_second.csv\")\n",
    "test_begin = pd.read_csv(\"./data/test_begin.csv\")"
   ]
  },
  {
   "cell_type": "code",
   "execution_count": 24,
   "metadata": {},
   "outputs": [],
   "source": [
    "describe(train_begin, \"train_begin\", \"./describe_dataframe\")"
   ]
  }
 ],
 "metadata": {
  "kernelspec": {
   "display_name": "lg_capstone",
   "language": "python",
   "name": "python3"
  },
  "language_info": {
   "codemirror_mode": {
    "name": "ipython",
    "version": 3
   },
   "file_extension": ".py",
   "mimetype": "text/x-python",
   "name": "python",
   "nbconvert_exporter": "python",
   "pygments_lexer": "ipython3",
   "version": "3.12.4"
  }
 },
 "nbformat": 4,
 "nbformat_minor": 2
}
