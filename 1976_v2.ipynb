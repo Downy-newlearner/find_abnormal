{
 "cells": [
  {
   "cell_type": "code",
   "execution_count": 32,
   "metadata": {},
   "outputs": [],
   "source": [
    "# 전처리 패키지\n",
    "import pandas as pd\n",
    "import numpy as np\n",
    "from imblearn.over_sampling import SMOTE\n",
    "from sklearn.preprocessing import StandardScaler, LabelEncoder\n",
    "from sklearn.decomposition import PCA\n",
    "\n",
    "\n",
    "# 시각화 패키지\n",
    "from matplotlib import pyplot as plt\n",
    "import seaborn as sns\n",
    "%matplotlib inline\n",
    "\n",
    "\n",
    "# 모델링 패키지\n",
    "from sklearn.ensemble import RandomForestClassifier\n",
    "# from catboost import CatBoostClassifier\n",
    "from xgboost import XGBClassifier\n",
    "from lightgbm import LGBMClassifier\n",
    "\n",
    "\n",
    "# 모델 평가 및 검증 패키지\n",
    "from sklearn.model_selection import StratifiedKFold, GridSearchCV, train_test_split\n",
    "from sklearn.metrics import accuracy_score, classification_report, f1_score\n",
    "\n",
    "\n",
    "# 기타 패키지\n",
    "import random\n",
    "import os\n",
    "from datetime import datetime\n",
    "import time\n",
    "import math"
   ]
  },
  {
   "cell_type": "code",
   "execution_count": 33,
   "metadata": {},
   "outputs": [],
   "source": [
    "train = pd.read_csv('C:/lg_capstone/find_abnormal/data/train_begin.csv')\n",
    "test = pd.read_csv('C:/lg_capstone/find_abnormal/data/test_begin.csv')\n",
    "# submission = pd.read_csv('./sample_submission.csv')"
   ]
  },
  {
   "cell_type": "code",
   "execution_count": 34,
   "metadata": {},
   "outputs": [],
   "source": [
    "all_data = pd.concat([train, test], sort=False)\n",
    "all_data.reset_index(drop=True, inplace=True) # all_data의 인덱스를 0부터 순차적으로 변경(concat하면 index가 중복될 수 있기 때문에 reset_index() 사용)"
   ]
  },
  {
   "cell_type": "markdown",
   "metadata": {},
   "source": [
    "## 인코딩(범주형 -> 수치형)"
   ]
  },
  {
   "cell_type": "code",
   "execution_count": 35,
   "metadata": {},
   "outputs": [],
   "source": [
    "# 1. 범주형 컬럼들을 Label Encoding하기\n",
    "le = LabelEncoder()\n",
    "\n",
    "# 1) Equipment_Suffix 컬럼을 Label Encoding하기\n",
    "suffixes = ['Dam', 'Fill1', 'Fill2']\n",
    "for suffix in suffixes:\n",
    "    for column in [f'Equipment_{suffix}']:\n",
    "        all_data[column] = all_data[column].astype(str)\n",
    "        le.fit(all_data[column])\n",
    "        all_data[column] = le.transform(all_data[column])\n",
    "\n",
    "\n",
    "# 2) Model.Suffix_Dam, Workorder_Dam 컬럼을 Label Encoding하기\n",
    "li = ['Model.Suffix_Dam','Workorder_Dam']\n",
    "for column in li:\n",
    "    all_data[column] = all_data[column].astype(str)\n",
    "    le.fit(all_data[column])\n",
    "    all_data[column] = le.transform(all_data[column])\n",
    "\n",
    "\n",
    "# 3) Chamber Temp. Judge Value_AutoClave(탈포 판단값) 컬럼을 Label Encoding하기\n",
    "all_data['Chamber Temp. Judge Value_AutoClave'] = all_data['Chamber Temp. Judge Value_AutoClave'].astype(str)\n",
    "le.fit(all_data['Chamber Temp. Judge Value_AutoClave'])\n",
    "all_data['Chamber Temp. Judge Value_AutoClave'] = le.transform(all_data['Chamber Temp. Judge Value_AutoClave'])\n",
    "\n",
    "\n",
    "# 4) GMES_ORIGIN_INSP_JUDGE_CODE Judge Value_AutoClave 컬럼을 Label Encoding하기\n",
    "all_data['GMES_ORIGIN_INSP_JUDGE_CODE Collect Result_AutoClave'] = all_data['GMES_ORIGIN_INSP_JUDGE_CODE Collect Result_AutoClave'].astype(str)\n",
    "le.fit(all_data['GMES_ORIGIN_INSP_JUDGE_CODE Collect Result_AutoClave'])\n",
    "all_data['GMES_ORIGIN_INSP_JUDGE_CODE Collect Result_AutoClave'] = le.transform(all_data['GMES_ORIGIN_INSP_JUDGE_CODE Collect Result_AutoClave'])\n",
    "all_data = all_data.drop(columns='GMES_ORIGIN_INSP_JUDGE_CODE Judge Value_AutoClave')"
   ]
  },
  {
   "cell_type": "markdown",
   "metadata": {},
   "source": [
    "## Equipment(Line #1, #2) 또는 PalletID 또는 Production Qty 중 하나라도 다른 데이터 확인하기"
   ]
  },
  {
   "cell_type": "markdown",
   "metadata": {},
   "source": [
    "<span style=\"font-size: 25px\">all_data -> same_data & diff_data</span>\n",
    "<br>\n",
    "<br>\n",
    "- same_data: Equipment(Line #1, #2)와 PalletID와 Production Qty가 모두 같은 데이터<br><br>\n",
    "- diff_data: Equipment(Line #1, #2) 또는 PalletID 또는 Production Qty 중 하나라도 다른 데이터"
   ]
  },
  {
   "cell_type": "code",
   "execution_count": 36,
   "metadata": {},
   "outputs": [],
   "source": [
    "# Equipment_Dam, Equipment_Fill1, Equipment_Fill2의 값을 비교하여 다르면 해당 데이터의 인덱스를 index_of_diff, 같으면 index_of_same 저장\n",
    "index_of_diff = []\n",
    "index_of_same = []\n",
    "\n",
    "dam_values = all_data['Equipment_Dam'].values\n",
    "fill1_values = all_data['Equipment_Fill1'].values\n",
    "fill2_values = all_data['Equipment_Fill2'].values\n",
    "\n",
    "index_of_diff = np.where((dam_values != fill1_values) | (dam_values != fill2_values))[0].tolist()\n",
    "index_of_same = np.where((dam_values == fill1_values) & (dam_values == fill2_values))[0].tolist()\n",
    "\n",
    "\n",
    "# PalletID Collect Result_Dam, PalletID Collect Result_Fill1, PalletID Collect Result_Dam 의 값을 비교하여 다르면 해당 데이터의 인덱스를 index_of_diff, 같으면 index_of_same append\n",
    "index_of_diff2 = []\n",
    "index_of_same2 = []\n",
    "\n",
    "dam_values = all_data['PalletID Collect Result_Dam'].values\n",
    "fill1_values = all_data['PalletID Collect Result_Fill1'].values\n",
    "fill2_values = all_data['PalletID Collect Result_Fill2'].values\n",
    "\n",
    "index_of_diff2 = np.where((dam_values != fill1_values) | (dam_values != fill2_values))[0].tolist()\n",
    "index_of_same2 = np.where((dam_values == fill1_values) & (dam_values == fill2_values))[0].tolist()\n",
    "\n",
    "\n",
    "# Production Qty Collect Result_Dam, Production Qty Collect Result_Fill1, Production Qty Collect Result_Fill2의 값을 비교하여 다르면 해당 데이터의 인덱스를 index_of_diff, 같으면 index_of_same append\n",
    "index_of_diff3 = []\n",
    "index_of_same3 = []\n",
    "\n",
    "dam_values = all_data['Production Qty Collect Result_Dam'].values\n",
    "fill1_values = all_data['Production Qty Collect Result_Fill1'].values\n",
    "fill2_values = all_data['Production Qty Collect Result_Fill2'].values\n",
    "\n",
    "index_of_diff3 = np.where((dam_values != fill1_values) | (dam_values != fill2_values))[0].tolist()\n",
    "index_of_same3 = np.where((dam_values == fill1_values) & (dam_values == fill2_values))[0].tolist()\n"
   ]
  },
  {
   "cell_type": "code",
   "execution_count": 37,
   "metadata": {},
   "outputs": [],
   "source": [
    "# 3개의 필터링 결과 합치기\n",
    "index_of_diff_total = list(set(index_of_diff + index_of_diff2 + index_of_diff3))\n",
    "\n",
    "# index_of_diff_total의 중복값 제거\n",
    "index_of_diff_total = list(set(index_of_diff_total))\n",
    "\n",
    "\n",
    "# index_of_diff_total에 해당하는 데이터를 diff_data에 저장하고, 해당하지 않는 나머지 데이터를 same_data에 저장\n",
    "diff_data = all_data.loc[index_of_diff_total]\n",
    "same_data = all_data.drop(index=index_of_diff_total)"
   ]
  },
  {
   "cell_type": "code",
   "execution_count": 38,
   "metadata": {},
   "outputs": [
    {
     "name": "stderr",
     "output_type": "stream",
     "text": [
      "C:\\Users\\user\\AppData\\Local\\Temp\\ipykernel_9600\\450733750.py:5: SettingWithCopyWarning: \n",
      "A value is trying to be set on a copy of a slice from a DataFrame.\n",
      "Try using .loc[row_indexer,col_indexer] = value instead\n",
      "\n",
      "See the caveats in the documentation: https://pandas.pydata.org/pandas-docs/stable/user_guide/indexing.html#returning-a-view-versus-a-copy\n",
      "  diff_test['target'] = 'AbNormal'\n"
     ]
    }
   ],
   "source": [
    "# diff_data의 'target' 컬럼이 nan인 행만 추출하여 diff_test에 저장\n",
    "diff_test = diff_data[diff_data['target'].isnull()]\n",
    "\n",
    "# diff_test의 'target' 컬럼의 값을 모두 'AbNormal'로 변경\n",
    "diff_test['target'] = 'AbNormal'\n",
    "\n",
    "# diff_test의 'Set ID'와 'target' 컬럼만 선택하여 submission_diff에 저장\n",
    "submission_diff = diff_test[['Set ID', 'target']]"
   ]
  },
  {
   "cell_type": "markdown",
   "metadata": {},
   "source": [
    "## same_data 전처리"
   ]
  },
  {
   "cell_type": "code",
   "execution_count": 39,
   "metadata": {},
   "outputs": [],
   "source": [
    "all_data = same_data"
   ]
  },
  {
   "cell_type": "markdown",
   "metadata": {},
   "source": [
    "### 불필요한 컬럼 제거하기"
   ]
  },
  {
   "cell_type": "code",
   "execution_count": 40,
   "metadata": {},
   "outputs": [],
   "source": [
    "all_data = all_data.drop(columns=['Equipment_Fill1','Equipment_Fill2',\n",
    "                                    'PalletID Collect Result_Dam','PalletID Collect Result_Fill1','PalletID Collect Result_Fill2',\n",
    "                                    # 'Production Qty Collect Result_Fill1','Production Qty Collect Result_Fill2'\n",
    "                                  ])"
   ]
  },
  {
   "cell_type": "code",
   "execution_count": 41,
   "metadata": {},
   "outputs": [],
   "source": [
    "unnecessary_columns =['Model.Suffix_AutoClave','Model.Suffix_Fill1','Model.Suffix_Fill2',\n",
    "    'Workorder_AutoClave','Workorder_Fill1','Workorder_Fill2',\n",
    "    'Receip No Collect Result_Fill1','Receip No Collect Result_Fill2',]\n",
    "all_data = all_data.drop(unnecessary_columns , axis=1)\n",
    "\n",
    "# 열 목록 정의\n",
    "cols_to_average = ['Stage1 Circle1 Distance Speed Collect Result_Dam',\n",
    "    'Stage1 Circle2 Distance Speed Collect Result_Dam',\n",
    "    'Stage1 Circle3 Distance Speed Collect Result_Dam',\n",
    "    'Stage1 Circle4 Distance Speed Collect Result_Dam',\n",
    "    'Stage1 Line1 Distance Speed Collect Result_Dam',\n",
    "    'Stage1 Line2 Distance Speed Collect Result_Dam',\n",
    "    'Stage1 Line3 Distance Speed Collect Result_Dam',\n",
    "    'Stage1 Line4 Distance Speed Collect Result_Dam',\n",
    "    'Stage2 Circle1 Distance Speed Collect Result_Dam',\n",
    "    'Stage2 Circle2 Distance Speed Collect Result_Dam',\n",
    "    'Stage2 Circle3 Distance Speed Collect Result_Dam',\n",
    "    'Stage2 Circle4 Distance Speed Collect Result_Dam',\n",
    "    'Stage2 Line1 Distance Speed Collect Result_Dam',\n",
    "    'Stage2 Line2 Distance Speed Collect Result_Dam',\n",
    "    'Stage2 Line3 Distance Speed Collect Result_Dam',\n",
    "    'Stage2 Line4 Distance Speed Collect Result_Dam',\n",
    "    'Stage3 Circle1 Distance Speed Collect Result_Dam',\n",
    "    'Stage3 Circle2 Distance Speed Collect Result_Dam',\n",
    "    'Stage3 Circle3 Distance Speed Collect Result_Dam',\n",
    "    'Stage3 Circle4 Distance Speed Collect Result_Dam',\n",
    "    'Stage3 Line1 Distance Speed Collect Result_Dam',\n",
    "    'Stage3 Line2 Distance Speed Collect Result_Dam',\n",
    "    'Stage3 Line3 Distance Speed Collect Result_Dam',\n",
    "    'Stage3 Line4 Distance Speed Collect Result_Dam'\n",
    "]\n",
    "\n",
    "# 평균 값 계산 및 새로운 열 추가\n",
    "# all_data['Average Stage1 Circle Distance Speed Collect Result_Dam'] = all_data[cols_to_average[:4]].mean(axis=1)\n",
    "# all_data['Average Stage1 Line Distance Speed Collect Result_Dam'] = all_data[cols_to_average[4:8]].mean(axis=1)\n",
    "# all_data['Average Stage2 Circle Distance Speed Collect Result_Dam'] = all_data[cols_to_average[8:12]].mean(axis=1)\n",
    "# all_data['Average Stage2 Line Distance Speed Collect Result_Dam'] = all_data[cols_to_average[12:16]].mean(axis=1)\n",
    "# all_data['Average Stage3 Circle Distance Speed Collect Result_Dam'] = all_data[cols_to_average[16:20]].mean(axis=1)\n",
    "# all_data['Average Stage3 Line Distance Speed Collect Result_Dam'] = all_data[cols_to_average[20:24]].mean(axis=1)\n",
    "\n",
    "all_data['Average Stage1 CL Distance Speed Collect Result_Dam'] = all_data[cols_to_average[:8]].mean(axis=1)\n",
    "all_data['Average Stage2 CL Distance Speed Collect Result_Dam'] = all_data[cols_to_average[8:16]].mean(axis=1)\n",
    "all_data['Average Stage3 CL Distance Speed Collect Result_Dam'] = all_data[cols_to_average[16:]].mean(axis=1)\n",
    "\n",
    "# all_data['Average CL Distance Speed Collect Result_Dam'] = all_data[cols_to_average].mean(axis=1)\n",
    "\n",
    "# 기존 열 삭제\n",
    "all_data = all_data.drop(columns=cols_to_average)\n",
    "\n",
    "\n",
    "cols_to_average = [\n",
    "                'HEAD NORMAL COORDINATE X AXIS(Stage1) Collect Result_Dam',\n",
    "                  'HEAD NORMAL COORDINATE X AXIS(Stage2) Collect Result_Dam',\n",
    "                  'HEAD NORMAL COORDINATE X AXIS(Stage3) Collect Result_Dam',\n",
    "                  'HEAD NORMAL COORDINATE Y AXIS(Stage1) Collect Result_Dam',\n",
    "                  'HEAD NORMAL COORDINATE Y AXIS(Stage2) Collect Result_Dam',\n",
    "                  'HEAD NORMAL COORDINATE Y AXIS(Stage3) Collect Result_Dam',\n",
    "                  'HEAD NORMAL COORDINATE Z AXIS(Stage1) Collect Result_Dam',\n",
    "                  'HEAD NORMAL COORDINATE Z AXIS(Stage2) Collect Result_Dam',\n",
    "                  'HEAD NORMAL COORDINATE Z AXIS(Stage3) Collect Result_Dam',\n",
    "\n",
    "                  'HEAD NORMAL COORDINATE X AXIS(Stage1) Collect Result_Fill1',\n",
    "                  'HEAD NORMAL COORDINATE X AXIS(Stage2) Collect Result_Fill1',\n",
    "                  'HEAD NORMAL COORDINATE X AXIS(Stage3) Collect Result_Fill1',\n",
    "                  'HEAD NORMAL COORDINATE Y AXIS(Stage1) Collect Result_Fill1',\n",
    "                  'HEAD NORMAL COORDINATE Y AXIS(Stage2) Collect Result_Fill1',\n",
    "                  'HEAD NORMAL COORDINATE Y AXIS(Stage3) Collect Result_Fill1',\n",
    "                  'HEAD NORMAL COORDINATE Z AXIS(Stage1) Collect Result_Fill1',\n",
    "                  'HEAD NORMAL COORDINATE Z AXIS(Stage2) Collect Result_Fill1',\n",
    "                  'HEAD NORMAL COORDINATE Z AXIS(Stage3) Collect Result_Fill1',\n",
    "\n",
    "                  'HEAD NORMAL COORDINATE X AXIS(Stage1) Collect Result_Fill2',\n",
    "                  'HEAD NORMAL COORDINATE X AXIS(Stage2) Collect Result_Fill2',\n",
    "                  'HEAD NORMAL COORDINATE X AXIS(Stage3) Collect Result_Fill2',\n",
    "                  'HEAD NORMAL COORDINATE Y AXIS(Stage1) Collect Result_Fill2',\n",
    "                  'HEAD NORMAL COORDINATE Y AXIS(Stage2) Collect Result_Fill2',\n",
    "                  'HEAD NORMAL COORDINATE Y AXIS(Stage3) Collect Result_Fill2',\n",
    "                  'HEAD NORMAL COORDINATE Z AXIS(Stage1) Collect Result_Fill2',\n",
    "                  'HEAD NORMAL COORDINATE Z AXIS(Stage2) Collect Result_Fill2',\n",
    "                  'HEAD NORMAL COORDINATE Z AXIS(Stage3) Collect Result_Fill2',        \n",
    "]\n",
    "\n",
    "all_data['HEAD NORMAL COORDINATE X AXIS(Stage) Collect Result_Dam'] = all_data[cols_to_average[:3]].mean(axis=1)\n",
    "all_data['HEAD NORMAL COORDINATE Y AXIS(Stage) Collect Result_Dam'] = all_data[cols_to_average[3:6]].mean(axis=1)\n",
    "all_data['HEAD NORMAL COORDINATE Z AXIS(Stage) Collect Result_Dam'] = all_data[cols_to_average[6:9]].mean(axis=1)\n",
    "\n",
    "all_data['HEAD NORMAL COORDINATE X AXIS(Stage) Collect Result_Fill1'] = all_data[cols_to_average[9:12]].mean(axis=1)\n",
    "all_data['HEAD NORMAL COORDINATE Y AXIS(Stage) Collect Result_Fill1'] = all_data[cols_to_average[12:15]].mean(axis=1)\n",
    "all_data['HEAD NORMAL COORDINATE Z AXIS(Stage) Collect Result_Fill1'] = all_data[cols_to_average[15:18]].mean(axis=1)\n",
    "\n",
    "all_data['HEAD NORMAL COORDINATE X AXIS(Stage) Collect Result_Fill2'] = all_data[cols_to_average[18:21]].mean(axis=1)\n",
    "all_data['HEAD NORMAL COORDINATE Y AXIS(Stage) Collect Result_Fill2'] = all_data[cols_to_average[21:24]].mean(axis=1)\n",
    "all_data['HEAD NORMAL COORDINATE Z AXIS(Stage) Collect Result_Fill2'] = all_data[cols_to_average[24:]].mean(axis=1)\n",
    "# all_data['HEAD NORMAL COORDINATE X AXIS(Stage) Collect Result_Fill2'] = abs(all_data[cols_to_average[18]]-all_data[cols_to_average[19]])+abs(all_data[cols_to_average[19]]-all_data[cols_to_average[20]])\n",
    "\n",
    "\n",
    "# 기존 열 삭제\n",
    "all_data = all_data.drop(columns=cols_to_average)\n",
    "\n",
    "\n",
    "all_data['CURE POSITION X Collect Result_Dam'] = abs(all_data['CURE START POSITION X Collect Result_Dam']-all_data['CURE END POSITION X Collect Result_Dam'])\n",
    "all_data['CURE POSITION Z Collect Result_Dam'] = abs(all_data['CURE START POSITION Z Collect Result_Dam']-all_data['CURE END POSITION Z Collect Result_Dam'])\n",
    "all_data['CURE POSITION Θ Collect Result_Dam'] = abs(all_data['CURE START POSITION Θ Collect Result_Dam']-all_data['CURE END POSITION Θ Collect Result_Dam'])\n",
    "\n",
    "# all_data['CURE TIME X Collect Result_Dam'] = abs(all_data['CURE START POSITION X Collect Result_Dam']-all_data['CURE END POSITION X Collect Result_Dam'])/all_data['CURE SPEED Collect Result_Dam']\n",
    "# all_data['CURE TIME Z Collect Result_Dam'] = abs(all_data['CURE START POSITION Z Collect Result_Dam']-all_data['CURE END POSITION Z Collect Result_Dam'])/all_data['CURE SPEED Collect Result_Dam']\n",
    "# all_data['CURE TIME Θ Collect Result_Dam'] = abs(all_data['CURE START POSITION Θ Collect Result_Dam']-all_data['CURE END POSITION Θ Collect Result_Dam'])/all_data['CURE SPEED Collect Result_Dam']\n",
    "\n",
    "all_data['CURE POSITION X Collect Result_Fill2'] = abs(all_data['CURE START POSITION X Collect Result_Fill2']-all_data['CURE END POSITION X Collect Result_Fill2'])\n",
    "all_data['CURE POSITION Z Collect Result_Fill2'] = abs(all_data['CURE START POSITION Z Collect Result_Fill2']-all_data['CURE STANDBY POSITION Z Collect Result_Fill2'])+abs(all_data['CURE STANDBY POSITION Z Collect Result_Fill2']-all_data['CURE END POSITION Z Collect Result_Fill2'])\n",
    "\n",
    "# all_data['CURE TIME X Collect Result_Fill2'] = abs(all_data['CURE START POSITION X Collect Result_Fill2']-all_data['CURE END POSITION X Collect Result_Fill2'])/all_data['CURE SPEED Collect Result_Fill2']\n",
    "# all_data['CURE TIME Z Collect Result_Fill2'] = (abs(all_data['CURE START POSITION Z Collect Result_Fill2']-all_data['CURE STANDBY POSITION Z Collect Result_Fill2'])+abs(all_data['CURE STANDBY POSITION Z Collect Result_Fill2']-all_data['CURE END POSITION Z Collect Result_Fill2']))/all_data['CURE SPEED Collect Result_Fill2']\n",
    "\n",
    "\n",
    "# 기존 열 삭제\n",
    "all_data = all_data.drop(columns=[\n",
    "                                  'CURE START POSITION X Collect Result_Dam','CURE START POSITION Θ Collect Result_Dam',\n",
    "                                  'CURE END POSITION X Collect Result_Dam','CURE END POSITION Z Collect Result_Dam','CURE END POSITION Θ Collect Result_Dam','CURE SPEED Collect Result_Dam',\n",
    "                                  'CURE STANDBY POSITION Z Collect Result_Fill2',\n",
    "                                  'CURE START POSITION X Collect Result_Fill2','CURE START POSITION Z Collect Result_Fill2',\n",
    "                                  'CURE END POSITION X Collect Result_Fill2','CURE END POSITION Z Collect Result_Fill2','CURE SPEED Collect Result_Fill2'\n",
    "                                  ])\n",
    "\n",
    "\n",
    "\n",
    "\n",
    "\n",
    "\n",
    "all_data['Machine Tact time'] = all_data['Machine Tact time Collect Result_Dam'] + all_data['Machine Tact time Collect Result_Fill1'] + all_data['Machine Tact time Collect Result_Fill2']\n",
    "\n",
    "all_data = all_data.drop(columns=['Machine Tact time Collect Result_Dam','Machine Tact time Collect Result_Fill1','Machine Tact time Collect Result_Fill2'])"
   ]
  },
  {
   "cell_type": "code",
   "execution_count": 42,
   "metadata": {},
   "outputs": [],
   "source": [
    "# 추가적인 상호작용 피처 생성\n",
    "# 속도와 시간의 조합으로 새로운 피처 생성 (예: 거리 계산)\n",
    "all_data['Speed_Time_Interaction_Stage1 Result_Dam'] = (\n",
    "    all_data['DISCHARGED SPEED OF RESIN Collect Result_Dam'] * \n",
    "    all_data['DISCHARGED TIME OF RESIN(Stage1) Collect Result_Dam']\n",
    ")\n",
    "\n",
    "all_data['Speed_Time_Interaction_Stage2 Result_Dam'] = (\n",
    "    all_data['DISCHARGED SPEED OF RESIN Collect Result_Dam'] * \n",
    "    all_data['DISCHARGED TIME OF RESIN(Stage2) Collect Result_Dam']\n",
    ")\n",
    "\n",
    "all_data['Speed_Time_Interaction_Stage3 Result_Dam'] = (\n",
    "    all_data['DISCHARGED SPEED OF RESIN Collect Result_Dam'] * \n",
    "    all_data['DISCHARGED TIME OF RESIN(Stage3) Collect Result_Dam']\n",
    ")\n",
    "\n",
    "all_data['Total Speed_Time Result_Dam'] = all_data['Speed_Time_Interaction_Stage1 Result_Dam']+all_data['Speed_Time_Interaction_Stage2 Result_Dam']+all_data['Speed_Time_Interaction_Stage3 Result_Dam']\n",
    "\n",
    "# 도메인 지식을 활용한 피처 생성: 예를 들어 레진 분사 과정에서 발생할 수 있는 레진 양과 관련된 계산\n",
    "all_data['Total_Dispense_Volume Result_Dam'] = (\n",
    "    all_data['Dispense Volume(Stage1) Collect Result_Dam'] +\n",
    "    all_data['Dispense Volume(Stage2) Collect Result_Dam'] +\n",
    "    all_data['Dispense Volume(Stage3) Collect Result_Dam']\n",
    ")\n",
    "\n",
    "all_data = all_data.drop(columns=[\n",
    "                                    'DISCHARGED TIME OF RESIN(Stage1) Collect Result_Dam',\n",
    "                                    'DISCHARGED TIME OF RESIN(Stage2) Collect Result_Dam',\n",
    "                                    'DISCHARGED TIME OF RESIN(Stage3) Collect Result_Dam',\n",
    "                                    'Dispense Volume(Stage1) Collect Result_Dam',\n",
    "                                    'Dispense Volume(Stage2) Collect Result_Dam',\n",
    "                                    'Dispense Volume(Stage3) Collect Result_Dam'         \n",
    "                                              ])"
   ]
  },
  {
   "cell_type": "code",
   "execution_count": 43,
   "metadata": {},
   "outputs": [],
   "source": [
    "a = (\n",
    "    all_data['DISCHARGED SPEED OF RESIN Collect Result_Fill1'] * \n",
    "    all_data['DISCHARGED TIME OF RESIN(Stage1) Collect Result_Fill1']\n",
    ")\n",
    "\n",
    "b = (\n",
    "    all_data['DISCHARGED SPEED OF RESIN Collect Result_Fill1'] * \n",
    "    all_data['DISCHARGED TIME OF RESIN(Stage2) Collect Result_Fill1']\n",
    ")\n",
    "\n",
    "c = (\n",
    "    all_data['DISCHARGED SPEED OF RESIN Collect Result_Fill1'] * \n",
    "    all_data['DISCHARGED TIME OF RESIN(Stage3) Collect Result_Fill1']\n",
    ")\n",
    "\n",
    "all_data['Total Speed_Time Result_Fill1'] = a+b+c\n",
    "\n",
    "# 도메인 지식을 활용한 피처 생성: 예를 들어 레진 분사 과정에서 발생할 수 있는 레진 양과 관련된 계산\n",
    "all_data['Total_Dispense_Volume Result_Fill1'] = (\n",
    "    all_data['Dispense Volume(Stage1) Collect Result_Fill1'] +\n",
    "    all_data['Dispense Volume(Stage2) Collect Result_Fill1']+\n",
    "    all_data['Dispense Volume(Stage3) Collect Result_Fill1']\n",
    ")\n",
    "\n",
    "all_data = all_data.drop(columns=[\n",
    "                                    'DISCHARGED TIME OF RESIN(Stage1) Collect Result_Fill1',\n",
    "                                    'DISCHARGED TIME OF RESIN(Stage2) Collect Result_Fill1',\n",
    "                                    'DISCHARGED TIME OF RESIN(Stage3) Collect Result_Fill1',\n",
    "                                    'Dispense Volume(Stage1) Collect Result_Fill1',\n",
    "                                    'Dispense Volume(Stage2) Collect Result_Fill1',\n",
    "                                    'Dispense Volume(Stage3) Collect Result_Fill1'        \n",
    "                                    ])"
   ]
  },
  {
   "cell_type": "code",
   "execution_count": 44,
   "metadata": {},
   "outputs": [],
   "source": [
    "\n",
    "all_data['1st Pressure Time Result_AutoClave'] = all_data['1st Pressure Collect Result_AutoClave'] * all_data['1st Pressure 1st Pressure Unit Time_AutoClave']\n",
    "all_data['2nd Pressure Time Result_AutoClave'] = all_data['2nd Pressure Collect Result_AutoClave'] * all_data['2nd Pressure Unit Time_AutoClave']\n",
    "all_data['3rd Pressure Time Result_AutoClave'] = all_data['3rd Pressure Collect Result_AutoClave'] * all_data['3rd Pressure Unit Time_AutoClave']\n",
    "\n",
    "a = all_data['1st Pressure Collect Result_AutoClave'] * all_data['1st Pressure 1st Pressure Unit Time_AutoClave']\n",
    "b = all_data['2nd Pressure Collect Result_AutoClave'] * all_data['2nd Pressure Unit Time_AutoClave']\n",
    "c = all_data['3rd Pressure Collect Result_AutoClave'] * all_data['3rd Pressure Unit Time_AutoClave']\n",
    "\n",
    "all_data['Pressure Amount'] = a+b+c\n",
    "all_data.replace([np.inf, -np.inf], 0, inplace=True)\n",
    "\n",
    "# 삭제할 칼럼 목록\n",
    "# columns_to_drop = [\n",
    "#     'THICKNESS 1 Collect Result_Dam',\n",
    "#     'THICKNESS 2 Collect Result_Dam',\n",
    "#     'THICKNESS 3 Collect Result_Dam',\n",
    "#     '1st Pressure Collect Result_AutoClave',\n",
    "#     '1st Pressure 1st Pressure Unit Time_AutoClave',\n",
    "#     '2nd Pressure Collect Result_AutoClave',\n",
    "#     '2nd Pressure Unit Time_AutoClave',\n",
    "#     '3rd Pressure Collect Result_AutoClave',\n",
    "#     '3rd Pressure Unit Time_AutoClave',\n",
    "#     'Chamber Temp. Collect Result_AutoClave',\n",
    "#     'Chamber Temp. Unit Time_AutoClave',\n",
    "# ]\n",
    "\n",
    "# 칼럼 삭제\n",
    "# all_data = all_data.drop(columns=columns_to_drop)"
   ]
  },
  {
   "cell_type": "markdown",
   "metadata": {},
   "source": [
    "### 비대칭성 높은 칼럼 정규화"
   ]
  },
  {
   "cell_type": "code",
   "execution_count": 45,
   "metadata": {},
   "outputs": [],
   "source": [
    "a=[]\n",
    "for c in all_data.columns:\n",
    "    if all_data[c].nunique()==1:\n",
    "        a.append(c)\n",
    "all_data.drop(columns=a, inplace=True)\n",
    "\n",
    "\n",
    "# 모든 칼럼의 왜도(Skewness) 계산\n",
    "train_X = all_data[~pd.isnull(all_data['target'])]\n",
    "train_x = train_X.drop(columns=['target','Set ID'])\n",
    "skewness = train_x.skew().sort_values(ascending=False)\n",
    "\n",
    "# 비대칭성이 높은 칼럼(왜도의 절대값이 1보다 큰 칼럼) 추출\n",
    "high_skew_cols_list = skewness[abs(skewness) > 1].index.tolist()\n",
    "\n",
    "# 로그 변환을 위한 작은 상수 추가\n",
    "epsilon = 1e-6\n",
    "\n",
    "# 로그 변환을 적용할 칼럼 리스트에서 'PalletID'와 'Production Qty'를 제외\n",
    "high_skew_cols_list = [col for col in high_skew_cols_list if col not in ['PalletID', 'Production Qty']]\n",
    "\n",
    "# 로그 변환 적용\n",
    "for col in high_skew_cols_list:\n",
    "    if any(all_data[col] <= 0):  # 0 또는 음수 값이 있는 경우 상수 추가\n",
    "        all_data[col] = np.log1p(all_data[col] + epsilon)\n",
    "    else:\n",
    "        all_data[col] = np.log1p(all_data[col])"
   ]
  },
  {
   "cell_type": "markdown",
   "metadata": {},
   "source": [
    "### 표준화"
   ]
  },
  {
   "cell_type": "code",
   "execution_count": 46,
   "metadata": {},
   "outputs": [],
   "source": [
    "scaler = StandardScaler()\n",
    "all_data[high_skew_cols_list] = scaler.fit_transform(all_data[high_skew_cols_list])\n"
   ]
  },
  {
   "cell_type": "markdown",
   "metadata": {},
   "source": [
    "### 결측치 처리"
   ]
  },
  {
   "cell_type": "code",
   "execution_count": 47,
   "metadata": {},
   "outputs": [],
   "source": [
    "# NaN 값을 0으로 대체\n",
    "# all_data['AVERAGE DISCHARGED SPEED Fill1'] = all_data['AVERAGE DISCHARGED SPEED Fill1'].fillna(0)\n",
    "# all_data['Average SPEED PER TIME Fill1'] = all_data['Average SPEED PER TIME Fill1'].fillna(0)\n",
    "all_data.fillna({col: 0 for col in all_data.columns if col not in ['target', 'Set ID']}, inplace=True)\n",
    "\n",
    "train_X = all_data[~pd.isnull(all_data['target'])]\n",
    "train_x = train_X.drop(columns='Set ID')"
   ]
  },
  {
   "cell_type": "markdown",
   "metadata": {},
   "source": [
    "### 상관계수 절대값 상위 40개 추출"
   ]
  },
  {
   "cell_type": "code",
   "execution_count": 48,
   "metadata": {},
   "outputs": [
    {
     "name": "stdout",
     "output_type": "stream",
     "text": [
      "Top 20 Correlations with Target:\n",
      "target                                                       1.000000\n",
      "Speed_Time_Interaction_Stage3 Result_Dam                     0.066992\n",
      "Speed_Time_Interaction_Stage1 Result_Dam                     0.066780\n",
      "Total Speed_Time Result_Dam                                  0.066550\n",
      "Head Zero Position Y Collect Result_Dam                      0.065833\n",
      "Average Stage2 CL Distance Speed Collect Result_Dam          0.063550\n",
      "Workorder_Dam                                                0.059662\n",
      "Speed_Time_Interaction_Stage2 Result_Dam                     0.058925\n",
      "Head Purge Position Z Collect Result_Fill1                   0.058668\n",
      "Average Stage3 CL Distance Speed Collect Result_Dam          0.057233\n",
      "Average Stage1 CL Distance Speed Collect Result_Dam          0.057227\n",
      "Machine Tact time                                            0.055966\n",
      "Total Speed_Time Result_Fill1                                0.054609\n",
      "HEAD NORMAL COORDINATE X AXIS(Stage) Collect Result_Fill1    0.053628\n",
      "Head Purge Position Z Collect Result_Dam                     0.052814\n",
      "Total_Dispense_Volume Result_Fill1                           0.048888\n",
      "Total_Dispense_Volume Result_Dam                             0.046015\n",
      "HEAD NORMAL COORDINATE Z AXIS(Stage) Collect Result_Dam      0.041068\n",
      "DISCHARGED SPEED OF RESIN Collect Result_Dam                 0.039994\n",
      "Head Clean Position Z Collect Result_Dam                     0.039445\n",
      "Name: target, dtype: float64\n"
     ]
    },
    {
     "data": {
      "image/png": "[encoded data removed]",
      "text/plain": [
       "<Figure size 1000x800 with 1 Axes>"
      ]
     },
     "metadata": {},
     "output_type": "display_data"
    }
   ],
   "source": [
    "# LabelEncoder 초기화\n",
    "le = LabelEncoder()\n",
    "\n",
    "# target과 feature 분리\n",
    "X = train_x.drop(columns=['target'])  # target을 제외한 피처들\n",
    "y = train_X['target']  # target 변수\n",
    "\n",
    "# target을 문자열로 변환 후 Label Encoding\n",
    "y = y.astype(str)\n",
    "y = le.fit_transform(y)\n",
    "\n",
    "# 데이터프레임에 target 추가 (상관계수를 계산하기 위해)\n",
    "df = X.copy()\n",
    "df['target'] = y\n",
    "\n",
    "# 상관계수 계산\n",
    "correlation_matrix = df.corr()\n",
    "\n",
    "# target과의 상관계수 추출 및 절대값 기준 상위 20개 선택\n",
    "target_corr = correlation_matrix['target'].abs().sort_values(ascending=False).head(40)\n",
    "\n",
    "top_10_corr = target_corr.head(20)\n",
    "print(\"Top 20 Correlations with Target:\")\n",
    "print(top_10_corr)\n",
    "\n",
    "# 상위 20개의 피처 목록 추출 (target 포함)\n",
    "top_features = target_corr.index.tolist()\n",
    "top_features.append('Equipment_Dam')\n",
    "# all_data에서 상위 20개의 피처만 선택\n",
    "all_data_top20 = all_data[top_features]\n",
    "\n",
    "# 상관계수 시각화\n",
    "plt.figure(figsize=(10, 8))\n",
    "sns.barplot(x=target_corr.values, y=target_corr.index)\n",
    "plt.title('Top 20 Absolute Correlations with Target')\n",
    "plt.show()\n"
   ]
  },
  {
   "cell_type": "code",
   "execution_count": 49,
   "metadata": {},
   "outputs": [],
   "source": [
    "train_X = all_data_top20[~pd.isnull(all_data['target'])]\n",
    "# train_x = train_X.drop(columns='Set ID')"
   ]
  },
  {
   "cell_type": "markdown",
   "metadata": {},
   "source": [
    "### PCA 적용"
   ]
  },
  {
   "cell_type": "code",
   "execution_count": 50,
   "metadata": {},
   "outputs": [
    {
     "data": {
      "text/plain": [
       "((40413, 15),\n",
       " array([0.39391682, 0.11954676, 0.0818205 , 0.06043446, 0.0524523 ,\n",
       "        0.04433725, 0.03743312, 0.02808113, 0.0251551 , 0.02462576,\n",
       "        0.022269  , 0.02127489, 0.01951217, 0.01230955, 0.01049671]))"
      ]
     },
     "execution_count": 50,
     "metadata": {},
     "output_type": "execute_result"
    }
   ],
   "source": [
    "# 타겟 변수를 제외한 피처들만 사용\n",
    "features = train_X.drop(columns=['target'])\n",
    "\n",
    "# 데이터 정규화\n",
    "scaler = StandardScaler()\n",
    "scaled_features = scaler.fit_transform(features)\n",
    "\n",
    "# PCA 적용\n",
    "pca = PCA(n_components=0.95)  # 설명 분산의 95%를 유지하도록 설정\n",
    "pca_features = pca.fit_transform(scaled_features)\n",
    "\n",
    "# PCA 적용 후 데이터셋의 형태 확인\n",
    "pca_features_shape = pca_features.shape\n",
    "\n",
    "# 설명된 분산 비율\n",
    "explained_variance = pca.explained_variance_ratio_\n",
    "\n",
    "pca_features_shape, explained_variance"
   ]
  },
  {
   "cell_type": "code",
   "execution_count": 51,
   "metadata": {},
   "outputs": [],
   "source": [
    "test1 = all_data_top20[pd.isnull(all_data_top20['target'])]\n",
    "test2 = all_data[pd.isnull(all_data['target'])]\n",
    "# test_x = test.drop(columns=['Set ID','target'])\n",
    "test_x = test1.drop(columns=['target'])"
   ]
  },
  {
   "cell_type": "markdown",
   "metadata": {},
   "source": [
    "## 모델1 - 기본 모델 훈련"
   ]
  },
  {
   "cell_type": "code",
   "execution_count": 52,
   "metadata": {},
   "outputs": [],
   "source": [
    "from sklearn.ensemble import RandomForestClassifier\n",
    "\n",
    "# 타겟 변수\n",
    "target = train_X['target']\n",
    "\n",
    "target = target.astype(str)\n",
    "target = le.fit_transform(target)\n",
    "\n",
    "# 데이터 분리 (학습용 80%, 검증용 20%)\n",
    "X_train, X_val, y_train, y_val = train_test_split(pca_features, target, test_size=0.2, random_state=42)\n",
    "\n",
    "# SMOTE 적용\n",
    "smote = SMOTE(random_state=42)\n",
    "X_train_smote, y_train_smote = smote.fit_resample(X_train, y_train)"
   ]
  },
  {
   "cell_type": "code",
   "execution_count": 53,
   "metadata": {},
   "outputs": [],
   "source": [
    "\n",
    "\n",
    "# # 1. 기본 랜덤 포레스트 모델 학습\n",
    "# model = RandomForestClassifier(n_estimators=100, random_state=42)\n",
    "# model.fit(X_train_smote, y_train_smote)\n",
    "\n",
    "# # 예측\n",
    "# y_pred = model.predict(X_val)\n",
    "\n",
    "# # 성능 평가\n",
    "# accuracy = accuracy_score(y_val, y_pred)\n",
    "# classification_rep = classification_report(y_val, y_pred, digits=4)\n",
    "\n",
    "\n",
    "# print(\"기본 모델 성능\")\n",
    "# print(\"Accuracy:\", accuracy)\n",
    "# print(\"Classification Report:\\n\", classification_rep)"
   ]
  },
  {
   "cell_type": "markdown",
   "metadata": {},
   "source": [
    "## 모델2 - AbNormal에 가중치 적용해 새로운 모델 훈련"
   ]
  },
  {
   "cell_type": "code",
   "execution_count": 54,
   "metadata": {},
   "outputs": [],
   "source": [
    "# # 1. SMOTE를 적용하여 학습한 랜덤 포레스트 모델\n",
    "# model_weighted_smote = RandomForestClassifier(n_estimators=200, random_state=42, class_weight={0: 1, 1: 10})\n",
    "# model_weighted_smote.fit(X_train_smote, y_train_smote)\n",
    "\n",
    "# # 2. 검증 데이터셋에서 예측 수행\n",
    "# y_pred_weighted_val = model_weighted_smote.predict(X_val)\n",
    "\n",
    "# # 3. 성능 평가\n",
    "# accuracy_weighted_val = accuracy_score(y_val, y_pred_weighted_val)\n",
    "# classification_rep_weighted_val = classification_report(y_val, y_pred_weighted_val, digits=4)\n",
    "\n",
    "# print(\"SMOTE 적용 모델 성능\")\n",
    "# print(\"Accuracy:\", accuracy_weighted_val)\n",
    "# print(\"Classification Report:\\n\", classification_rep_weighted_val)\n",
    "\n",
    "# # 4. 테스트 데이터에 PCA 및 스케일러 적용\n",
    "# scaled_features_test = scaler.transform(test_x)\n",
    "# pca_features_test = pca.transform(scaled_features_test)\n",
    "\n",
    "# # 5. 테스트 데이터에서 예측 수행\n",
    "# y_pred_test = model_weighted_smote.predict(pca_features_test)"
   ]
  },
  {
   "cell_type": "code",
   "execution_count": 55,
   "metadata": {},
   "outputs": [],
   "source": [
    "import numpy as np\n",
    "import pandas as pd\n",
    "from sklearn.ensemble import RandomForestClassifier, VotingClassifier\n",
    "from sklearn.metrics import classification_report\n",
    "from xgboost import XGBClassifier\n",
    "from lightgbm import LGBMClassifier\n",
    "from sklearn.datasets import make_classification"
   ]
  },
  {
   "cell_type": "markdown",
   "metadata": {},
   "source": [
    "## 앙상블: RF, XGB, LGBM"
   ]
  },
  {
   "cell_type": "markdown",
   "metadata": {},
   "source": [
    "2085"
   ]
  },
  {
   "cell_type": "code",
   "execution_count": 72,
   "metadata": {},
   "outputs": [
    {
     "name": "stdout",
     "output_type": "stream",
     "text": [
      "[LightGBM] [Info] Number of positive: 30514, number of negative: 30514\n",
      "[LightGBM] [Info] Auto-choosing col-wise multi-threading, the overhead of testing was 0.001559 seconds.\n",
      "You can set `force_col_wise=true` to remove the overhead.\n",
      "[LightGBM] [Info] Total Bins 3825\n",
      "[LightGBM] [Info] Number of data points in the train set: 61028, number of used features: 15\n",
      "[LightGBM] [Info] [binary:BoostFromScore]: pavg=0.500000 -> initscore=0.000000\n",
      "              precision    recall  f1-score   support\n",
      "\n",
      "           0       0.16      0.10      0.12       441\n",
      "           1       0.95      0.97      0.96      7642\n",
      "\n",
      "    accuracy                           0.92      8083\n",
      "   macro avg       0.56      0.53      0.54      8083\n",
      "weighted avg       0.91      0.92      0.91      8083\n",
      "\n"
     ]
    }
   ],
   "source": [
    "# 모델 생성\n",
    "rf_model = RandomForestClassifier(n_estimators = 118, max_depth = 6, min_samples_split = 4, min_samples_leaf = 4, class_weight={0: 1, 1: 20}, random_state=42)\n",
    "xgb_model = XGBClassifier(n_estimators = 286, max_depth = 10, learning_rate = 0.21366513084005267, subsample = 0.6122668648564789, colsample_bytree = 0.7768644502170545, gamma = 0.2855489821421704, min_child_weight = 1, random_state=42)\n",
    "lgbm_model = LGBMClassifier(random_state=42)\n",
    "\n",
    "# 소프트 보팅 앙상블 모델 생성\n",
    "voting_model = VotingClassifier(estimators=[\n",
    "    ('rf', rf_model),\n",
    "    ('xgb', xgb_model),\n",
    "    ('lgbm', lgbm_model)\n",
    "], voting='soft')\n",
    "\n",
    "# 모델 학습\n",
    "voting_model.fit(X_train_smote, y_train_smote)\n",
    "\n",
    "# 검증 데이터에 대한 예측\n",
    "y_val_pred = voting_model.predict(X_val)\n",
    "\n",
    "# 분류 리포트 출력\n",
    "print(classification_report(y_val, y_val_pred))"
   ]
  },
  {
   "cell_type": "markdown",
   "metadata": {},
   "source": [
    "1993"
   ]
  },
  {
   "cell_type": "code",
   "execution_count": 78,
   "metadata": {},
   "outputs": [
    {
     "name": "stdout",
     "output_type": "stream",
     "text": [
      "[LightGBM] [Info] Number of positive: 30514, number of negative: 30514\n",
      "[LightGBM] [Info] Auto-choosing col-wise multi-threading, the overhead of testing was 0.001646 seconds.\n",
      "You can set `force_col_wise=true` to remove the overhead.\n",
      "[LightGBM] [Info] Total Bins 3825\n",
      "[LightGBM] [Info] Number of data points in the train set: 61028, number of used features: 15\n",
      "[LightGBM] [Info] [binary:BoostFromScore]: pavg=0.500000 -> initscore=0.000000\n",
      "              precision    recall  f1-score   support\n",
      "\n",
      "           0       0.10      0.18      0.13       441\n",
      "           1       0.95      0.91      0.93      7642\n",
      "\n",
      "    accuracy                           0.87      8083\n",
      "   macro avg       0.53      0.54      0.53      8083\n",
      "weighted avg       0.90      0.87      0.89      8083\n",
      "\n"
     ]
    }
   ],
   "source": [
    "# 모델 생성\n",
    "rf_model = RandomForestClassifier(n_estimators = 218, max_depth = 50, min_samples_split = 2, min_samples_leaf = 1, class_weight={0: 1, 1: 20}, random_state=42)\n",
    "xgb_model = XGBClassifier(n_estimators = 286, max_depth = 10, learning_rate = 0.21366513084005267, subsample = 0.6122668648564789, colsample_bytree = 0.7768644502170545, gamma = 0.2855489821421704, min_child_weight = 1, random_state=42)\n",
    "lgbm_model = LGBMClassifier(random_state=42)\n",
    "\n",
    "# 소프트 보팅 앙상블 모델 생성\n",
    "voting_model = VotingClassifier(estimators=[\n",
    "    ('rf', rf_model),\n",
    "    ('xgb', xgb_model),\n",
    "    ('lgbm', lgbm_model)\n",
    "], voting='soft')\n",
    "\n",
    "# 모델 학습\n",
    "voting_model.fit(X_train_smote, y_train_smote)\n",
    "\n",
    "# 검증 데이터에 대한 예측\n",
    "y_val_pred = voting_model.predict(X_val)\n",
    "\n",
    "# 분류 리포트 출력\n",
    "print(classification_report(y_val, y_val_pred))"
   ]
  },
  {
   "cell_type": "markdown",
   "metadata": {},
   "source": [
    "Trial 3: 미제출"
   ]
  },
  {
   "cell_type": "code",
   "execution_count": null,
   "metadata": {},
   "outputs": [],
   "source": [
    "# 모델 생성\n",
    "rf_model = RandomForestClassifier(n_estimators = 98, max_depth = 29, min_samples_split = 9, min_samples_leaf = 2, class_weight={0: 1, 1: 20}, random_state=42)\n",
    "xgb_model = XGBClassifier(n_estimators = 286, max_depth = 10, learning_rate = 0.21366513084005267, subsample = 0.6122668648564789, colsample_bytree = 0.7768644502170545, gamma = 0.2855489821421704, min_child_weight = 1, random_state=42)\n",
    "lgbm_model = LGBMClassifier(n_estimators = 261, max_depth = 17, learning_rate = 0.1463413340517554, subsample = 0.7528924911295741, colsample_bytree = 0.6759922637460025, num_leaves = 255, min_child_samples = 11, scale_pos_weight = 10, random_state=42)\n",
    "\n",
    "# 소프트 보팅 앙상블 모델 생성\n",
    "voting_model = VotingClassifier(estimators=[\n",
    "    ('rf', rf_model),\n",
    "    ('xgb', xgb_model),\n",
    "    ('lgbm', lgbm_model)\n",
    "], voting='soft')\n",
    "\n",
    "# 모델 학습\n",
    "voting_model.fit(X_train_smote, y_train_smote)\n",
    "\n",
    "# 검증 데이터에 대한 예측\n",
    "y_val_pred = voting_model.predict(X_val)\n",
    "\n",
    "# 분류 리포트 출력\n",
    "print(classification_report(y_val, y_val_pred))"
   ]
  },
  {
   "cell_type": "markdown",
   "metadata": {},
   "source": [
    "RF 하이퍼 파라미터 튜닝"
   ]
  },
  {
   "cell_type": "code",
   "execution_count": 86,
   "metadata": {},
   "outputs": [],
   "source": [
    "import numpy as np\n",
    "import optuna\n",
    "from sklearn.ensemble import RandomForestClassifier\n",
    "from sklearn.metrics import classification_report\n",
    "from sklearn.model_selection import train_test_split\n",
    "from sklearn.datasets import make_classification\n",
    "\n",
    "def objective(trial):\n",
    "    # 하이퍼파라미터 설정\n",
    "    n_estimators = trial.suggest_int('n_estimators', 50, 300)\n",
    "    max_depth = trial.suggest_int('max_depth', 5, 35)\n",
    "    min_samples_split = trial.suggest_int('min_samples_split', 2, 10)\n",
    "    min_samples_leaf = trial.suggest_int('min_samples_leaf', 1, 7)\n",
    "\n",
    "    # 랜덤 포레스트 모델 생성\n",
    "    model = RandomForestClassifier(\n",
    "        n_estimators=n_estimators,\n",
    "        max_depth=max_depth,\n",
    "        min_samples_split=min_samples_split,\n",
    "        min_samples_leaf=min_samples_leaf,\n",
    "        random_state=42,\n",
    "        class_weight={0: 1, 1: 15}\n",
    "    )\n",
    "\n",
    "    # 모델 학습\n",
    "    model.fit(X_train_smote, y_train_smote)\n",
    "\n",
    "    # 검증 데이터에 대한 예측 및 정확도 계산\n",
    "    y_pred = model.predict(X_val)\n",
    "    f1 = f1_score(y_val, y_pred, pos_label=0)  # pos_label=0은 양성 클래스\n",
    "\n",
    "    return f1"
   ]
  },
  {
   "cell_type": "code",
   "execution_count": 87,
   "metadata": {},
   "outputs": [
    {
     "name": "stderr",
     "output_type": "stream",
     "text": [
      "[I 2024-08-29 06:11:48,314] A new study created in memory with name: no-name-c5bba7d1-713f-4850-903d-92a2249a1bd8\n",
      "[I 2024-08-29 06:12:02,019] Trial 0 finished with value: 0.056155507559395246 and parameters: {'n_estimators': 110, 'max_depth': 7, 'min_samples_split': 5, 'min_samples_leaf': 6}. Best is trial 0 with value: 0.056155507559395246.\n",
      "[I 2024-08-29 06:12:30,397] Trial 1 finished with value: 0.13318284424379231 and parameters: {'n_estimators': 85, 'max_depth': 34, 'min_samples_split': 10, 'min_samples_leaf': 1}. Best is trial 1 with value: 0.13318284424379231.\n",
      "[I 2024-08-29 06:13:58,491] Trial 2 finished with value: 0.12379642365887207 and parameters: {'n_estimators': 295, 'max_depth': 24, 'min_samples_split': 2, 'min_samples_leaf': 2}. Best is trial 1 with value: 0.13318284424379231.\n",
      "[I 2024-08-29 06:15:03,683] Trial 3 finished with value: 0.1070811744386874 and parameters: {'n_estimators': 228, 'max_depth': 23, 'min_samples_split': 3, 'min_samples_leaf': 6}. Best is trial 1 with value: 0.13318284424379231.\n",
      "[I 2024-08-29 06:15:16,590] Trial 4 finished with value: 0.06423982869379015 and parameters: {'n_estimators': 86, 'max_depth': 9, 'min_samples_split': 2, 'min_samples_leaf': 6}. Best is trial 1 with value: 0.13318284424379231.\n",
      "[I 2024-08-29 06:16:31,716] Trial 5 finished with value: 0.13090909090909092 and parameters: {'n_estimators': 235, 'max_depth': 27, 'min_samples_split': 6, 'min_samples_leaf': 1}. Best is trial 1 with value: 0.13318284424379231.\n",
      "[I 2024-08-29 06:16:59,552] Trial 6 finished with value: 0.10490693739424704 and parameters: {'n_estimators': 100, 'max_depth': 20, 'min_samples_split': 9, 'min_samples_leaf': 1}. Best is trial 1 with value: 0.13318284424379231.\n",
      "[I 2024-08-29 06:17:38,789] Trial 7 finished with value: 0.11018363939899833 and parameters: {'n_estimators': 135, 'max_depth': 25, 'min_samples_split': 6, 'min_samples_leaf': 7}. Best is trial 1 with value: 0.13318284424379231.\n",
      "[I 2024-08-29 06:18:39,109] Trial 8 finished with value: 0.12130177514792899 and parameters: {'n_estimators': 197, 'max_depth': 31, 'min_samples_split': 4, 'min_samples_leaf': 6}. Best is trial 1 with value: 0.13318284424379231.\n",
      "[I 2024-08-29 06:19:49,315] Trial 9 finished with value: 0.09861932938856016 and parameters: {'n_estimators': 279, 'max_depth': 16, 'min_samples_split': 8, 'min_samples_leaf': 1}. Best is trial 1 with value: 0.13318284424379231.\n",
      "[I 2024-08-29 06:20:07,551] Trial 10 finished with value: 0.12729498164014688 and parameters: {'n_estimators': 56, 'max_depth': 35, 'min_samples_split': 10, 'min_samples_leaf': 3}. Best is trial 1 with value: 0.13318284424379231.\n",
      "[I 2024-08-29 06:20:57,534] Trial 11 finished with value: 0.12219451371571072 and parameters: {'n_estimators': 159, 'max_depth': 30, 'min_samples_split': 7, 'min_samples_leaf': 3}. Best is trial 1 with value: 0.13318284424379231.\n",
      "[I 2024-08-29 06:22:11,950] Trial 12 finished with value: 0.1331877729257642 and parameters: {'n_estimators': 232, 'max_depth': 35, 'min_samples_split': 7, 'min_samples_leaf': 2}. Best is trial 12 with value: 0.1331877729257642.\n",
      "[I 2024-08-29 06:23:15,943] Trial 13 finished with value: 0.1329987452948557 and parameters: {'n_estimators': 204, 'max_depth': 32, 'min_samples_split': 9, 'min_samples_leaf': 3}. Best is trial 12 with value: 0.1331877729257642.\n",
      "[I 2024-08-29 06:24:39,458] Trial 14 finished with value: 0.12857142857142856 and parameters: {'n_estimators': 255, 'max_depth': 35, 'min_samples_split': 10, 'min_samples_leaf': 2}. Best is trial 12 with value: 0.1331877729257642.\n",
      "[I 2024-08-29 06:25:20,925] Trial 15 finished with value: 0.09504950495049505 and parameters: {'n_estimators': 172, 'max_depth': 16, 'min_samples_split': 8, 'min_samples_leaf': 4}. Best is trial 12 with value: 0.1331877729257642.\n",
      "[I 2024-08-29 06:25:38,675] Trial 16 finished with value: 0.13349514563106796 and parameters: {'n_estimators': 60, 'max_depth': 28, 'min_samples_split': 7, 'min_samples_leaf': 2}. Best is trial 16 with value: 0.13349514563106796.\n",
      "[I 2024-08-29 06:25:54,246] Trial 17 finished with value: 0.13278008298755187 and parameters: {'n_estimators': 53, 'max_depth': 28, 'min_samples_split': 7, 'min_samples_leaf': 4}. Best is trial 16 with value: 0.13349514563106796.\n",
      "[I 2024-08-29 06:26:31,520] Trial 18 finished with value: 0.1111111111111111 and parameters: {'n_estimators': 138, 'max_depth': 21, 'min_samples_split': 5, 'min_samples_leaf': 2}. Best is trial 16 with value: 0.13349514563106796.\n",
      "[I 2024-08-29 06:27:28,741] Trial 19 finished with value: 0.12571428571428572 and parameters: {'n_estimators': 199, 'max_depth': 29, 'min_samples_split': 7, 'min_samples_leaf': 5}. Best is trial 16 with value: 0.13349514563106796.\n",
      "[I 2024-08-29 06:28:50,684] Trial 20 finished with value: 0.12698412698412698 and parameters: {'n_estimators': 265, 'max_depth': 32, 'min_samples_split': 6, 'min_samples_leaf': 2}. Best is trial 16 with value: 0.13349514563106796.\n",
      "[I 2024-08-29 06:29:17,032] Trial 21 finished with value: 0.133051742344245 and parameters: {'n_estimators': 79, 'max_depth': 35, 'min_samples_split': 8, 'min_samples_leaf': 1}. Best is trial 16 with value: 0.13349514563106796.\n",
      "[I 2024-08-29 06:29:53,452] Trial 22 finished with value: 0.1376037959667853 and parameters: {'n_estimators': 121, 'max_depth': 33, 'min_samples_split': 9, 'min_samples_leaf': 2}. Best is trial 22 with value: 0.1376037959667853.\n",
      "[I 2024-08-29 06:30:31,412] Trial 23 finished with value: 0.11864406779661017 and parameters: {'n_estimators': 140, 'max_depth': 26, 'min_samples_split': 9, 'min_samples_leaf': 3}. Best is trial 22 with value: 0.1376037959667853.\n",
      "[I 2024-08-29 06:31:02,886] Trial 24 finished with value: 0.13060179257362356 and parameters: {'n_estimators': 114, 'max_depth': 32, 'min_samples_split': 8, 'min_samples_leaf': 4}. Best is trial 22 with value: 0.1376037959667853.\n",
      "[I 2024-08-29 06:31:23,242] Trial 25 finished with value: 0.13048635824436536 and parameters: {'n_estimators': 73, 'max_depth': 29, 'min_samples_split': 7, 'min_samples_leaf': 2}. Best is trial 22 with value: 0.1376037959667853.\n",
      "[I 2024-08-29 06:32:25,943] Trial 26 finished with value: 0.12735849056603774 and parameters: {'n_estimators': 222, 'max_depth': 33, 'min_samples_split': 5, 'min_samples_leaf': 3}. Best is trial 22 with value: 0.1376037959667853.\n",
      "[I 2024-08-29 06:33:00,797] Trial 27 finished with value: 0.0933852140077821 and parameters: {'n_estimators': 158, 'max_depth': 17, 'min_samples_split': 9, 'min_samples_leaf': 2}. Best is trial 22 with value: 0.1376037959667853.\n",
      "[I 2024-08-29 06:33:20,310] Trial 28 finished with value: 0.06837606837606838 and parameters: {'n_estimators': 123, 'max_depth': 11, 'min_samples_split': 6, 'min_samples_leaf': 4}. Best is trial 22 with value: 0.1376037959667853.\n",
      "[I 2024-08-29 06:33:48,098] Trial 29 finished with value: 0.1209563994374121 and parameters: {'n_estimators': 96, 'max_depth': 30, 'min_samples_split': 4, 'min_samples_leaf': 5}. Best is trial 22 with value: 0.1376037959667853.\n",
      "[I 2024-08-29 06:34:40,812] Trial 30 finished with value: 0.12006319115323855 and parameters: {'n_estimators': 183, 'max_depth': 22, 'min_samples_split': 8, 'min_samples_leaf': 2}. Best is trial 22 with value: 0.1376037959667853.\n",
      "[I 2024-08-29 06:35:02,831] Trial 31 finished with value: 0.13213885778275475 and parameters: {'n_estimators': 65, 'max_depth': 34, 'min_samples_split': 10, 'min_samples_leaf': 1}. Best is trial 22 with value: 0.1376037959667853.\n",
      "[I 2024-08-29 06:35:34,740] Trial 32 finished with value: 0.13472706155632985 and parameters: {'n_estimators': 98, 'max_depth': 33, 'min_samples_split': 10, 'min_samples_leaf': 1}. Best is trial 22 with value: 0.1376037959667853.\n",
      "[I 2024-08-29 06:36:07,063] Trial 33 finished with value: 0.13377926421404682 and parameters: {'n_estimators': 103, 'max_depth': 33, 'min_samples_split': 9, 'min_samples_leaf': 1}. Best is trial 22 with value: 0.1376037959667853.\n",
      "[I 2024-08-29 06:36:36,785] Trial 34 finished with value: 0.13688212927756654 and parameters: {'n_estimators': 97, 'max_depth': 28, 'min_samples_split': 10, 'min_samples_leaf': 1}. Best is trial 22 with value: 0.1376037959667853.\n",
      "[I 2024-08-29 06:36:46,080] Trial 35 finished with value: 0.05228758169934641 and parameters: {'n_estimators': 109, 'max_depth': 5, 'min_samples_split': 10, 'min_samples_leaf': 1}. Best is trial 22 with value: 0.1376037959667853.\n",
      "[I 2024-08-29 06:37:18,335] Trial 36 finished with value: 0.13140311804008908 and parameters: {'n_estimators': 97, 'max_depth': 33, 'min_samples_split': 9, 'min_samples_leaf': 1}. Best is trial 22 with value: 0.1376037959667853.\n",
      "[I 2024-08-29 06:38:03,323] Trial 37 finished with value: 0.12921348314606743 and parameters: {'n_estimators': 127, 'max_depth': 25, 'min_samples_split': 10, 'min_samples_leaf': 1}. Best is trial 22 with value: 0.1376037959667853.\n",
      "[I 2024-08-29 06:38:31,737] Trial 38 finished with value: 0.14153132250580047 and parameters: {'n_estimators': 89, 'max_depth': 31, 'min_samples_split': 9, 'min_samples_leaf': 1}. Best is trial 38 with value: 0.14153132250580047.\n",
      "[I 2024-08-29 06:38:57,910] Trial 39 finished with value: 0.12433862433862433 and parameters: {'n_estimators': 86, 'max_depth': 27, 'min_samples_split': 10, 'min_samples_leaf': 1}. Best is trial 38 with value: 0.14153132250580047.\n",
      "[I 2024-08-29 06:39:29,661] Trial 40 finished with value: 0.1130952380952381 and parameters: {'n_estimators': 115, 'max_depth': 23, 'min_samples_split': 9, 'min_samples_leaf': 1}. Best is trial 38 with value: 0.14153132250580047.\n",
      "[I 2024-08-29 06:40:01,248] Trial 41 finished with value: 0.14022988505747128 and parameters: {'n_estimators': 104, 'max_depth': 31, 'min_samples_split': 9, 'min_samples_leaf': 1}. Best is trial 38 with value: 0.14153132250580047.\n",
      "[I 2024-08-29 06:40:26,855] Trial 42 finished with value: 0.14087759815242495 and parameters: {'n_estimators': 85, 'max_depth': 31, 'min_samples_split': 9, 'min_samples_leaf': 1}. Best is trial 38 with value: 0.14153132250580047.\n",
      "[I 2024-08-29 06:40:52,214] Trial 43 finished with value: 0.1308641975308642 and parameters: {'n_estimators': 83, 'max_depth': 30, 'min_samples_split': 9, 'min_samples_leaf': 2}. Best is trial 38 with value: 0.14153132250580047.\n",
      "[I 2024-08-29 06:41:30,699] Trial 44 finished with value: 0.13816534541336353 and parameters: {'n_estimators': 125, 'max_depth': 31, 'min_samples_split': 8, 'min_samples_leaf': 1}. Best is trial 38 with value: 0.14153132250580047.\n",
      "[I 2024-08-29 06:42:15,537] Trial 45 finished with value: 0.14189189189189189 and parameters: {'n_estimators': 151, 'max_depth': 31, 'min_samples_split': 8, 'min_samples_leaf': 1}. Best is trial 45 with value: 0.14189189189189189.\n",
      "[I 2024-08-29 06:42:58,351] Trial 46 finished with value: 0.1399548532731377 and parameters: {'n_estimators': 145, 'max_depth': 31, 'min_samples_split': 8, 'min_samples_leaf': 1}. Best is trial 45 with value: 0.14189189189189189.\n",
      "[I 2024-08-29 06:43:42,795] Trial 47 finished with value: 0.13624678663239073 and parameters: {'n_estimators': 155, 'max_depth': 26, 'min_samples_split': 8, 'min_samples_leaf': 1}. Best is trial 45 with value: 0.14189189189189189.\n",
      "[I 2024-08-29 06:44:24,163] Trial 48 finished with value: 0.13800904977375567 and parameters: {'n_estimators': 139, 'max_depth': 31, 'min_samples_split': 8, 'min_samples_leaf': 1}. Best is trial 45 with value: 0.14189189189189189.\n",
      "[I 2024-08-29 06:45:18,844] Trial 49 finished with value: 0.1267427122940431 and parameters: {'n_estimators': 182, 'max_depth': 29, 'min_samples_split': 9, 'min_samples_leaf': 2}. Best is trial 45 with value: 0.14189189189189189.\n"
     ]
    },
    {
     "name": "stdout",
     "output_type": "stream",
     "text": [
      "Best hyperparameters:  {'n_estimators': 151, 'max_depth': 31, 'min_samples_split': 8, 'min_samples_leaf': 1}\n"
     ]
    }
   ],
   "source": [
    "# Optuna 최적화\n",
    "study = optuna.create_study(direction='maximize')\n",
    "study.optimize(objective, n_trials=50)\n",
    "\n",
    "# 최적 하이퍼파라미터 출력\n",
    "print(\"Best hyperparameters: \", study.best_params)\n",
    "\n",
    "# 최적 모델로 재학습 및 검증\n",
    "best_params = study.best_params\n",
    "best_model = RandomForestClassifier(\n",
    "    n_estimators=best_params['n_estimators'],\n",
    "    max_depth=best_params['max_depth'],\n",
    "    min_samples_split=best_params['min_samples_split'],\n",
    "    min_samples_leaf=best_params['min_samples_leaf'],\n",
    "    random_state=42,\n",
    "    class_weight={0: 1, 1: 15}\n",
    ")"
   ]
  },
  {
   "cell_type": "code",
   "execution_count": null,
   "metadata": {},
   "outputs": [],
   "source": [
    "import numpy as np\n",
    "import optuna\n",
    "from sklearn.ensemble import RandomForestClassifier\n",
    "from sklearn.metrics import classification_report\n",
    "from sklearn.model_selection import train_test_split\n",
    "from sklearn.datasets import make_classification\n",
    "\n",
    "def objective(trial):\n",
    "    # 하이퍼파라미터 설정\n",
    "    n_estimators = trial.suggest_int('n_estimators', 50, 300)\n",
    "    max_depth = trial.suggest_int('max_depth', 5, 35)\n",
    "    min_samples_split = trial.suggest_int('min_samples_split', 2, 10)\n",
    "    min_samples_leaf = trial.suggest_int('min_samples_leaf', 1, 7)\n",
    "\n",
    "    # 랜덤 포레스트 모델 생성\n",
    "    model = RandomForestClassifier(\n",
    "        n_estimators=n_estimators,\n",
    "        max_depth=max_depth,\n",
    "        min_samples_split=min_samples_split,\n",
    "        min_samples_leaf=min_samples_leaf,\n",
    "        random_state=42,\n",
    "        class_weight={0: 1, 1: 10}\n",
    "    )\n",
    "\n",
    "    # 모델 학습\n",
    "    model.fit(X_train_smote, y_train_smote)\n",
    "\n",
    "    # 검증 데이터에 대한 예측 및 정확도 계산\n",
    "    y_pred = model.predict(X_val)\n",
    "    f1 = f1_score(y_val, y_pred, pos_label=0)  # pos_label=0은 양성 클래스\n",
    "\n",
    "    return f1"
   ]
  },
  {
   "cell_type": "markdown",
   "metadata": {},
   "source": [
    "XGBoost 하이퍼 파라미터 튜닝"
   ]
  },
  {
   "cell_type": "code",
   "execution_count": 68,
   "metadata": {},
   "outputs": [],
   "source": [
    "import numpy as np\n",
    "import optuna\n",
    "from xgboost import XGBClassifier\n",
    "from sklearn.metrics import classification_report\n",
    "from sklearn.datasets import make_classification\n",
    "\n",
    "\n",
    "def objective(trial):\n",
    "    # 하이퍼파라미터 설정\n",
    "    params = {\n",
    "        'objective': 'binary:logistic',\n",
    "        'eval_metric': 'logloss',\n",
    "        'n_estimators': trial.suggest_int('n_estimators', 50, 300),\n",
    "        'max_depth': trial.suggest_int('max_depth', 3, 10),\n",
    "        'learning_rate': trial.suggest_loguniform('learning_rate', 1e-3, 0.3),\n",
    "        'subsample': trial.suggest_float('subsample', 0.5, 1.0),\n",
    "        'colsample_bytree': trial.suggest_float('colsample_bytree', 0.5, 1.0),\n",
    "        'gamma': trial.suggest_float('gamma', 0, 5),\n",
    "        'min_child_weight': trial.suggest_int('min_child_weight', 1, 10),\n",
    "        'scale_pos_weight': trial.suggest_int('scale_pos_weight', 5, 25),\n",
    "        'reg_alpha': trial.suggest_float('reg_alpha', 0, 10),\n",
    "        'reg_lambda': trial.suggest_float('reg_lambda', 0, 10),\n",
    "    }\n",
    "\n",
    "    # XGBClassifier 모델 생성\n",
    "    model = XGBClassifier(**params, random_state=42)\n",
    "\n",
    "    # 모델 학습\n",
    "    model.fit(X_train_smote, y_train_smote)\n",
    "\n",
    "    # 검증 데이터에 대한 예측 및 정확도 계산\n",
    "    y_pred = model.predict(X_val)\n",
    "    f1 = f1_score(y_val, y_pred, pos_label=0)  # pos_label=1은 양성 클래스\n",
    "    \n",
    "    return f1\n",
    "\n"
   ]
  },
  {
   "cell_type": "code",
   "execution_count": 69,
   "metadata": {},
   "outputs": [
    {
     "name": "stderr",
     "output_type": "stream",
     "text": [
      "[I 2024-08-29 05:46:38,026] A new study created in memory with name: no-name-f3c8ac66-efac-4a8e-a3e2-06d86a24b003\n",
      "C:\\Users\\user\\AppData\\Local\\Temp\\ipykernel_9600\\2512104123.py:15: FutureWarning: suggest_loguniform has been deprecated in v3.0.0. This feature will be removed in v6.0.0. See https://github.com/optuna/optuna/releases/tag/v3.0.0. Use suggest_float(..., log=True) instead.\n",
      "  'learning_rate': trial.suggest_loguniform('learning_rate', 1e-3, 0.3),\n",
      "[I 2024-08-29 05:46:38,739] Trial 0 finished with value: 0.09090909090909091 and parameters: {'n_estimators': 296, 'max_depth': 8, 'learning_rate': 0.2715249470315938, 'subsample': 0.9197915771105079, 'colsample_bytree': 0.7848300868462932, 'gamma': 2.4162098187017733, 'min_child_weight': 2, 'scale_pos_weight': 25, 'reg_alpha': 5.174869651259838, 'reg_lambda': 4.203550798889632}. Best is trial 0 with value: 0.09090909090909091.\n",
      "C:\\Users\\user\\AppData\\Local\\Temp\\ipykernel_9600\\2512104123.py:15: FutureWarning: suggest_loguniform has been deprecated in v3.0.0. This feature will be removed in v6.0.0. See https://github.com/optuna/optuna/releases/tag/v3.0.0. Use suggest_float(..., log=True) instead.\n",
      "  'learning_rate': trial.suggest_loguniform('learning_rate', 1e-3, 0.3),\n",
      "[I 2024-08-29 05:46:39,284] Trial 1 finished with value: 0.05652173913043478 and parameters: {'n_estimators': 119, 'max_depth': 9, 'learning_rate': 0.014060826233080848, 'subsample': 0.7267882965391246, 'colsample_bytree': 0.9533793797640837, 'gamma': 4.330309524286178, 'min_child_weight': 5, 'scale_pos_weight': 25, 'reg_alpha': 6.59149459215921, 'reg_lambda': 4.30085843381105}. Best is trial 0 with value: 0.09090909090909091.\n",
      "C:\\Users\\user\\AppData\\Local\\Temp\\ipykernel_9600\\2512104123.py:15: FutureWarning: suggest_loguniform has been deprecated in v3.0.0. This feature will be removed in v6.0.0. See https://github.com/optuna/optuna/releases/tag/v3.0.0. Use suggest_float(..., log=True) instead.\n",
      "  'learning_rate': trial.suggest_loguniform('learning_rate', 1e-3, 0.3),\n",
      "[I 2024-08-29 05:46:39,523] Trial 2 finished with value: 0.0 and parameters: {'n_estimators': 56, 'max_depth': 9, 'learning_rate': 0.005347073471629095, 'subsample': 0.9763990633447059, 'colsample_bytree': 0.8137279083865119, 'gamma': 0.5942341087581787, 'min_child_weight': 3, 'scale_pos_weight': 16, 'reg_alpha': 1.4432133024828064, 'reg_lambda': 0.9638541581766857}. Best is trial 0 with value: 0.09090909090909091.\n",
      "C:\\Users\\user\\AppData\\Local\\Temp\\ipykernel_9600\\2512104123.py:15: FutureWarning: suggest_loguniform has been deprecated in v3.0.0. This feature will be removed in v6.0.0. See https://github.com/optuna/optuna/releases/tag/v3.0.0. Use suggest_float(..., log=True) instead.\n",
      "  'learning_rate': trial.suggest_loguniform('learning_rate', 1e-3, 0.3),\n",
      "[I 2024-08-29 05:46:40,258] Trial 3 finished with value: 0.0 and parameters: {'n_estimators': 195, 'max_depth': 9, 'learning_rate': 0.0017222760887789655, 'subsample': 0.9992045140514012, 'colsample_bytree': 0.5006896038014478, 'gamma': 0.45293154435073424, 'min_child_weight': 1, 'scale_pos_weight': 7, 'reg_alpha': 6.44576382947289, 'reg_lambda': 3.760572084316599}. Best is trial 0 with value: 0.09090909090909091.\n",
      "C:\\Users\\user\\AppData\\Local\\Temp\\ipykernel_9600\\2512104123.py:15: FutureWarning: suggest_loguniform has been deprecated in v3.0.0. This feature will be removed in v6.0.0. See https://github.com/optuna/optuna/releases/tag/v3.0.0. Use suggest_float(..., log=True) instead.\n",
      "  'learning_rate': trial.suggest_loguniform('learning_rate', 1e-3, 0.3),\n",
      "[I 2024-08-29 05:46:40,589] Trial 4 finished with value: 0.05652173913043478 and parameters: {'n_estimators': 255, 'max_depth': 3, 'learning_rate': 0.008060058154960605, 'subsample': 0.6240734596104255, 'colsample_bytree': 0.9230527038955778, 'gamma': 4.835657117803472, 'min_child_weight': 6, 'scale_pos_weight': 5, 'reg_alpha': 1.8869256030795944, 'reg_lambda': 4.6034921790725924}. Best is trial 0 with value: 0.09090909090909091.\n",
      "C:\\Users\\user\\AppData\\Local\\Temp\\ipykernel_9600\\2512104123.py:15: FutureWarning: suggest_loguniform has been deprecated in v3.0.0. This feature will be removed in v6.0.0. See https://github.com/optuna/optuna/releases/tag/v3.0.0. Use suggest_float(..., log=True) instead.\n",
      "  'learning_rate': trial.suggest_loguniform('learning_rate', 1e-3, 0.3),\n",
      "[I 2024-08-29 05:46:40,997] Trial 5 finished with value: 0.013513513513513514 and parameters: {'n_estimators': 246, 'max_depth': 5, 'learning_rate': 0.0021642762756922626, 'subsample': 0.5763038984904771, 'colsample_bytree': 0.5221178639968005, 'gamma': 3.4509188093094605, 'min_child_weight': 2, 'scale_pos_weight': 5, 'reg_alpha': 0.3948744241628255, 'reg_lambda': 8.230604096188946}. Best is trial 0 with value: 0.09090909090909091.\n",
      "C:\\Users\\user\\AppData\\Local\\Temp\\ipykernel_9600\\2512104123.py:15: FutureWarning: suggest_loguniform has been deprecated in v3.0.0. This feature will be removed in v6.0.0. See https://github.com/optuna/optuna/releases/tag/v3.0.0. Use suggest_float(..., log=True) instead.\n",
      "  'learning_rate': trial.suggest_loguniform('learning_rate', 1e-3, 0.3),\n",
      "[I 2024-08-29 05:46:41,923] Trial 6 finished with value: 0.0 and parameters: {'n_estimators': 248, 'max_depth': 9, 'learning_rate': 0.0019455573818593862, 'subsample': 0.7660339545922815, 'colsample_bytree': 0.6864939267111311, 'gamma': 0.6918517164319782, 'min_child_weight': 3, 'scale_pos_weight': 12, 'reg_alpha': 1.9218984954668583, 'reg_lambda': 1.1561106762905793}. Best is trial 0 with value: 0.09090909090909091.\n",
      "C:\\Users\\user\\AppData\\Local\\Temp\\ipykernel_9600\\2512104123.py:15: FutureWarning: suggest_loguniform has been deprecated in v3.0.0. This feature will be removed in v6.0.0. See https://github.com/optuna/optuna/releases/tag/v3.0.0. Use suggest_float(..., log=True) instead.\n",
      "  'learning_rate': trial.suggest_loguniform('learning_rate', 1e-3, 0.3),\n",
      "[I 2024-08-29 05:46:42,151] Trial 7 finished with value: 0.0 and parameters: {'n_estimators': 53, 'max_depth': 9, 'learning_rate': 0.003991349361785778, 'subsample': 0.7754679883778879, 'colsample_bytree': 0.5650306562810705, 'gamma': 4.279426702603832, 'min_child_weight': 3, 'scale_pos_weight': 10, 'reg_alpha': 5.554178392511745, 'reg_lambda': 9.48666506555728}. Best is trial 0 with value: 0.09090909090909091.\n",
      "C:\\Users\\user\\AppData\\Local\\Temp\\ipykernel_9600\\2512104123.py:15: FutureWarning: suggest_loguniform has been deprecated in v3.0.0. This feature will be removed in v6.0.0. See https://github.com/optuna/optuna/releases/tag/v3.0.0. Use suggest_float(..., log=True) instead.\n",
      "  'learning_rate': trial.suggest_loguniform('learning_rate', 1e-3, 0.3),\n",
      "[I 2024-08-29 05:46:42,805] Trial 8 finished with value: 0.09302325581395349 and parameters: {'n_estimators': 214, 'max_depth': 9, 'learning_rate': 0.08669058557572895, 'subsample': 0.9081642313308655, 'colsample_bytree': 0.6698548905912918, 'gamma': 2.4923744686794795, 'min_child_weight': 6, 'scale_pos_weight': 8, 'reg_alpha': 9.186170132359045, 'reg_lambda': 1.2167151471075388}. Best is trial 8 with value: 0.09302325581395349.\n",
      "C:\\Users\\user\\AppData\\Local\\Temp\\ipykernel_9600\\2512104123.py:15: FutureWarning: suggest_loguniform has been deprecated in v3.0.0. This feature will be removed in v6.0.0. See https://github.com/optuna/optuna/releases/tag/v3.0.0. Use suggest_float(..., log=True) instead.\n",
      "  'learning_rate': trial.suggest_loguniform('learning_rate', 1e-3, 0.3),\n",
      "[I 2024-08-29 05:46:43,093] Trial 9 finished with value: 0.0635593220338983 and parameters: {'n_estimators': 83, 'max_depth': 8, 'learning_rate': 0.0398546507706298, 'subsample': 0.9838189795282091, 'colsample_bytree': 0.7687030679872169, 'gamma': 0.6648348895586298, 'min_child_weight': 5, 'scale_pos_weight': 6, 'reg_alpha': 8.006514700401153, 'reg_lambda': 2.8458694827041366}. Best is trial 8 with value: 0.09302325581395349.\n",
      "C:\\Users\\user\\AppData\\Local\\Temp\\ipykernel_9600\\2512104123.py:15: FutureWarning: suggest_loguniform has been deprecated in v3.0.0. This feature will be removed in v6.0.0. See https://github.com/optuna/optuna/releases/tag/v3.0.0. Use suggest_float(..., log=True) instead.\n",
      "  'learning_rate': trial.suggest_loguniform('learning_rate', 1e-3, 0.3),\n",
      "[I 2024-08-29 05:46:43,445] Trial 10 finished with value: 0.06451612903225806 and parameters: {'n_estimators': 166, 'max_depth': 6, 'learning_rate': 0.07614489699881255, 'subsample': 0.8701063629946418, 'colsample_bytree': 0.641434548121403, 'gamma': 2.0334955404201365, 'min_child_weight': 10, 'scale_pos_weight': 14, 'reg_alpha': 9.9233856948998, 'reg_lambda': 6.540515146221885}. Best is trial 8 with value: 0.09302325581395349.\n",
      "C:\\Users\\user\\AppData\\Local\\Temp\\ipykernel_9600\\2512104123.py:15: FutureWarning: suggest_loguniform has been deprecated in v3.0.0. This feature will be removed in v6.0.0. See https://github.com/optuna/optuna/releases/tag/v3.0.0. Use suggest_float(..., log=True) instead.\n",
      "  'learning_rate': trial.suggest_loguniform('learning_rate', 1e-3, 0.3),\n",
      "[I 2024-08-29 05:46:44,150] Trial 11 finished with value: 0.10362694300518134 and parameters: {'n_estimators': 296, 'max_depth': 7, 'learning_rate': 0.268923312642378, 'subsample': 0.8759882828420389, 'colsample_bytree': 0.8602754660165448, 'gamma': 2.1113386858466896, 'min_child_weight': 8, 'scale_pos_weight': 24, 'reg_alpha': 3.950160490640649, 'reg_lambda': 2.244672266600337}. Best is trial 11 with value: 0.10362694300518134.\n",
      "C:\\Users\\user\\AppData\\Local\\Temp\\ipykernel_9600\\2512104123.py:15: FutureWarning: suggest_loguniform has been deprecated in v3.0.0. This feature will be removed in v6.0.0. See https://github.com/optuna/optuna/releases/tag/v3.0.0. Use suggest_float(..., log=True) instead.\n",
      "  'learning_rate': trial.suggest_loguniform('learning_rate', 1e-3, 0.3),\n",
      "[I 2024-08-29 05:46:44,944] Trial 12 finished with value: 0.08754208754208755 and parameters: {'n_estimators': 299, 'max_depth': 7, 'learning_rate': 0.25423826041630526, 'subsample': 0.8542922217533634, 'colsample_bytree': 0.8661785630079285, 'gamma': 1.8484109884456956, 'min_child_weight': 8, 'scale_pos_weight': 20, 'reg_alpha': 3.7300371456636667, 'reg_lambda': 1.7534704484250319}. Best is trial 11 with value: 0.10362694300518134.\n",
      "C:\\Users\\user\\AppData\\Local\\Temp\\ipykernel_9600\\2512104123.py:15: FutureWarning: suggest_loguniform has been deprecated in v3.0.0. This feature will be removed in v6.0.0. See https://github.com/optuna/optuna/releases/tag/v3.0.0. Use suggest_float(..., log=True) instead.\n",
      "  'learning_rate': trial.suggest_loguniform('learning_rate', 1e-3, 0.3),\n",
      "[I 2024-08-29 05:46:45,403] Trial 13 finished with value: 0.06881720430107527 and parameters: {'n_estimators': 180, 'max_depth': 6, 'learning_rate': 0.09938251306438982, 'subsample': 0.84891210168045, 'colsample_bytree': 0.6862291859769385, 'gamma': 3.1621874228597218, 'min_child_weight': 8, 'scale_pos_weight': 20, 'reg_alpha': 9.681421661391088, 'reg_lambda': 0.30334885577949633}. Best is trial 11 with value: 0.10362694300518134.\n",
      "C:\\Users\\user\\AppData\\Local\\Temp\\ipykernel_9600\\2512104123.py:15: FutureWarning: suggest_loguniform has been deprecated in v3.0.0. This feature will be removed in v6.0.0. See https://github.com/optuna/optuna/releases/tag/v3.0.0. Use suggest_float(..., log=True) instead.\n",
      "  'learning_rate': trial.suggest_loguniform('learning_rate', 1e-3, 0.3),\n",
      "[I 2024-08-29 05:46:46,515] Trial 14 finished with value: 0.1012216404886562 and parameters: {'n_estimators': 215, 'max_depth': 10, 'learning_rate': 0.11877265257073366, 'subsample': 0.9150416968347848, 'colsample_bytree': 0.8578286701094335, 'gamma': 1.2475093955268939, 'min_child_weight': 7, 'scale_pos_weight': 19, 'reg_alpha': 3.7660056126828065, 'reg_lambda': 2.5181106933206028}. Best is trial 11 with value: 0.10362694300518134.\n",
      "C:\\Users\\user\\AppData\\Local\\Temp\\ipykernel_9600\\2512104123.py:15: FutureWarning: suggest_loguniform has been deprecated in v3.0.0. This feature will be removed in v6.0.0. See https://github.com/optuna/optuna/releases/tag/v3.0.0. Use suggest_float(..., log=True) instead.\n",
      "  'learning_rate': trial.suggest_loguniform('learning_rate', 1e-3, 0.3),\n",
      "[I 2024-08-29 05:46:46,807] Trial 15 finished with value: 0.0525164113785558 and parameters: {'n_estimators': 138, 'max_depth': 4, 'learning_rate': 0.03444283350595498, 'subsample': 0.6909960450476476, 'colsample_bytree': 0.8709762152184883, 'gamma': 1.4827421003073127, 'min_child_weight': 8, 'scale_pos_weight': 21, 'reg_alpha': 3.8461016638842955, 'reg_lambda': 6.288861547480495}. Best is trial 11 with value: 0.10362694300518134.\n",
      "C:\\Users\\user\\AppData\\Local\\Temp\\ipykernel_9600\\2512104123.py:15: FutureWarning: suggest_loguniform has been deprecated in v3.0.0. This feature will be removed in v6.0.0. See https://github.com/optuna/optuna/releases/tag/v3.0.0. Use suggest_float(..., log=True) instead.\n",
      "  'learning_rate': trial.suggest_loguniform('learning_rate', 1e-3, 0.3),\n",
      "[I 2024-08-29 05:46:47,828] Trial 16 finished with value: 0.09375 and parameters: {'n_estimators': 222, 'max_depth': 10, 'learning_rate': 0.12886549582316945, 'subsample': 0.501791439939315, 'colsample_bytree': 0.8567377486499472, 'gamma': 1.4259185296882433, 'min_child_weight': 10, 'scale_pos_weight': 17, 'reg_alpha': 3.733285662305673, 'reg_lambda': 2.599961578722775}. Best is trial 11 with value: 0.10362694300518134.\n",
      "C:\\Users\\user\\AppData\\Local\\Temp\\ipykernel_9600\\2512104123.py:15: FutureWarning: suggest_loguniform has been deprecated in v3.0.0. This feature will be removed in v6.0.0. See https://github.com/optuna/optuna/releases/tag/v3.0.0. Use suggest_float(..., log=True) instead.\n",
      "  'learning_rate': trial.suggest_loguniform('learning_rate', 1e-3, 0.3),\n",
      "[I 2024-08-29 05:46:48,587] Trial 17 finished with value: 0.0989010989010989 and parameters: {'n_estimators': 276, 'max_depth': 7, 'learning_rate': 0.17685848001073945, 'subsample': 0.8048889863738845, 'colsample_bytree': 0.9983547746958461, 'gamma': 1.3578116704598195, 'min_child_weight': 7, 'scale_pos_weight': 22, 'reg_alpha': 2.7529815922722394, 'reg_lambda': 2.818750752592769}. Best is trial 11 with value: 0.10362694300518134.\n",
      "C:\\Users\\user\\AppData\\Local\\Temp\\ipykernel_9600\\2512104123.py:15: FutureWarning: suggest_loguniform has been deprecated in v3.0.0. This feature will be removed in v6.0.0. See https://github.com/optuna/optuna/releases/tag/v3.0.0. Use suggest_float(..., log=True) instead.\n",
      "  'learning_rate': trial.suggest_loguniform('learning_rate', 1e-3, 0.3),\n",
      "[I 2024-08-29 05:46:49,412] Trial 18 finished with value: 0.0759493670886076 and parameters: {'n_estimators': 152, 'max_depth': 10, 'learning_rate': 0.04185281796413444, 'subsample': 0.9192903458695677, 'colsample_bytree': 0.922920374325751, 'gamma': 3.120003427662714, 'min_child_weight': 9, 'scale_pos_weight': 18, 'reg_alpha': 4.656137328068366, 'reg_lambda': 5.832108250283411}. Best is trial 11 with value: 0.10362694300518134.\n",
      "C:\\Users\\user\\AppData\\Local\\Temp\\ipykernel_9600\\2512104123.py:15: FutureWarning: suggest_loguniform has been deprecated in v3.0.0. This feature will be removed in v6.0.0. See https://github.com/optuna/optuna/releases/tag/v3.0.0. Use suggest_float(..., log=True) instead.\n",
      "  'learning_rate': trial.suggest_loguniform('learning_rate', 1e-3, 0.3),\n",
      "[I 2024-08-29 05:46:49,771] Trial 19 finished with value: 0.05240174672489083 and parameters: {'n_estimators': 213, 'max_depth': 5, 'learning_rate': 0.024749825447365446, 'subsample': 0.8157158261370406, 'colsample_bytree': 0.7315661416681769, 'gamma': 0.10747797283706717, 'min_child_weight': 7, 'scale_pos_weight': 23, 'reg_alpha': 2.7287151293719076, 'reg_lambda': 0.07517376768432804}. Best is trial 11 with value: 0.10362694300518134.\n",
      "C:\\Users\\user\\AppData\\Local\\Temp\\ipykernel_9600\\2512104123.py:15: FutureWarning: suggest_loguniform has been deprecated in v3.0.0. This feature will be removed in v6.0.0. See https://github.com/optuna/optuna/releases/tag/v3.0.0. Use suggest_float(..., log=True) instead.\n",
      "  'learning_rate': trial.suggest_loguniform('learning_rate', 1e-3, 0.3),\n",
      "[I 2024-08-29 05:46:50,569] Trial 20 finished with value: 0.09034907597535935 and parameters: {'n_estimators': 272, 'max_depth': 8, 'learning_rate': 0.06085548939428598, 'subsample': 0.9267864764458542, 'colsample_bytree': 0.8410057127421853, 'gamma': 1.1004107330636461, 'min_child_weight': 9, 'scale_pos_weight': 19, 'reg_alpha': 0.26062019161672545, 'reg_lambda': 2.087315841966535}. Best is trial 11 with value: 0.10362694300518134.\n",
      "C:\\Users\\user\\AppData\\Local\\Temp\\ipykernel_9600\\2512104123.py:15: FutureWarning: suggest_loguniform has been deprecated in v3.0.0. This feature will be removed in v6.0.0. See https://github.com/optuna/optuna/releases/tag/v3.0.0. Use suggest_float(..., log=True) instead.\n",
      "  'learning_rate': trial.suggest_loguniform('learning_rate', 1e-3, 0.3),\n",
      "[I 2024-08-29 05:46:51,333] Trial 21 finished with value: 0.08061420345489444 and parameters: {'n_estimators': 273, 'max_depth': 7, 'learning_rate': 0.1495182088391737, 'subsample': 0.8079987248595262, 'colsample_bytree': 0.9960121592932841, 'gamma': 1.20569107656286, 'min_child_weight': 7, 'scale_pos_weight': 22, 'reg_alpha': 3.1714788446845708, 'reg_lambda': 3.3413512403752614}. Best is trial 11 with value: 0.10362694300518134.\n",
      "C:\\Users\\user\\AppData\\Local\\Temp\\ipykernel_9600\\2512104123.py:15: FutureWarning: suggest_loguniform has been deprecated in v3.0.0. This feature will be removed in v6.0.0. See https://github.com/optuna/optuna/releases/tag/v3.0.0. Use suggest_float(..., log=True) instead.\n",
      "  'learning_rate': trial.suggest_loguniform('learning_rate', 1e-3, 0.3),\n",
      "[I 2024-08-29 05:46:52,095] Trial 22 finished with value: 0.08791208791208792 and parameters: {'n_estimators': 273, 'max_depth': 7, 'learning_rate': 0.19216024374810758, 'subsample': 0.6817358251893797, 'colsample_bytree': 0.9878265705146172, 'gamma': 1.801708465148738, 'min_child_weight': 7, 'scale_pos_weight': 23, 'reg_alpha': 2.5778759914377667, 'reg_lambda': 2.798045286067695}. Best is trial 11 with value: 0.10362694300518134.\n",
      "C:\\Users\\user\\AppData\\Local\\Temp\\ipykernel_9600\\2512104123.py:15: FutureWarning: suggest_loguniform has been deprecated in v3.0.0. This feature will be removed in v6.0.0. See https://github.com/optuna/optuna/releases/tag/v3.0.0. Use suggest_float(..., log=True) instead.\n",
      "  'learning_rate': trial.suggest_loguniform('learning_rate', 1e-3, 0.3),\n",
      "[I 2024-08-29 05:46:52,497] Trial 23 finished with value: 0.08097165991902834 and parameters: {'n_estimators': 230, 'max_depth': 5, 'learning_rate': 0.293733726878141, 'subsample': 0.8794642028284593, 'colsample_bytree': 0.911595549100917, 'gamma': 2.1828721413988346, 'min_child_weight': 6, 'scale_pos_weight': 23, 'reg_alpha': 4.1690482770154365, 'reg_lambda': 5.359337403368408}. Best is trial 11 with value: 0.10362694300518134.\n",
      "C:\\Users\\user\\AppData\\Local\\Temp\\ipykernel_9600\\2512104123.py:15: FutureWarning: suggest_loguniform has been deprecated in v3.0.0. This feature will be removed in v6.0.0. See https://github.com/optuna/optuna/releases/tag/v3.0.0. Use suggest_float(..., log=True) instead.\n",
      "  'learning_rate': trial.suggest_loguniform('learning_rate', 1e-3, 0.3),\n",
      "[I 2024-08-29 05:46:53,062] Trial 24 finished with value: 0.09126984126984126 and parameters: {'n_estimators': 281, 'max_depth': 6, 'learning_rate': 0.16669133608220058, 'subsample': 0.8244686856587226, 'colsample_bytree': 0.8957459548945809, 'gamma': 2.850670746969988, 'min_child_weight': 9, 'scale_pos_weight': 25, 'reg_alpha': 5.689220998583593, 'reg_lambda': 2.1758704453461535}. Best is trial 11 with value: 0.10362694300518134.\n",
      "C:\\Users\\user\\AppData\\Local\\Temp\\ipykernel_9600\\2512104123.py:15: FutureWarning: suggest_loguniform has been deprecated in v3.0.0. This feature will be removed in v6.0.0. See https://github.com/optuna/optuna/releases/tag/v3.0.0. Use suggest_float(..., log=True) instead.\n",
      "  'learning_rate': trial.suggest_loguniform('learning_rate', 1e-3, 0.3),\n",
      "[I 2024-08-29 05:46:53,665] Trial 25 finished with value: 0.0854368932038835 and parameters: {'n_estimators': 195, 'max_depth': 8, 'learning_rate': 0.11757306029962082, 'subsample': 0.9571845836267716, 'colsample_bytree': 0.9548165557258478, 'gamma': 1.6111584378059933, 'min_child_weight': 5, 'scale_pos_weight': 21, 'reg_alpha': 1.1623429507954546, 'reg_lambda': 3.3781324583838352}. Best is trial 11 with value: 0.10362694300518134.\n",
      "C:\\Users\\user\\AppData\\Local\\Temp\\ipykernel_9600\\2512104123.py:15: FutureWarning: suggest_loguniform has been deprecated in v3.0.0. This feature will be removed in v6.0.0. See https://github.com/optuna/optuna/releases/tag/v3.0.0. Use suggest_float(..., log=True) instead.\n",
      "  'learning_rate': trial.suggest_loguniform('learning_rate', 1e-3, 0.3),\n",
      "[I 2024-08-29 05:46:53,982] Trial 26 finished with value: 0.056768558951965066 and parameters: {'n_estimators': 256, 'max_depth': 3, 'learning_rate': 0.06784767185635819, 'subsample': 0.7900130774624495, 'colsample_bytree': 0.8199240897474201, 'gamma': 1.0033658678431017, 'min_child_weight': 7, 'scale_pos_weight': 18, 'reg_alpha': 3.0090610817141243, 'reg_lambda': 1.7374091638984233}. Best is trial 11 with value: 0.10362694300518134.\n",
      "C:\\Users\\user\\AppData\\Local\\Temp\\ipykernel_9600\\2512104123.py:15: FutureWarning: suggest_loguniform has been deprecated in v3.0.0. This feature will be removed in v6.0.0. See https://github.com/optuna/optuna/releases/tag/v3.0.0. Use suggest_float(..., log=True) instead.\n",
      "  'learning_rate': trial.suggest_loguniform('learning_rate', 1e-3, 0.3),\n",
      "[I 2024-08-29 05:46:55,160] Trial 27 finished with value: 0.06423982869379015 and parameters: {'n_estimators': 237, 'max_depth': 10, 'learning_rate': 0.01765815381562096, 'subsample': 0.8867138207842841, 'colsample_bytree': 0.751543995563794, 'gamma': 0.17198073371665945, 'min_child_weight': 8, 'scale_pos_weight': 14, 'reg_alpha': 4.684073071709337, 'reg_lambda': 4.954240067302343}. Best is trial 11 with value: 0.10362694300518134.\n",
      "C:\\Users\\user\\AppData\\Local\\Temp\\ipykernel_9600\\2512104123.py:15: FutureWarning: suggest_loguniform has been deprecated in v3.0.0. This feature will be removed in v6.0.0. See https://github.com/optuna/optuna/releases/tag/v3.0.0. Use suggest_float(..., log=True) instead.\n",
      "  'learning_rate': trial.suggest_loguniform('learning_rate', 1e-3, 0.3),\n",
      "[I 2024-08-29 05:46:55,950] Trial 28 finished with value: 0.08617594254937164 and parameters: {'n_estimators': 288, 'max_depth': 7, 'learning_rate': 0.20694179950049862, 'subsample': 0.7450087485804551, 'colsample_bytree': 0.9557447424872747, 'gamma': 2.7392339989259407, 'min_child_weight': 4, 'scale_pos_weight': 23, 'reg_alpha': 6.295875221464201, 'reg_lambda': 3.321625244590426}. Best is trial 11 with value: 0.10362694300518134.\n",
      "C:\\Users\\user\\AppData\\Local\\Temp\\ipykernel_9600\\2512104123.py:15: FutureWarning: suggest_loguniform has been deprecated in v3.0.0. This feature will be removed in v6.0.0. See https://github.com/optuna/optuna/releases/tag/v3.0.0. Use suggest_float(..., log=True) instead.\n",
      "  'learning_rate': trial.suggest_loguniform('learning_rate', 1e-3, 0.3),\n",
      "[I 2024-08-29 05:46:56,430] Trial 29 finished with value: 0.07933194154488518 and parameters: {'n_estimators': 295, 'max_depth': 4, 'learning_rate': 0.2686775082294987, 'subsample': 0.9445030403306955, 'colsample_bytree': 0.7800071407015984, 'gamma': 2.2937134781721573, 'min_child_weight': 9, 'scale_pos_weight': 25, 'reg_alpha': 2.27853696617079, 'reg_lambda': 4.0347244321988445}. Best is trial 11 with value: 0.10362694300518134.\n",
      "C:\\Users\\user\\AppData\\Local\\Temp\\ipykernel_9600\\2512104123.py:15: FutureWarning: suggest_loguniform has been deprecated in v3.0.0. This feature will be removed in v6.0.0. See https://github.com/optuna/optuna/releases/tag/v3.0.0. Use suggest_float(..., log=True) instead.\n",
      "  'learning_rate': trial.suggest_loguniform('learning_rate', 1e-3, 0.3),\n",
      "[I 2024-08-29 05:46:57,232] Trial 30 finished with value: 0.07610993657505286 and parameters: {'n_estimators': 262, 'max_depth': 8, 'learning_rate': 0.04997762019082175, 'subsample': 0.8447083215397961, 'colsample_bytree': 0.807264832689951, 'gamma': 0.9989242178474267, 'min_child_weight': 7, 'scale_pos_weight': 21, 'reg_alpha': 3.20695330673432, 'reg_lambda': 7.624001702153973}. Best is trial 11 with value: 0.10362694300518134.\n",
      "C:\\Users\\user\\AppData\\Local\\Temp\\ipykernel_9600\\2512104123.py:15: FutureWarning: suggest_loguniform has been deprecated in v3.0.0. This feature will be removed in v6.0.0. See https://github.com/optuna/optuna/releases/tag/v3.0.0. Use suggest_float(..., log=True) instead.\n",
      "  'learning_rate': trial.suggest_loguniform('learning_rate', 1e-3, 0.3),\n",
      "[I 2024-08-29 05:46:58,260] Trial 31 finished with value: 0.1040268456375839 and parameters: {'n_estimators': 224, 'max_depth': 10, 'learning_rate': 0.14000267899635943, 'subsample': 0.5247934493041146, 'colsample_bytree': 0.8563864744891198, 'gamma': 1.4506907100888817, 'min_child_weight': 10, 'scale_pos_weight': 16, 'reg_alpha': 4.088608411081839, 'reg_lambda': 2.505684393970747}. Best is trial 31 with value: 0.1040268456375839.\n",
      "C:\\Users\\user\\AppData\\Local\\Temp\\ipykernel_9600\\2512104123.py:15: FutureWarning: suggest_loguniform has been deprecated in v3.0.0. This feature will be removed in v6.0.0. See https://github.com/optuna/optuna/releases/tag/v3.0.0. Use suggest_float(..., log=True) instead.\n",
      "  'learning_rate': trial.suggest_loguniform('learning_rate', 1e-3, 0.3),\n",
      "[I 2024-08-29 05:46:59,184] Trial 32 finished with value: 0.09557522123893805 and parameters: {'n_estimators': 192, 'max_depth': 10, 'learning_rate': 0.11830091449637249, 'subsample': 0.5046738596710961, 'colsample_bytree': 0.8838035583384223, 'gamma': 1.801281604033199, 'min_child_weight': 10, 'scale_pos_weight': 15, 'reg_alpha': 5.249215017799696, 'reg_lambda': 2.4550487946017507}. Best is trial 31 with value: 0.1040268456375839.\n",
      "C:\\Users\\user\\AppData\\Local\\Temp\\ipykernel_9600\\2512104123.py:15: FutureWarning: suggest_loguniform has been deprecated in v3.0.0. This feature will be removed in v6.0.0. See https://github.com/optuna/optuna/releases/tag/v3.0.0. Use suggest_float(..., log=True) instead.\n",
      "  'learning_rate': trial.suggest_loguniform('learning_rate', 1e-3, 0.3),\n",
      "[I 2024-08-29 05:47:00,221] Trial 33 finished with value: 0.10223642172523961 and parameters: {'n_estimators': 209, 'max_depth': 10, 'learning_rate': 0.18282636215360312, 'subsample': 0.7118982350560461, 'colsample_bytree': 0.7251908949719414, 'gamma': 1.3503647676837887, 'min_child_weight': 8, 'scale_pos_weight': 16, 'reg_alpha': 4.504226381218244, 'reg_lambda': 0.7226567539828395}. Best is trial 31 with value: 0.1040268456375839.\n",
      "C:\\Users\\user\\AppData\\Local\\Temp\\ipykernel_9600\\2512104123.py:15: FutureWarning: suggest_loguniform has been deprecated in v3.0.0. This feature will be removed in v6.0.0. See https://github.com/optuna/optuna/releases/tag/v3.0.0. Use suggest_float(..., log=True) instead.\n",
      "  'learning_rate': trial.suggest_loguniform('learning_rate', 1e-3, 0.3),\n",
      "[I 2024-08-29 05:47:01,252] Trial 34 finished with value: 0.12103746397694524 and parameters: {'n_estimators': 206, 'max_depth': 10, 'learning_rate': 0.2928160887627217, 'subsample': 0.6247009568303505, 'colsample_bytree': 0.7181981664190916, 'gamma': 0.8855045421915924, 'min_child_weight': 9, 'scale_pos_weight': 16, 'reg_alpha': 4.3814522182778575, 'reg_lambda': 0.812937670214589}. Best is trial 34 with value: 0.12103746397694524.\n",
      "C:\\Users\\user\\AppData\\Local\\Temp\\ipykernel_9600\\2512104123.py:15: FutureWarning: suggest_loguniform has been deprecated in v3.0.0. This feature will be removed in v6.0.0. See https://github.com/optuna/optuna/releases/tag/v3.0.0. Use suggest_float(..., log=True) instead.\n",
      "  'learning_rate': trial.suggest_loguniform('learning_rate', 1e-3, 0.3),\n",
      "[I 2024-08-29 05:47:01,887] Trial 35 finished with value: 0.10873146622734761 and parameters: {'n_estimators': 104, 'max_depth': 10, 'learning_rate': 0.22268626227013283, 'subsample': 0.5971095489719693, 'colsample_bytree': 0.7313014576701644, 'gamma': 0.39186876838877405, 'min_child_weight': 10, 'scale_pos_weight': 12, 'reg_alpha': 7.394508451210739, 'reg_lambda': 0.6734598334566154}. Best is trial 34 with value: 0.12103746397694524.\n",
      "C:\\Users\\user\\AppData\\Local\\Temp\\ipykernel_9600\\2512104123.py:15: FutureWarning: suggest_loguniform has been deprecated in v3.0.0. This feature will be removed in v6.0.0. See https://github.com/optuna/optuna/releases/tag/v3.0.0. Use suggest_float(..., log=True) instead.\n",
      "  'learning_rate': trial.suggest_loguniform('learning_rate', 1e-3, 0.3),\n",
      "[I 2024-08-29 05:47:02,355] Trial 36 finished with value: 0.09121621621621621 and parameters: {'n_estimators': 104, 'max_depth': 9, 'learning_rate': 0.24080961068444307, 'subsample': 0.5577107794745538, 'colsample_bytree': 0.6123290538002154, 'gamma': 0.45795257139420514, 'min_child_weight': 10, 'scale_pos_weight': 12, 'reg_alpha': 7.448173133459907, 'reg_lambda': 0.5127656359332826}. Best is trial 34 with value: 0.12103746397694524.\n",
      "C:\\Users\\user\\AppData\\Local\\Temp\\ipykernel_9600\\2512104123.py:15: FutureWarning: suggest_loguniform has been deprecated in v3.0.0. This feature will be removed in v6.0.0. See https://github.com/optuna/optuna/releases/tag/v3.0.0. Use suggest_float(..., log=True) instead.\n",
      "  'learning_rate': trial.suggest_loguniform('learning_rate', 1e-3, 0.3),\n",
      "[I 2024-08-29 05:47:02,884] Trial 37 finished with value: 0.0 and parameters: {'n_estimators': 132, 'max_depth': 9, 'learning_rate': 0.0010006718767708853, 'subsample': 0.6179901536076691, 'colsample_bytree': 0.7237960506992631, 'gamma': 0.8628117955364638, 'min_child_weight': 9, 'scale_pos_weight': 11, 'reg_alpha': 7.025423213834252, 'reg_lambda': 1.16912072069482}. Best is trial 34 with value: 0.12103746397694524.\n",
      "C:\\Users\\user\\AppData\\Local\\Temp\\ipykernel_9600\\2512104123.py:15: FutureWarning: suggest_loguniform has been deprecated in v3.0.0. This feature will be removed in v6.0.0. See https://github.com/optuna/optuna/releases/tag/v3.0.0. Use suggest_float(..., log=True) instead.\n",
      "  'learning_rate': trial.suggest_loguniform('learning_rate', 1e-3, 0.3),\n",
      "[I 2024-08-29 05:47:03,271] Trial 38 finished with value: 0.1045531197301855 and parameters: {'n_estimators': 71, 'max_depth': 9, 'learning_rate': 0.2833832609387009, 'subsample': 0.5558003141563214, 'colsample_bytree': 0.8015421419106352, 'gamma': 0.30417944449906265, 'min_child_weight': 10, 'scale_pos_weight': 9, 'reg_alpha': 8.238074285784993, 'reg_lambda': 1.4026341484876932}. Best is trial 34 with value: 0.12103746397694524.\n",
      "C:\\Users\\user\\AppData\\Local\\Temp\\ipykernel_9600\\2512104123.py:15: FutureWarning: suggest_loguniform has been deprecated in v3.0.0. This feature will be removed in v6.0.0. See https://github.com/optuna/optuna/releases/tag/v3.0.0. Use suggest_float(..., log=True) instead.\n",
      "  'learning_rate': trial.suggest_loguniform('learning_rate', 1e-3, 0.3),\n",
      "[I 2024-08-29 05:47:03,583] Trial 39 finished with value: 0.022321428571428572 and parameters: {'n_estimators': 63, 'max_depth': 9, 'learning_rate': 0.009131585550386954, 'subsample': 0.5519892045459794, 'colsample_bytree': 0.8042575701840643, 'gamma': 0.3053838526523992, 'min_child_weight': 10, 'scale_pos_weight': 9, 'reg_alpha': 8.16096005838588, 'reg_lambda': 1.703967498786553}. Best is trial 34 with value: 0.12103746397694524.\n",
      "C:\\Users\\user\\AppData\\Local\\Temp\\ipykernel_9600\\2512104123.py:15: FutureWarning: suggest_loguniform has been deprecated in v3.0.0. This feature will be removed in v6.0.0. See https://github.com/optuna/optuna/releases/tag/v3.0.0. Use suggest_float(..., log=True) instead.\n",
      "  'learning_rate': trial.suggest_loguniform('learning_rate', 1e-3, 0.3),\n",
      "[I 2024-08-29 05:47:04,166] Trial 40 finished with value: 0.08333333333333333 and parameters: {'n_estimators': 100, 'max_depth': 10, 'learning_rate': 0.08805173094157077, 'subsample': 0.6287233467562037, 'colsample_bytree': 0.7622266688521947, 'gamma': 0.7709201218756361, 'min_child_weight': 10, 'scale_pos_weight': 13, 'reg_alpha': 8.413061196850279, 'reg_lambda': 1.2786357841867584}. Best is trial 34 with value: 0.12103746397694524.\n",
      "C:\\Users\\user\\AppData\\Local\\Temp\\ipykernel_9600\\2512104123.py:15: FutureWarning: suggest_loguniform has been deprecated in v3.0.0. This feature will be removed in v6.0.0. See https://github.com/optuna/optuna/releases/tag/v3.0.0. Use suggest_float(..., log=True) instead.\n",
      "  'learning_rate': trial.suggest_loguniform('learning_rate', 1e-3, 0.3),\n",
      "[I 2024-08-29 05:47:04,610] Trial 41 finished with value: 0.11338582677165354 and parameters: {'n_estimators': 73, 'max_depth': 10, 'learning_rate': 0.2935723142067026, 'subsample': 0.5940703155336072, 'colsample_bytree': 0.8315575994389334, 'gamma': 0.4351199869805467, 'min_child_weight': 9, 'scale_pos_weight': 10, 'reg_alpha': 6.026364277963934, 'reg_lambda': 0.016521290818480305}. Best is trial 34 with value: 0.12103746397694524.\n",
      "C:\\Users\\user\\AppData\\Local\\Temp\\ipykernel_9600\\2512104123.py:15: FutureWarning: suggest_loguniform has been deprecated in v3.0.0. This feature will be removed in v6.0.0. See https://github.com/optuna/optuna/releases/tag/v3.0.0. Use suggest_float(..., log=True) instead.\n",
      "  'learning_rate': trial.suggest_loguniform('learning_rate', 1e-3, 0.3),\n",
      "[I 2024-08-29 05:47:05,051] Trial 42 finished with value: 0.09722222222222222 and parameters: {'n_estimators': 72, 'max_depth': 10, 'learning_rate': 0.20675085052827208, 'subsample': 0.5994463590957864, 'colsample_bytree': 0.8277977423139636, 'gamma': 0.019117254847345944, 'min_child_weight': 9, 'scale_pos_weight': 10, 'reg_alpha': 6.224385918262273, 'reg_lambda': 0.7124756616557077}. Best is trial 34 with value: 0.12103746397694524.\n",
      "C:\\Users\\user\\AppData\\Local\\Temp\\ipykernel_9600\\2512104123.py:15: FutureWarning: suggest_loguniform has been deprecated in v3.0.0. This feature will be removed in v6.0.0. See https://github.com/optuna/optuna/releases/tag/v3.0.0. Use suggest_float(..., log=True) instead.\n",
      "  'learning_rate': trial.suggest_loguniform('learning_rate', 1e-3, 0.3),\n",
      "[I 2024-08-29 05:47:05,612] Trial 43 finished with value: 0.11144578313253012 and parameters: {'n_estimators': 93, 'max_depth': 10, 'learning_rate': 0.2915870243888432, 'subsample': 0.6532941343406077, 'colsample_bytree': 0.7907086667415524, 'gamma': 0.4428692542009273, 'min_child_weight': 10, 'scale_pos_weight': 8, 'reg_alpha': 7.0268870965212695, 'reg_lambda': 0.20160779464969902}. Best is trial 34 with value: 0.12103746397694524.\n",
      "C:\\Users\\user\\AppData\\Local\\Temp\\ipykernel_9600\\2512104123.py:15: FutureWarning: suggest_loguniform has been deprecated in v3.0.0. This feature will be removed in v6.0.0. See https://github.com/optuna/optuna/releases/tag/v3.0.0. Use suggest_float(..., log=True) instead.\n",
      "  'learning_rate': trial.suggest_loguniform('learning_rate', 1e-3, 0.3),\n",
      "[I 2024-08-29 05:47:06,022] Trial 44 finished with value: 0.11046511627906977 and parameters: {'n_estimators': 87, 'max_depth': 9, 'learning_rate': 0.29883243641966095, 'subsample': 0.646446039936898, 'colsample_bytree': 0.788252032701175, 'gamma': 0.44006220155884745, 'min_child_weight': 9, 'scale_pos_weight': 7, 'reg_alpha': 7.3809337931398495, 'reg_lambda': 0.002265202201082145}. Best is trial 34 with value: 0.12103746397694524.\n",
      "C:\\Users\\user\\AppData\\Local\\Temp\\ipykernel_9600\\2512104123.py:15: FutureWarning: suggest_loguniform has been deprecated in v3.0.0. This feature will be removed in v6.0.0. See https://github.com/optuna/optuna/releases/tag/v3.0.0. Use suggest_float(..., log=True) instead.\n",
      "  'learning_rate': trial.suggest_loguniform('learning_rate', 1e-3, 0.3),\n",
      "[I 2024-08-29 05:47:06,467] Trial 45 finished with value: 0.10147299509001637 and parameters: {'n_estimators': 91, 'max_depth': 9, 'learning_rate': 0.19795042862896017, 'subsample': 0.6572823194139212, 'colsample_bytree': 0.699166971443822, 'gamma': 0.539980987861304, 'min_child_weight': 9, 'scale_pos_weight': 7, 'reg_alpha': 7.598677162597273, 'reg_lambda': 0.03327915567697548}. Best is trial 34 with value: 0.12103746397694524.\n",
      "C:\\Users\\user\\AppData\\Local\\Temp\\ipykernel_9600\\2512104123.py:15: FutureWarning: suggest_loguniform has been deprecated in v3.0.0. This feature will be removed in v6.0.0. See https://github.com/optuna/optuna/releases/tag/v3.0.0. Use suggest_float(..., log=True) instead.\n",
      "  'learning_rate': trial.suggest_loguniform('learning_rate', 1e-3, 0.3),\n",
      "[I 2024-08-29 05:47:07,102] Trial 46 finished with value: 0.12817089452603472 and parameters: {'n_estimators': 121, 'max_depth': 10, 'learning_rate': 0.29430665305670906, 'subsample': 0.6511034898781523, 'colsample_bytree': 0.6512691096826901, 'gamma': 0.6004468563589055, 'min_child_weight': 9, 'scale_pos_weight': 6, 'reg_alpha': 7.108522874069061, 'reg_lambda': 0.6450295259525761}. Best is trial 46 with value: 0.12817089452603472.\n",
      "C:\\Users\\user\\AppData\\Local\\Temp\\ipykernel_9600\\2512104123.py:15: FutureWarning: suggest_loguniform has been deprecated in v3.0.0. This feature will be removed in v6.0.0. See https://github.com/optuna/optuna/releases/tag/v3.0.0. Use suggest_float(..., log=True) instead.\n",
      "  'learning_rate': trial.suggest_loguniform('learning_rate', 1e-3, 0.3),\n",
      "[I 2024-08-29 05:47:07,666] Trial 47 finished with value: 0.10718954248366012 and parameters: {'n_estimators': 119, 'max_depth': 9, 'learning_rate': 0.29430871226303346, 'subsample': 0.6519930778485902, 'colsample_bytree': 0.6160229797644143, 'gamma': 0.6245251671613061, 'min_child_weight': 1, 'scale_pos_weight': 5, 'reg_alpha': 6.879973557107076, 'reg_lambda': 0.3362807623080084}. Best is trial 46 with value: 0.12817089452603472.\n",
      "C:\\Users\\user\\AppData\\Local\\Temp\\ipykernel_9600\\2512104123.py:15: FutureWarning: suggest_loguniform has been deprecated in v3.0.0. This feature will be removed in v6.0.0. See https://github.com/optuna/optuna/releases/tag/v3.0.0. Use suggest_float(..., log=True) instead.\n",
      "  'learning_rate': trial.suggest_loguniform('learning_rate', 1e-3, 0.3),\n",
      "[I 2024-08-29 05:47:08,132] Trial 48 finished with value: 0.0 and parameters: {'n_estimators': 83, 'max_depth': 10, 'learning_rate': 0.00304119790015723, 'subsample': 0.6518175489807272, 'colsample_bytree': 0.6625034861208461, 'gamma': 4.141668090259216, 'min_child_weight': 9, 'scale_pos_weight': 7, 'reg_alpha': 5.892457678363229, 'reg_lambda': 0.7727946788979971}. Best is trial 46 with value: 0.12817089452603472.\n",
      "C:\\Users\\user\\AppData\\Local\\Temp\\ipykernel_9600\\2512104123.py:15: FutureWarning: suggest_loguniform has been deprecated in v3.0.0. This feature will be removed in v6.0.0. See https://github.com/optuna/optuna/releases/tag/v3.0.0. Use suggest_float(..., log=True) instead.\n",
      "  'learning_rate': trial.suggest_loguniform('learning_rate', 1e-3, 0.3),\n",
      "[I 2024-08-29 05:47:08,544] Trial 49 finished with value: 0.06827309236947791 and parameters: {'n_estimators': 121, 'max_depth': 8, 'learning_rate': 0.10128737995532877, 'subsample': 0.683878509292046, 'colsample_bytree': 0.5589335294813631, 'gamma': 0.8437277304155348, 'min_child_weight': 8, 'scale_pos_weight': 8, 'reg_alpha': 9.076644545836643, 'reg_lambda': 0.05207524091582831}. Best is trial 46 with value: 0.12817089452603472.\n",
      "C:\\Users\\user\\AppData\\Local\\Temp\\ipykernel_9600\\2512104123.py:15: FutureWarning: suggest_loguniform has been deprecated in v3.0.0. This feature will be removed in v6.0.0. See https://github.com/optuna/optuna/releases/tag/v3.0.0. Use suggest_float(..., log=True) instead.\n",
      "  'learning_rate': trial.suggest_loguniform('learning_rate', 1e-3, 0.3),\n",
      "[I 2024-08-29 05:47:08,874] Trial 50 finished with value: 0.09208103130755065 and parameters: {'n_estimators': 50, 'max_depth': 9, 'learning_rate': 0.1570080733910503, 'subsample': 0.7217376233523034, 'colsample_bytree': 0.702011147302201, 'gamma': 0.006802834911943001, 'min_child_weight': 9, 'scale_pos_weight': 6, 'reg_alpha': 6.774876765811527, 'reg_lambda': 0.8972778635378976}. Best is trial 46 with value: 0.12817089452603472.\n",
      "C:\\Users\\user\\AppData\\Local\\Temp\\ipykernel_9600\\2512104123.py:15: FutureWarning: suggest_loguniform has been deprecated in v3.0.0. This feature will be removed in v6.0.0. See https://github.com/optuna/optuna/releases/tag/v3.0.0. Use suggest_float(..., log=True) instead.\n",
      "  'learning_rate': trial.suggest_loguniform('learning_rate', 1e-3, 0.3),\n",
      "[I 2024-08-29 05:47:09,516] Trial 51 finished with value: 0.10180623973727422 and parameters: {'n_estimators': 106, 'max_depth': 10, 'learning_rate': 0.22747808854439416, 'subsample': 0.6004813465731634, 'colsample_bytree': 0.7760420750255037, 'gamma': 0.35721205787648025, 'min_child_weight': 10, 'scale_pos_weight': 10, 'reg_alpha': 7.299357717646698, 'reg_lambda': 0.46153665595433835}. Best is trial 46 with value: 0.12817089452603472.\n",
      "C:\\Users\\user\\AppData\\Local\\Temp\\ipykernel_9600\\2512104123.py:15: FutureWarning: suggest_loguniform has been deprecated in v3.0.0. This feature will be removed in v6.0.0. See https://github.com/optuna/optuna/releases/tag/v3.0.0. Use suggest_float(..., log=True) instead.\n",
      "  'learning_rate': trial.suggest_loguniform('learning_rate', 1e-3, 0.3),\n",
      "[I 2024-08-29 05:47:10,036] Trial 52 finished with value: 0.11764705882352941 and parameters: {'n_estimators': 88, 'max_depth': 10, 'learning_rate': 0.2998487501528103, 'subsample': 0.5810231465802725, 'colsample_bytree': 0.7478321534276849, 'gamma': 0.5542693298700776, 'min_child_weight': 9, 'scale_pos_weight': 6, 'reg_alpha': 7.74952911700832, 'reg_lambda': 1.0334007707049089}. Best is trial 46 with value: 0.12817089452603472.\n",
      "C:\\Users\\user\\AppData\\Local\\Temp\\ipykernel_9600\\2512104123.py:15: FutureWarning: suggest_loguniform has been deprecated in v3.0.0. This feature will be removed in v6.0.0. See https://github.com/optuna/optuna/releases/tag/v3.0.0. Use suggest_float(..., log=True) instead.\n",
      "  'learning_rate': trial.suggest_loguniform('learning_rate', 1e-3, 0.3),\n",
      "[I 2024-08-29 05:47:10,565] Trial 53 finished with value: 0.12320916905444126 and parameters: {'n_estimators': 89, 'max_depth': 10, 'learning_rate': 0.2910114118194308, 'subsample': 0.5825393291222342, 'colsample_bytree': 0.6524765362741205, 'gamma': 0.5681641061100019, 'min_child_weight': 8, 'scale_pos_weight': 6, 'reg_alpha': 8.704135854742638, 'reg_lambda': 1.4809103558554884}. Best is trial 46 with value: 0.12817089452603472.\n",
      "C:\\Users\\user\\AppData\\Local\\Temp\\ipykernel_9600\\2512104123.py:15: FutureWarning: suggest_loguniform has been deprecated in v3.0.0. This feature will be removed in v6.0.0. See https://github.com/optuna/optuna/releases/tag/v3.0.0. Use suggest_float(..., log=True) instead.\n",
      "  'learning_rate': trial.suggest_loguniform('learning_rate', 1e-3, 0.3),\n",
      "[I 2024-08-29 05:47:10,996] Trial 54 finished with value: 0.11295681063122924 and parameters: {'n_estimators': 73, 'max_depth': 10, 'learning_rate': 0.1514537384826386, 'subsample': 0.5795605214384537, 'colsample_bytree': 0.6392104446175266, 'gamma': 0.6804065038889833, 'min_child_weight': 8, 'scale_pos_weight': 6, 'reg_alpha': 8.767313745231723, 'reg_lambda': 1.5430572192899827}. Best is trial 46 with value: 0.12817089452603472.\n",
      "C:\\Users\\user\\AppData\\Local\\Temp\\ipykernel_9600\\2512104123.py:15: FutureWarning: suggest_loguniform has been deprecated in v3.0.0. This feature will be removed in v6.0.0. See https://github.com/optuna/optuna/releases/tag/v3.0.0. Use suggest_float(..., log=True) instead.\n",
      "  'learning_rate': trial.suggest_loguniform('learning_rate', 1e-3, 0.3),\n",
      "[I 2024-08-29 05:47:11,458] Trial 55 finished with value: 0.10975609756097561 and parameters: {'n_estimators': 75, 'max_depth': 10, 'learning_rate': 0.16634185685210964, 'subsample': 0.5766336811859899, 'colsample_bytree': 0.6456113712796515, 'gamma': 0.6830103266364663, 'min_child_weight': 8, 'scale_pos_weight': 5, 'reg_alpha': 8.710731187912742, 'reg_lambda': 1.3288265687037581}. Best is trial 46 with value: 0.12817089452603472.\n",
      "C:\\Users\\user\\AppData\\Local\\Temp\\ipykernel_9600\\2512104123.py:15: FutureWarning: suggest_loguniform has been deprecated in v3.0.0. This feature will be removed in v6.0.0. See https://github.com/optuna/optuna/releases/tag/v3.0.0. Use suggest_float(..., log=True) instead.\n",
      "  'learning_rate': trial.suggest_loguniform('learning_rate', 1e-3, 0.3),\n",
      "[I 2024-08-29 05:47:11,884] Trial 56 finished with value: 0.1057542768273717 and parameters: {'n_estimators': 62, 'max_depth': 10, 'learning_rate': 0.23099709188758782, 'subsample': 0.5778352453283964, 'colsample_bytree': 0.6050542170525604, 'gamma': 0.9594221196475585, 'min_child_weight': 6, 'scale_pos_weight': 6, 'reg_alpha': 9.265172667857284, 'reg_lambda': 1.8609078873333487}. Best is trial 46 with value: 0.12817089452603472.\n",
      "C:\\Users\\user\\AppData\\Local\\Temp\\ipykernel_9600\\2512104123.py:15: FutureWarning: suggest_loguniform has been deprecated in v3.0.0. This feature will be removed in v6.0.0. See https://github.com/optuna/optuna/releases/tag/v3.0.0. Use suggest_float(..., log=True) instead.\n",
      "  'learning_rate': trial.suggest_loguniform('learning_rate', 1e-3, 0.3),\n",
      "[I 2024-08-29 05:47:12,617] Trial 57 finished with value: 0.10048622366288493 and parameters: {'n_estimators': 154, 'max_depth': 9, 'learning_rate': 0.13798095282642311, 'subsample': 0.5245805051004467, 'colsample_bytree': 0.5875142501819894, 'gamma': 1.1881451190786754, 'min_child_weight': 8, 'scale_pos_weight': 6, 'reg_alpha': 7.83888794583165, 'reg_lambda': 1.5461253027986412}. Best is trial 46 with value: 0.12817089452603472.\n",
      "C:\\Users\\user\\AppData\\Local\\Temp\\ipykernel_9600\\2512104123.py:15: FutureWarning: suggest_loguniform has been deprecated in v3.0.0. This feature will be removed in v6.0.0. See https://github.com/optuna/optuna/releases/tag/v3.0.0. Use suggest_float(..., log=True) instead.\n",
      "  'learning_rate': trial.suggest_loguniform('learning_rate', 1e-3, 0.3),\n",
      "[I 2024-08-29 05:47:13,313] Trial 58 finished with value: 0.10380622837370242 and parameters: {'n_estimators': 128, 'max_depth': 10, 'learning_rate': 0.1088048502579092, 'subsample': 0.6157016833881587, 'colsample_bytree': 0.6354748357071364, 'gamma': 0.21391502134079643, 'min_child_weight': 8, 'scale_pos_weight': 8, 'reg_alpha': 8.73950774602988, 'reg_lambda': 0.9719479177234817}. Best is trial 46 with value: 0.12817089452603472.\n",
      "C:\\Users\\user\\AppData\\Local\\Temp\\ipykernel_9600\\2512104123.py:15: FutureWarning: suggest_loguniform has been deprecated in v3.0.0. This feature will be removed in v6.0.0. See https://github.com/optuna/optuna/releases/tag/v3.0.0. Use suggest_float(..., log=True) instead.\n",
      "  'learning_rate': trial.suggest_loguniform('learning_rate', 1e-3, 0.3),\n",
      "[I 2024-08-29 05:47:13,913] Trial 59 finished with value: 0.1272475795297372 and parameters: {'n_estimators': 113, 'max_depth': 10, 'learning_rate': 0.2352169745974049, 'subsample': 0.5353752769853004, 'colsample_bytree': 0.6765080535836838, 'gamma': 0.6718863796193563, 'min_child_weight': 8, 'scale_pos_weight': 5, 'reg_alpha': 9.33288844331576, 'reg_lambda': 1.9985878817709497}. Best is trial 46 with value: 0.12817089452603472.\n",
      "C:\\Users\\user\\AppData\\Local\\Temp\\ipykernel_9600\\2512104123.py:15: FutureWarning: suggest_loguniform has been deprecated in v3.0.0. This feature will be removed in v6.0.0. See https://github.com/optuna/optuna/releases/tag/v3.0.0. Use suggest_float(..., log=True) instead.\n",
      "  'learning_rate': trial.suggest_loguniform('learning_rate', 1e-3, 0.3),\n",
      "[I 2024-08-29 05:47:14,482] Trial 60 finished with value: 0.12552301255230125 and parameters: {'n_estimators': 111, 'max_depth': 9, 'learning_rate': 0.23624982884289503, 'subsample': 0.5350517196401663, 'colsample_bytree': 0.6846925640771839, 'gamma': 0.8507341017735011, 'min_child_weight': 9, 'scale_pos_weight': 5, 'reg_alpha': 9.997062387017703, 'reg_lambda': 1.072707585548849}. Best is trial 46 with value: 0.12817089452603472.\n",
      "C:\\Users\\user\\AppData\\Local\\Temp\\ipykernel_9600\\2512104123.py:15: FutureWarning: suggest_loguniform has been deprecated in v3.0.0. This feature will be removed in v6.0.0. See https://github.com/optuna/optuna/releases/tag/v3.0.0. Use suggest_float(..., log=True) instead.\n",
      "  'learning_rate': trial.suggest_loguniform('learning_rate', 1e-3, 0.3),\n",
      "[I 2024-08-29 05:47:15,281] Trial 61 finished with value: 0.1322314049586777 and parameters: {'n_estimators': 150, 'max_depth': 10, 'learning_rate': 0.2222769197887398, 'subsample': 0.5524362181641634, 'colsample_bytree': 0.668171807092532, 'gamma': 0.8528635227039771, 'min_child_weight': 9, 'scale_pos_weight': 5, 'reg_alpha': 9.677960661115003, 'reg_lambda': 1.105664914847701}. Best is trial 61 with value: 0.1322314049586777.\n",
      "C:\\Users\\user\\AppData\\Local\\Temp\\ipykernel_9600\\2512104123.py:15: FutureWarning: suggest_loguniform has been deprecated in v3.0.0. This feature will be removed in v6.0.0. See https://github.com/optuna/optuna/releases/tag/v3.0.0. Use suggest_float(..., log=True) instead.\n",
      "  'learning_rate': trial.suggest_loguniform('learning_rate', 1e-3, 0.3),\n",
      "[I 2024-08-29 05:47:16,021] Trial 62 finished with value: 0.12087912087912088 and parameters: {'n_estimators': 143, 'max_depth': 9, 'learning_rate': 0.2348984627819511, 'subsample': 0.5378616158801723, 'colsample_bytree': 0.6785384892838912, 'gamma': 0.8435258394341405, 'min_child_weight': 9, 'scale_pos_weight': 5, 'reg_alpha': 9.633958096249463, 'reg_lambda': 1.9922126528904935}. Best is trial 61 with value: 0.1322314049586777.\n",
      "C:\\Users\\user\\AppData\\Local\\Temp\\ipykernel_9600\\2512104123.py:15: FutureWarning: suggest_loguniform has been deprecated in v3.0.0. This feature will be removed in v6.0.0. See https://github.com/optuna/optuna/releases/tag/v3.0.0. Use suggest_float(..., log=True) instead.\n",
      "  'learning_rate': trial.suggest_loguniform('learning_rate', 1e-3, 0.3),\n",
      "[I 2024-08-29 05:47:16,562] Trial 63 finished with value: 0.12612612612612611 and parameters: {'n_estimators': 151, 'max_depth': 8, 'learning_rate': 0.1803738819457232, 'subsample': 0.5437376968165718, 'colsample_bytree': 0.6767727883562911, 'gamma': 1.0737825381271764, 'min_child_weight': 9, 'scale_pos_weight': 5, 'reg_alpha': 9.86784959733095, 'reg_lambda': 1.9937177598084963}. Best is trial 61 with value: 0.1322314049586777.\n",
      "C:\\Users\\user\\AppData\\Local\\Temp\\ipykernel_9600\\2512104123.py:15: FutureWarning: suggest_loguniform has been deprecated in v3.0.0. This feature will be removed in v6.0.0. See https://github.com/optuna/optuna/releases/tag/v3.0.0. Use suggest_float(..., log=True) instead.\n",
      "  'learning_rate': trial.suggest_loguniform('learning_rate', 1e-3, 0.3),\n",
      "[I 2024-08-29 05:47:17,203] Trial 64 finished with value: 0.09653092006033183 and parameters: {'n_estimators': 166, 'max_depth': 8, 'learning_rate': 0.1834100832394598, 'subsample': 0.5212111702613867, 'colsample_bytree': 0.6595932884476062, 'gamma': 1.0810634525814373, 'min_child_weight': 2, 'scale_pos_weight': 5, 'reg_alpha': 9.998189588721432, 'reg_lambda': 9.535407818627226}. Best is trial 61 with value: 0.1322314049586777.\n",
      "C:\\Users\\user\\AppData\\Local\\Temp\\ipykernel_9600\\2512104123.py:15: FutureWarning: suggest_loguniform has been deprecated in v3.0.0. This feature will be removed in v6.0.0. See https://github.com/optuna/optuna/releases/tag/v3.0.0. Use suggest_float(..., log=True) instead.\n",
      "  'learning_rate': trial.suggest_loguniform('learning_rate', 1e-3, 0.3),\n",
      "[I 2024-08-29 05:47:17,831] Trial 65 finished with value: 0.08695652173913043 and parameters: {'n_estimators': 114, 'max_depth': 8, 'learning_rate': 0.0755455464436444, 'subsample': 0.5423446500677775, 'colsample_bytree': 0.6949199788271452, 'gamma': 1.6369440636738368, 'min_child_weight': 8, 'scale_pos_weight': 5, 'reg_alpha': 9.495386469924732, 'reg_lambda': 2.0986194216978933}. Best is trial 61 with value: 0.1322314049586777.\n",
      "C:\\Users\\user\\AppData\\Local\\Temp\\ipykernel_9600\\2512104123.py:15: FutureWarning: suggest_loguniform has been deprecated in v3.0.0. This feature will be removed in v6.0.0. See https://github.com/optuna/optuna/releases/tag/v3.0.0. Use suggest_float(..., log=True) instead.\n",
      "  'learning_rate': trial.suggest_loguniform('learning_rate', 1e-3, 0.3),\n",
      "[I 2024-08-29 05:47:18,652] Trial 66 finished with value: 0.09427609427609428 and parameters: {'n_estimators': 146, 'max_depth': 9, 'learning_rate': 0.1313424355627487, 'subsample': 0.5113459814277173, 'colsample_bytree': 0.708536499894617, 'gamma': 1.2219928066568086, 'min_child_weight': 4, 'scale_pos_weight': 7, 'reg_alpha': 9.345858297199547, 'reg_lambda': 3.1161359400275295}. Best is trial 61 with value: 0.1322314049586777.\n",
      "C:\\Users\\user\\AppData\\Local\\Temp\\ipykernel_9600\\2512104123.py:15: FutureWarning: suggest_loguniform has been deprecated in v3.0.0. This feature will be removed in v6.0.0. See https://github.com/optuna/optuna/releases/tag/v3.0.0. Use suggest_float(..., log=True) instead.\n",
      "  'learning_rate': trial.suggest_loguniform('learning_rate', 1e-3, 0.3),\n",
      "[I 2024-08-29 05:47:19,431] Trial 67 finished with value: 0.06060606060606061 and parameters: {'n_estimators': 161, 'max_depth': 9, 'learning_rate': 0.007630476733286017, 'subsample': 0.5633954673300694, 'colsample_bytree': 0.6718287289668258, 'gamma': 0.9320587603358227, 'min_child_weight': 9, 'scale_pos_weight': 6, 'reg_alpha': 9.032197924887413, 'reg_lambda': 1.0066052450179492}. Best is trial 61 with value: 0.1322314049586777.\n",
      "C:\\Users\\user\\AppData\\Local\\Temp\\ipykernel_9600\\2512104123.py:15: FutureWarning: suggest_loguniform has been deprecated in v3.0.0. This feature will be removed in v6.0.0. See https://github.com/optuna/optuna/releases/tag/v3.0.0. Use suggest_float(..., log=True) instead.\n",
      "  'learning_rate': trial.suggest_loguniform('learning_rate', 1e-3, 0.3),\n",
      "[I 2024-08-29 05:47:19,929] Trial 68 finished with value: 0.08754208754208755 and parameters: {'n_estimators': 174, 'max_depth': 10, 'learning_rate': 0.1854809975485554, 'subsample': 0.5412281884029732, 'colsample_bytree': 0.6537270629974514, 'gamma': 4.864529993524108, 'min_child_weight': 7, 'scale_pos_weight': 7, 'reg_alpha': 9.766024062015312, 'reg_lambda': 3.6738804949445854}. Best is trial 61 with value: 0.1322314049586777.\n",
      "C:\\Users\\user\\AppData\\Local\\Temp\\ipykernel_9600\\2512104123.py:15: FutureWarning: suggest_loguniform has been deprecated in v3.0.0. This feature will be removed in v6.0.0. See https://github.com/optuna/optuna/releases/tag/v3.0.0. Use suggest_float(..., log=True) instead.\n",
      "  'learning_rate': trial.suggest_loguniform('learning_rate', 1e-3, 0.3),\n",
      "[I 2024-08-29 05:47:20,487] Trial 69 finished with value: 0.10863509749303621 and parameters: {'n_estimators': 136, 'max_depth': 9, 'learning_rate': 0.24559436013163072, 'subsample': 0.5684534237405791, 'colsample_bytree': 0.6318262693971936, 'gamma': 1.1312767060988451, 'min_child_weight': 8, 'scale_pos_weight': 5, 'reg_alpha': 8.553598399368656, 'reg_lambda': 2.322079560564844}. Best is trial 61 with value: 0.1322314049586777.\n"
     ]
    },
    {
     "name": "stdout",
     "output_type": "stream",
     "text": [
      "Best hyperparameters:  {'n_estimators': 150, 'max_depth': 10, 'learning_rate': 0.2222769197887398, 'subsample': 0.5524362181641634, 'colsample_bytree': 0.668171807092532, 'gamma': 0.8528635227039771, 'min_child_weight': 9, 'scale_pos_weight': 5, 'reg_alpha': 9.677960661115003, 'reg_lambda': 1.105664914847701}\n",
      "              precision    recall  f1-score   support\n",
      "\n",
      "           0       0.17      0.11      0.13       441\n",
      "           1       0.95      0.97      0.96      7642\n",
      "\n",
      "    accuracy                           0.92      8083\n",
      "   macro avg       0.56      0.54      0.55      8083\n",
      "weighted avg       0.91      0.92      0.91      8083\n",
      "\n"
     ]
    }
   ],
   "source": [
    "# Optuna 최적화\n",
    "study = optuna.create_study(direction='maximize')\n",
    "study.optimize(objective, n_trials=70)\n",
    "\n",
    "# 최적 하이퍼파라미터 출력\n",
    "print(\"Best hyperparameters: \", study.best_params)\n",
    "\n",
    "# 최적 모델로 재학습 및 검증\n",
    "best_params = study.best_params\n",
    "best_model = XGBClassifier(**best_params, random_state=42)\n",
    "\n",
    "best_model.fit(X_train_smote, y_train_smote)\n",
    "y_val_pred = best_model.predict(X_val)\n",
    "\n",
    "# 분류 리포트 출력\n",
    "print(classification_report(y_val, y_val_pred))"
   ]
  },
  {
   "cell_type": "markdown",
   "metadata": {},
   "source": [
    "LightGBM 하이퍼 파라미터 튜닝"
   ]
  },
  {
   "cell_type": "code",
   "execution_count": 70,
   "metadata": {},
   "outputs": [],
   "source": [
    "import lightgbm as lgb\n",
    "\n",
    "def objective(trial):\n",
    "    # 하이퍼파라미터 설정\n",
    "    params = {\n",
    "        'objective': 'binary',\n",
    "        'metric': 'binary_logloss',\n",
    "        'boosting_type': 'gbdt',\n",
    "        'n_estimators': trial.suggest_int('n_estimators', 50, 300),\n",
    "        'max_depth': trial.suggest_int('max_depth', -1, 30),  # -1은 무제한\n",
    "        'learning_rate': trial.suggest_loguniform('learning_rate', 1e-3, 0.3),\n",
    "        'subsample': trial.suggest_float('subsample', 0.5, 1.0),\n",
    "        'colsample_bytree': trial.suggest_float('colsample_bytree', 0.5, 1.0),\n",
    "        'num_leaves': trial.suggest_int('num_leaves', 15, 255),\n",
    "        'min_child_samples': trial.suggest_int('min_child_samples', 1, 20),\n",
    "        'scale_pos_weight': trial.suggest_int('scale_pos_weight', 5, 25),\n",
    "    }\n",
    "\n",
    "    # LightGBM 모델 생성\n",
    "    model = lgb.LGBMClassifier(**params, random_state=42)\n",
    "\n",
    "    # 모델 학습\n",
    "    model.fit(X_train_smote, y_train_smote)\n",
    "\n",
    "       # 검증 데이터에 대한 예측 및 정확도 계산\n",
    "    y_pred = model.predict(X_val)\n",
    "    f1 = f1_score(y_val, y_pred, pos_label=0)  # pos_label=0은 양성 클래스\n",
    "\n",
    "    return f1"
   ]
  },
  {
   "cell_type": "code",
   "execution_count": 71,
   "metadata": {},
   "outputs": [
    {
     "name": "stderr",
     "output_type": "stream",
     "text": [
      "[I 2024-08-29 05:47:34,678] A new study created in memory with name: no-name-8e94239b-6377-401e-a1b3-d85f1124003a\n",
      "C:\\Users\\user\\AppData\\Local\\Temp\\ipykernel_9600\\3909542524.py:11: FutureWarning: suggest_loguniform has been deprecated in v3.0.0. This feature will be removed in v6.0.0. See https://github.com/optuna/optuna/releases/tag/v3.0.0. Use suggest_float(..., log=True) instead.\n",
      "  'learning_rate': trial.suggest_loguniform('learning_rate', 1e-3, 0.3),\n"
     ]
    },
    {
     "name": "stdout",
     "output_type": "stream",
     "text": [
      "[LightGBM] [Info] Number of positive: 30514, number of negative: 30514\n",
      "[LightGBM] [Info] Auto-choosing col-wise multi-threading, the overhead of testing was 0.001495 seconds.\n",
      "You can set `force_col_wise=true` to remove the overhead.\n",
      "[LightGBM] [Info] Total Bins 3825\n",
      "[LightGBM] [Info] Number of data points in the train set: 61028, number of used features: 15\n",
      "[LightGBM] [Info] [binary:BoostFromScore]: pavg=0.500000 -> initscore=0.000000\n"
     ]
    },
    {
     "name": "stderr",
     "output_type": "stream",
     "text": [
      "[I 2024-08-29 05:47:35,131] Trial 0 finished with value: 0.06823027718550106 and parameters: {'n_estimators': 160, 'max_depth': 25, 'learning_rate': 0.028908597406446853, 'subsample': 0.7973197150669168, 'colsample_bytree': 0.6612956014553808, 'num_leaves': 90, 'min_child_samples': 1, 'scale_pos_weight': 9}. Best is trial 0 with value: 0.06823027718550106.\n",
      "C:\\Users\\user\\AppData\\Local\\Temp\\ipykernel_9600\\3909542524.py:11: FutureWarning: suggest_loguniform has been deprecated in v3.0.0. This feature will be removed in v6.0.0. See https://github.com/optuna/optuna/releases/tag/v3.0.0. Use suggest_float(..., log=True) instead.\n",
      "  'learning_rate': trial.suggest_loguniform('learning_rate', 1e-3, 0.3),\n"
     ]
    },
    {
     "name": "stdout",
     "output_type": "stream",
     "text": [
      "[LightGBM] [Info] Number of positive: 30514, number of negative: 30514\n",
      "[LightGBM] [Info] Auto-choosing col-wise multi-threading, the overhead of testing was 0.001516 seconds.\n",
      "You can set `force_col_wise=true` to remove the overhead.\n",
      "[LightGBM] [Info] Total Bins 3825\n",
      "[LightGBM] [Info] Number of data points in the train set: 61028, number of used features: 15\n",
      "[LightGBM] [Info] [binary:BoostFromScore]: pavg=0.500000 -> initscore=0.000000\n"
     ]
    },
    {
     "name": "stderr",
     "output_type": "stream",
     "text": [
      "[I 2024-08-29 05:47:35,522] Trial 1 finished with value: 0.10281517747858017 and parameters: {'n_estimators': 93, 'max_depth': 21, 'learning_rate': 0.21098635243424518, 'subsample': 0.789386542446345, 'colsample_bytree': 0.7737932083121165, 'num_leaves': 170, 'min_child_samples': 1, 'scale_pos_weight': 7}. Best is trial 1 with value: 0.10281517747858017.\n",
      "C:\\Users\\user\\AppData\\Local\\Temp\\ipykernel_9600\\3909542524.py:11: FutureWarning: suggest_loguniform has been deprecated in v3.0.0. This feature will be removed in v6.0.0. See https://github.com/optuna/optuna/releases/tag/v3.0.0. Use suggest_float(..., log=True) instead.\n",
      "  'learning_rate': trial.suggest_loguniform('learning_rate', 1e-3, 0.3),\n"
     ]
    },
    {
     "name": "stdout",
     "output_type": "stream",
     "text": [
      "[LightGBM] [Info] Number of positive: 30514, number of negative: 30514\n",
      "[LightGBM] [Info] Auto-choosing col-wise multi-threading, the overhead of testing was 0.001529 seconds.\n",
      "You can set `force_col_wise=true` to remove the overhead.\n",
      "[LightGBM] [Info] Total Bins 3825\n",
      "[LightGBM] [Info] Number of data points in the train set: 61028, number of used features: 15\n",
      "[LightGBM] [Info] [binary:BoostFromScore]: pavg=0.500000 -> initscore=0.000000\n"
     ]
    },
    {
     "name": "stderr",
     "output_type": "stream",
     "text": [
      "[I 2024-08-29 05:47:36,705] Trial 2 finished with value: 0.060085836909871244 and parameters: {'n_estimators': 297, 'max_depth': -1, 'learning_rate': 0.006107934501902556, 'subsample': 0.608692434754138, 'colsample_bytree': 0.8168488914186789, 'num_leaves': 164, 'min_child_samples': 13, 'scale_pos_weight': 19}. Best is trial 1 with value: 0.10281517747858017.\n",
      "C:\\Users\\user\\AppData\\Local\\Temp\\ipykernel_9600\\3909542524.py:11: FutureWarning: suggest_loguniform has been deprecated in v3.0.0. This feature will be removed in v6.0.0. See https://github.com/optuna/optuna/releases/tag/v3.0.0. Use suggest_float(..., log=True) instead.\n",
      "  'learning_rate': trial.suggest_loguniform('learning_rate', 1e-3, 0.3),\n"
     ]
    },
    {
     "name": "stdout",
     "output_type": "stream",
     "text": [
      "[LightGBM] [Info] Number of positive: 30514, number of negative: 30514\n",
      "[LightGBM] [Info] Auto-choosing col-wise multi-threading, the overhead of testing was 0.001825 seconds.\n",
      "You can set `force_col_wise=true` to remove the overhead.\n",
      "[LightGBM] [Info] Total Bins 3825\n",
      "[LightGBM] [Info] Number of data points in the train set: 61028, number of used features: 15\n",
      "[LightGBM] [Info] [binary:BoostFromScore]: pavg=0.500000 -> initscore=0.000000\n"
     ]
    },
    {
     "name": "stderr",
     "output_type": "stream",
     "text": [
      "[I 2024-08-29 05:47:37,247] Trial 3 finished with value: 0.06382978723404255 and parameters: {'n_estimators': 169, 'max_depth': 16, 'learning_rate': 0.033883093392152695, 'subsample': 0.8931987881835752, 'colsample_bytree': 0.7450230885142255, 'num_leaves': 127, 'min_child_samples': 5, 'scale_pos_weight': 25}. Best is trial 1 with value: 0.10281517747858017.\n",
      "C:\\Users\\user\\AppData\\Local\\Temp\\ipykernel_9600\\3909542524.py:11: FutureWarning: suggest_loguniform has been deprecated in v3.0.0. This feature will be removed in v6.0.0. See https://github.com/optuna/optuna/releases/tag/v3.0.0. Use suggest_float(..., log=True) instead.\n",
      "  'learning_rate': trial.suggest_loguniform('learning_rate', 1e-3, 0.3),\n",
      "[I 2024-08-29 05:47:37,398] Trial 4 finished with value: 0.05240174672489083 and parameters: {'n_estimators': 106, 'max_depth': 5, 'learning_rate': 0.07986413642321162, 'subsample': 0.8371374388541887, 'colsample_bytree': 0.5647000171363518, 'num_leaves': 149, 'min_child_samples': 13, 'scale_pos_weight': 25}. Best is trial 1 with value: 0.10281517747858017.\n",
      "C:\\Users\\user\\AppData\\Local\\Temp\\ipykernel_9600\\3909542524.py:11: FutureWarning: suggest_loguniform has been deprecated in v3.0.0. This feature will be removed in v6.0.0. See https://github.com/optuna/optuna/releases/tag/v3.0.0. Use suggest_float(..., log=True) instead.\n",
      "  'learning_rate': trial.suggest_loguniform('learning_rate', 1e-3, 0.3),\n"
     ]
    },
    {
     "name": "stdout",
     "output_type": "stream",
     "text": [
      "[LightGBM] [Info] Number of positive: 30514, number of negative: 30514\n",
      "[LightGBM] [Info] Auto-choosing col-wise multi-threading, the overhead of testing was 0.001349 seconds.\n",
      "You can set `force_col_wise=true` to remove the overhead.\n",
      "[LightGBM] [Info] Total Bins 3825\n",
      "[LightGBM] [Info] Number of data points in the train set: 61028, number of used features: 15\n",
      "[LightGBM] [Info] [binary:BoostFromScore]: pavg=0.500000 -> initscore=0.000000\n",
      "[LightGBM] [Warning] No further splits with positive gain, best gain: -inf\n",
      "[LightGBM] [Warning] No further splits with positive gain, best gain: -inf\n",
      "[LightGBM] [Warning] No further splits with positive gain, best gain: -inf\n",
      "[LightGBM] [Warning] No further splits with positive gain, best gain: -inf\n",
      "[LightGBM] [Warning] No further splits with positive gain, best gain: -inf\n",
      "[LightGBM] [Warning] No further splits with positive gain, best gain: -inf\n",
      "[LightGBM] [Warning] No further splits with positive gain, best gain: -inf\n",
      "[LightGBM] [Warning] No further splits with positive gain, best gain: -inf\n",
      "[LightGBM] [Warning] No further splits with positive gain, best gain: -inf\n",
      "[LightGBM] [Warning] No further splits with positive gain, best gain: -inf\n",
      "[LightGBM] [Warning] No further splits with positive gain, best gain: -inf\n",
      "[LightGBM] [Warning] No further splits with positive gain, best gain: -inf\n",
      "[LightGBM] [Warning] No further splits with positive gain, best gain: -inf\n",
      "[LightGBM] [Warning] No further splits with positive gain, best gain: -inf\n",
      "[LightGBM] [Warning] No further splits with positive gain, best gain: -inf\n",
      "[LightGBM] [Warning] No further splits with positive gain, best gain: -inf\n",
      "[LightGBM] [Warning] No further splits with positive gain, best gain: -inf\n",
      "[LightGBM] [Warning] No further splits with positive gain, best gain: -inf\n",
      "[LightGBM] [Warning] No further splits with positive gain, best gain: -inf\n",
      "[LightGBM] [Warning] No further splits with positive gain, best gain: -inf\n",
      "[LightGBM] [Warning] No further splits with positive gain, best gain: -inf\n",
      "[LightGBM] [Warning] No further splits with positive gain, best gain: -inf\n",
      "[LightGBM] [Warning] No further splits with positive gain, best gain: -inf\n",
      "[LightGBM] [Warning] No further splits with positive gain, best gain: -inf\n",
      "[LightGBM] [Warning] No further splits with positive gain, best gain: -inf\n",
      "[LightGBM] [Warning] No further splits with positive gain, best gain: -inf\n",
      "[LightGBM] [Warning] No further splits with positive gain, best gain: -inf\n",
      "[LightGBM] [Warning] No further splits with positive gain, best gain: -inf\n",
      "[LightGBM] [Warning] No further splits with positive gain, best gain: -inf\n",
      "[LightGBM] [Warning] No further splits with positive gain, best gain: -inf\n",
      "[LightGBM] [Warning] No further splits with positive gain, best gain: -inf\n",
      "[LightGBM] [Warning] No further splits with positive gain, best gain: -inf\n",
      "[LightGBM] [Warning] No further splits with positive gain, best gain: -inf\n",
      "[LightGBM] [Warning] No further splits with positive gain, best gain: -inf\n",
      "[LightGBM] [Warning] No further splits with positive gain, best gain: -inf\n",
      "[LightGBM] [Warning] No further splits with positive gain, best gain: -inf\n",
      "[LightGBM] [Warning] No further splits with positive gain, best gain: -inf\n",
      "[LightGBM] [Warning] No further splits with positive gain, best gain: -inf\n",
      "[LightGBM] [Warning] No further splits with positive gain, best gain: -inf\n",
      "[LightGBM] [Warning] No further splits with positive gain, best gain: -inf\n",
      "[LightGBM] [Warning] No further splits with positive gain, best gain: -inf\n",
      "[LightGBM] [Warning] No further splits with positive gain, best gain: -inf\n",
      "[LightGBM] [Warning] No further splits with positive gain, best gain: -inf\n",
      "[LightGBM] [Warning] No further splits with positive gain, best gain: -inf\n",
      "[LightGBM] [Warning] No further splits with positive gain, best gain: -inf\n",
      "[LightGBM] [Warning] No further splits with positive gain, best gain: -inf\n",
      "[LightGBM] [Warning] No further splits with positive gain, best gain: -inf\n",
      "[LightGBM] [Warning] No further splits with positive gain, best gain: -inf\n",
      "[LightGBM] [Warning] No further splits with positive gain, best gain: -inf\n",
      "[LightGBM] [Warning] No further splits with positive gain, best gain: -inf\n",
      "[LightGBM] [Warning] No further splits with positive gain, best gain: -inf\n",
      "[LightGBM] [Warning] No further splits with positive gain, best gain: -inf\n",
      "[LightGBM] [Warning] No further splits with positive gain, best gain: -inf\n",
      "[LightGBM] [Warning] No further splits with positive gain, best gain: -inf\n",
      "[LightGBM] [Warning] No further splits with positive gain, best gain: -inf\n",
      "[LightGBM] [Warning] No further splits with positive gain, best gain: -inf\n",
      "[LightGBM] [Warning] No further splits with positive gain, best gain: -inf\n",
      "[LightGBM] [Warning] No further splits with positive gain, best gain: -inf\n",
      "[LightGBM] [Warning] No further splits with positive gain, best gain: -inf\n",
      "[LightGBM] [Warning] No further splits with positive gain, best gain: -inf\n",
      "[LightGBM] [Warning] No further splits with positive gain, best gain: -inf\n",
      "[LightGBM] [Warning] No further splits with positive gain, best gain: -inf\n",
      "[LightGBM] [Warning] No further splits with positive gain, best gain: -inf\n",
      "[LightGBM] [Warning] No further splits with positive gain, best gain: -inf\n",
      "[LightGBM] [Warning] No further splits with positive gain, best gain: -inf\n",
      "[LightGBM] [Warning] No further splits with positive gain, best gain: -inf\n",
      "[LightGBM] [Warning] No further splits with positive gain, best gain: -inf\n",
      "[LightGBM] [Warning] No further splits with positive gain, best gain: -inf\n",
      "[LightGBM] [Warning] No further splits with positive gain, best gain: -inf\n",
      "[LightGBM] [Warning] No further splits with positive gain, best gain: -inf\n",
      "[LightGBM] [Warning] No further splits with positive gain, best gain: -inf\n",
      "[LightGBM] [Warning] No further splits with positive gain, best gain: -inf\n",
      "[LightGBM] [Warning] No further splits with positive gain, best gain: -inf\n",
      "[LightGBM] [Warning] No further splits with positive gain, best gain: -inf\n",
      "[LightGBM] [Warning] No further splits with positive gain, best gain: -inf\n",
      "[LightGBM] [Warning] No further splits with positive gain, best gain: -inf\n",
      "[LightGBM] [Warning] No further splits with positive gain, best gain: -inf\n",
      "[LightGBM] [Warning] No further splits with positive gain, best gain: -inf\n",
      "[LightGBM] [Warning] No further splits with positive gain, best gain: -inf\n",
      "[LightGBM] [Warning] No further splits with positive gain, best gain: -inf\n",
      "[LightGBM] [Warning] No further splits with positive gain, best gain: -inf\n",
      "[LightGBM] [Warning] No further splits with positive gain, best gain: -inf\n",
      "[LightGBM] [Warning] No further splits with positive gain, best gain: -inf\n",
      "[LightGBM] [Warning] No further splits with positive gain, best gain: -inf\n",
      "[LightGBM] [Warning] No further splits with positive gain, best gain: -inf\n",
      "[LightGBM] [Warning] No further splits with positive gain, best gain: -inf\n",
      "[LightGBM] [Warning] No further splits with positive gain, best gain: -inf\n",
      "[LightGBM] [Warning] No further splits with positive gain, best gain: -inf\n",
      "[LightGBM] [Warning] No further splits with positive gain, best gain: -inf\n",
      "[LightGBM] [Warning] No further splits with positive gain, best gain: -inf\n",
      "[LightGBM] [Warning] No further splits with positive gain, best gain: -inf\n",
      "[LightGBM] [Warning] No further splits with positive gain, best gain: -inf\n",
      "[LightGBM] [Warning] No further splits with positive gain, best gain: -inf\n",
      "[LightGBM] [Warning] No further splits with positive gain, best gain: -inf\n",
      "[LightGBM] [Warning] No further splits with positive gain, best gain: -inf\n",
      "[LightGBM] [Warning] No further splits with positive gain, best gain: -inf\n",
      "[LightGBM] [Warning] No further splits with positive gain, best gain: -inf\n",
      "[LightGBM] [Warning] No further splits with positive gain, best gain: -inf\n",
      "[LightGBM] [Warning] No further splits with positive gain, best gain: -inf\n",
      "[LightGBM] [Warning] No further splits with positive gain, best gain: -inf\n",
      "[LightGBM] [Warning] No further splits with positive gain, best gain: -inf\n",
      "[LightGBM] [Warning] No further splits with positive gain, best gain: -inf\n",
      "[LightGBM] [Warning] No further splits with positive gain, best gain: -inf\n",
      "[LightGBM] [Warning] No further splits with positive gain, best gain: -inf\n",
      "[LightGBM] [Warning] No further splits with positive gain, best gain: -inf\n",
      "[LightGBM] [Warning] No further splits with positive gain, best gain: -inf\n",
      "[LightGBM] [Info] Number of positive: 30514, number of negative: 30514\n",
      "[LightGBM] [Info] Auto-choosing col-wise multi-threading, the overhead of testing was 0.001603 seconds.\n",
      "You can set `force_col_wise=true` to remove the overhead.\n",
      "[LightGBM] [Info] Total Bins 3825\n",
      "[LightGBM] [Info] Number of data points in the train set: 61028, number of used features: 15\n",
      "[LightGBM] [Info] [binary:BoostFromScore]: pavg=0.500000 -> initscore=0.000000\n",
      "[LightGBM] [Warning] No further splits with positive gain, best gain: -inf\n",
      "[LightGBM] [Warning] No further splits with positive gain, best gain: -inf\n",
      "[LightGBM] [Warning] No further splits with positive gain, best gain: -inf\n",
      "[LightGBM] [Warning] No further splits with positive gain, best gain: -inf\n",
      "[LightGBM] [Warning] No further splits with positive gain, best gain: -inf\n",
      "[LightGBM] [Warning] No further splits with positive gain, best gain: -inf\n",
      "[LightGBM] [Warning] No further splits with positive gain, best gain: -inf\n",
      "[LightGBM] [Warning] No further splits with positive gain, best gain: -inf\n",
      "[LightGBM] [Warning] No further splits with positive gain, best gain: -inf\n",
      "[LightGBM] [Warning] No further splits with positive gain, best gain: -inf\n",
      "[LightGBM] [Warning] No further splits with positive gain, best gain: -inf\n",
      "[LightGBM] [Warning] No further splits with positive gain, best gain: -inf\n",
      "[LightGBM] [Warning] No further splits with positive gain, best gain: -inf\n",
      "[LightGBM] [Warning] No further splits with positive gain, best gain: -inf\n",
      "[LightGBM] [Warning] No further splits with positive gain, best gain: -inf\n",
      "[LightGBM] [Warning] No further splits with positive gain, best gain: -inf\n",
      "[LightGBM] [Warning] No further splits with positive gain, best gain: -inf\n",
      "[LightGBM] [Warning] No further splits with positive gain, best gain: -inf\n",
      "[LightGBM] [Warning] No further splits with positive gain, best gain: -inf\n",
      "[LightGBM] [Warning] No further splits with positive gain, best gain: -inf\n",
      "[LightGBM] [Warning] No further splits with positive gain, best gain: -inf\n",
      "[LightGBM] [Warning] No further splits with positive gain, best gain: -inf\n",
      "[LightGBM] [Warning] No further splits with positive gain, best gain: -inf\n",
      "[LightGBM] [Warning] No further splits with positive gain, best gain: -inf\n",
      "[LightGBM] [Warning] No further splits with positive gain, best gain: -inf\n",
      "[LightGBM] [Warning] No further splits with positive gain, best gain: -inf\n",
      "[LightGBM] [Warning] No further splits with positive gain, best gain: -inf\n",
      "[LightGBM] [Warning] No further splits with positive gain, best gain: -inf\n",
      "[LightGBM] [Warning] No further splits with positive gain, best gain: -inf\n",
      "[LightGBM] [Warning] No further splits with positive gain, best gain: -inf\n",
      "[LightGBM] [Warning] No further splits with positive gain, best gain: -inf\n",
      "[LightGBM] [Warning] No further splits with positive gain, best gain: -inf\n",
      "[LightGBM] [Warning] No further splits with positive gain, best gain: -inf\n",
      "[LightGBM] [Warning] No further splits with positive gain, best gain: -inf\n",
      "[LightGBM] [Warning] No further splits with positive gain, best gain: -inf\n",
      "[LightGBM] [Warning] No further splits with positive gain, best gain: -inf\n",
      "[LightGBM] [Warning] No further splits with positive gain, best gain: -inf\n",
      "[LightGBM] [Warning] No further splits with positive gain, best gain: -inf\n",
      "[LightGBM] [Warning] No further splits with positive gain, best gain: -inf\n",
      "[LightGBM] [Warning] No further splits with positive gain, best gain: -inf\n",
      "[LightGBM] [Warning] No further splits with positive gain, best gain: -inf\n",
      "[LightGBM] [Warning] No further splits with positive gain, best gain: -inf\n",
      "[LightGBM] [Warning] No further splits with positive gain, best gain: -inf\n",
      "[LightGBM] [Warning] No further splits with positive gain, best gain: -inf\n",
      "[LightGBM] [Warning] No further splits with positive gain, best gain: -inf\n",
      "[LightGBM] [Warning] No further splits with positive gain, best gain: -inf\n",
      "[LightGBM] [Warning] No further splits with positive gain, best gain: -inf\n",
      "[LightGBM] [Warning] No further splits with positive gain, best gain: -inf\n",
      "[LightGBM] [Warning] No further splits with positive gain, best gain: -inf\n",
      "[LightGBM] [Warning] No further splits with positive gain, best gain: -inf\n",
      "[LightGBM] [Warning] No further splits with positive gain, best gain: -inf\n",
      "[LightGBM] [Warning] No further splits with positive gain, best gain: -inf\n",
      "[LightGBM] [Warning] No further splits with positive gain, best gain: -inf\n",
      "[LightGBM] [Warning] No further splits with positive gain, best gain: -inf\n",
      "[LightGBM] [Warning] No further splits with positive gain, best gain: -inf\n",
      "[LightGBM] [Warning] No further splits with positive gain, best gain: -inf\n",
      "[LightGBM] [Warning] No further splits with positive gain, best gain: -inf\n",
      "[LightGBM] [Warning] No further splits with positive gain, best gain: -inf\n",
      "[LightGBM] [Warning] No further splits with positive gain, best gain: -inf\n",
      "[LightGBM] [Warning] No further splits with positive gain, best gain: -inf\n",
      "[LightGBM] [Warning] No further splits with positive gain, best gain: -inf\n",
      "[LightGBM] [Warning] No further splits with positive gain, best gain: -inf\n",
      "[LightGBM] [Warning] No further splits with positive gain, best gain: -inf\n",
      "[LightGBM] [Warning] No further splits with positive gain, best gain: -inf\n",
      "[LightGBM] [Warning] No further splits with positive gain, best gain: -inf\n",
      "[LightGBM] [Warning] No further splits with positive gain, best gain: -inf\n",
      "[LightGBM] [Warning] No further splits with positive gain, best gain: -inf\n",
      "[LightGBM] [Warning] No further splits with positive gain, best gain: -inf\n",
      "[LightGBM] [Warning] No further splits with positive gain, best gain: -inf\n",
      "[LightGBM] [Warning] No further splits with positive gain, best gain: -inf\n",
      "[LightGBM] [Warning] No further splits with positive gain, best gain: -inf\n",
      "[LightGBM] [Warning] No further splits with positive gain, best gain: -inf\n",
      "[LightGBM] [Warning] No further splits with positive gain, best gain: -inf\n"
     ]
    },
    {
     "name": "stderr",
     "output_type": "stream",
     "text": [
      "[I 2024-08-29 05:47:37,528] Trial 5 finished with value: 0.05228758169934641 and parameters: {'n_estimators': 113, 'max_depth': 3, 'learning_rate': 0.010580971427775593, 'subsample': 0.7944858136503525, 'colsample_bytree': 0.6632083660003867, 'num_leaves': 253, 'min_child_samples': 3, 'scale_pos_weight': 8}. Best is trial 1 with value: 0.10281517747858017.\n",
      "C:\\Users\\user\\AppData\\Local\\Temp\\ipykernel_9600\\3909542524.py:11: FutureWarning: suggest_loguniform has been deprecated in v3.0.0. This feature will be removed in v6.0.0. See https://github.com/optuna/optuna/releases/tag/v3.0.0. Use suggest_float(..., log=True) instead.\n",
      "  'learning_rate': trial.suggest_loguniform('learning_rate', 1e-3, 0.3),\n"
     ]
    },
    {
     "name": "stdout",
     "output_type": "stream",
     "text": [
      "[LightGBM] [Warning] No further splits with positive gain, best gain: -inf\n",
      "[LightGBM] [Warning] No further splits with positive gain, best gain: -inf\n",
      "[LightGBM] [Warning] No further splits with positive gain, best gain: -inf\n",
      "[LightGBM] [Warning] No further splits with positive gain, best gain: -inf\n",
      "[LightGBM] [Warning] No further splits with positive gain, best gain: -inf\n",
      "[LightGBM] [Warning] No further splits with positive gain, best gain: -inf\n",
      "[LightGBM] [Warning] No further splits with positive gain, best gain: -inf\n",
      "[LightGBM] [Warning] No further splits with positive gain, best gain: -inf\n",
      "[LightGBM] [Warning] No further splits with positive gain, best gain: -inf\n",
      "[LightGBM] [Warning] No further splits with positive gain, best gain: -inf\n",
      "[LightGBM] [Warning] No further splits with positive gain, best gain: -inf\n",
      "[LightGBM] [Warning] No further splits with positive gain, best gain: -inf\n",
      "[LightGBM] [Warning] No further splits with positive gain, best gain: -inf\n",
      "[LightGBM] [Warning] No further splits with positive gain, best gain: -inf\n",
      "[LightGBM] [Warning] No further splits with positive gain, best gain: -inf\n",
      "[LightGBM] [Warning] No further splits with positive gain, best gain: -inf\n",
      "[LightGBM] [Warning] No further splits with positive gain, best gain: -inf\n",
      "[LightGBM] [Warning] No further splits with positive gain, best gain: -inf\n",
      "[LightGBM] [Warning] No further splits with positive gain, best gain: -inf\n",
      "[LightGBM] [Warning] No further splits with positive gain, best gain: -inf\n",
      "[LightGBM] [Warning] No further splits with positive gain, best gain: -inf\n",
      "[LightGBM] [Warning] No further splits with positive gain, best gain: -inf\n",
      "[LightGBM] [Warning] No further splits with positive gain, best gain: -inf\n",
      "[LightGBM] [Warning] No further splits with positive gain, best gain: -inf\n",
      "[LightGBM] [Warning] No further splits with positive gain, best gain: -inf\n",
      "[LightGBM] [Warning] No further splits with positive gain, best gain: -inf\n",
      "[LightGBM] [Warning] No further splits with positive gain, best gain: -inf\n",
      "[LightGBM] [Warning] No further splits with positive gain, best gain: -inf\n",
      "[LightGBM] [Warning] No further splits with positive gain, best gain: -inf\n",
      "[LightGBM] [Warning] No further splits with positive gain, best gain: -inf\n",
      "[LightGBM] [Warning] No further splits with positive gain, best gain: -inf\n",
      "[LightGBM] [Warning] No further splits with positive gain, best gain: -inf\n",
      "[LightGBM] [Warning] No further splits with positive gain, best gain: -inf\n",
      "[LightGBM] [Warning] No further splits with positive gain, best gain: -inf\n",
      "[LightGBM] [Warning] No further splits with positive gain, best gain: -inf\n",
      "[LightGBM] [Warning] No further splits with positive gain, best gain: -inf\n",
      "[LightGBM] [Warning] No further splits with positive gain, best gain: -inf\n",
      "[LightGBM] [Warning] No further splits with positive gain, best gain: -inf\n",
      "[LightGBM] [Warning] No further splits with positive gain, best gain: -inf\n",
      "[LightGBM] [Warning] No further splits with positive gain, best gain: -inf\n",
      "[LightGBM] [Info] Number of positive: 30514, number of negative: 30514\n",
      "[LightGBM] [Info] Auto-choosing col-wise multi-threading, the overhead of testing was 0.001663 seconds.\n",
      "You can set `force_col_wise=true` to remove the overhead.\n",
      "[LightGBM] [Info] Total Bins 3825\n",
      "[LightGBM] [Info] Number of data points in the train set: 61028, number of used features: 15\n",
      "[LightGBM] [Info] [binary:BoostFromScore]: pavg=0.500000 -> initscore=0.000000\n"
     ]
    },
    {
     "name": "stderr",
     "output_type": "stream",
     "text": [
      "[I 2024-08-29 05:47:38,983] Trial 6 finished with value: 0.08905380333951762 and parameters: {'n_estimators': 292, 'max_depth': 15, 'learning_rate': 0.024693030662919176, 'subsample': 0.9277604205214475, 'colsample_bytree': 0.9277867876688071, 'num_leaves': 218, 'min_child_samples': 3, 'scale_pos_weight': 8}. Best is trial 1 with value: 0.10281517747858017.\n",
      "C:\\Users\\user\\AppData\\Local\\Temp\\ipykernel_9600\\3909542524.py:11: FutureWarning: suggest_loguniform has been deprecated in v3.0.0. This feature will be removed in v6.0.0. See https://github.com/optuna/optuna/releases/tag/v3.0.0. Use suggest_float(..., log=True) instead.\n",
      "  'learning_rate': trial.suggest_loguniform('learning_rate', 1e-3, 0.3),\n"
     ]
    },
    {
     "name": "stdout",
     "output_type": "stream",
     "text": [
      "[LightGBM] [Info] Number of positive: 30514, number of negative: 30514\n",
      "[LightGBM] [Info] Auto-choosing col-wise multi-threading, the overhead of testing was 0.001713 seconds.\n",
      "You can set `force_col_wise=true` to remove the overhead.\n",
      "[LightGBM] [Info] Total Bins 3825\n",
      "[LightGBM] [Info] Number of data points in the train set: 61028, number of used features: 15\n",
      "[LightGBM] [Info] [binary:BoostFromScore]: pavg=0.500000 -> initscore=0.000000\n"
     ]
    },
    {
     "name": "stderr",
     "output_type": "stream",
     "text": [
      "[I 2024-08-29 05:47:39,395] Trial 7 finished with value: 0.05194805194805195 and parameters: {'n_estimators': 206, 'max_depth': 12, 'learning_rate': 0.0016509735689844904, 'subsample': 0.528679086784553, 'colsample_bytree': 0.9045955967819558, 'num_leaves': 43, 'min_child_samples': 9, 'scale_pos_weight': 21}. Best is trial 1 with value: 0.10281517747858017.\n",
      "C:\\Users\\user\\AppData\\Local\\Temp\\ipykernel_9600\\3909542524.py:11: FutureWarning: suggest_loguniform has been deprecated in v3.0.0. This feature will be removed in v6.0.0. See https://github.com/optuna/optuna/releases/tag/v3.0.0. Use suggest_float(..., log=True) instead.\n",
      "  'learning_rate': trial.suggest_loguniform('learning_rate', 1e-3, 0.3),\n"
     ]
    },
    {
     "name": "stdout",
     "output_type": "stream",
     "text": [
      "[LightGBM] [Info] Number of positive: 30514, number of negative: 30514\n",
      "[LightGBM] [Info] Auto-choosing col-wise multi-threading, the overhead of testing was 0.001506 seconds.\n",
      "You can set `force_col_wise=true` to remove the overhead.\n",
      "[LightGBM] [Info] Total Bins 3825\n",
      "[LightGBM] [Info] Number of data points in the train set: 61028, number of used features: 15\n",
      "[LightGBM] [Info] [binary:BoostFromScore]: pavg=0.500000 -> initscore=0.000000\n"
     ]
    },
    {
     "name": "stderr",
     "output_type": "stream",
     "text": [
      "[I 2024-08-29 05:47:40,279] Trial 8 finished with value: 0.05603448275862069 and parameters: {'n_estimators': 295, 'max_depth': 30, 'learning_rate': 0.002465274132179536, 'subsample': 0.7256217952687428, 'colsample_bytree': 0.9292273822490713, 'num_leaves': 104, 'min_child_samples': 2, 'scale_pos_weight': 24}. Best is trial 1 with value: 0.10281517747858017.\n",
      "C:\\Users\\user\\AppData\\Local\\Temp\\ipykernel_9600\\3909542524.py:11: FutureWarning: suggest_loguniform has been deprecated in v3.0.0. This feature will be removed in v6.0.0. See https://github.com/optuna/optuna/releases/tag/v3.0.0. Use suggest_float(..., log=True) instead.\n",
      "  'learning_rate': trial.suggest_loguniform('learning_rate', 1e-3, 0.3),\n"
     ]
    },
    {
     "name": "stdout",
     "output_type": "stream",
     "text": [
      "[LightGBM] [Info] Number of positive: 30514, number of negative: 30514\n",
      "[LightGBM] [Info] Auto-choosing col-wise multi-threading, the overhead of testing was 0.001511 seconds.\n",
      "You can set `force_col_wise=true` to remove the overhead.\n",
      "[LightGBM] [Info] Total Bins 3825\n",
      "[LightGBM] [Info] Number of data points in the train set: 61028, number of used features: 15\n",
      "[LightGBM] [Info] [binary:BoostFromScore]: pavg=0.500000 -> initscore=0.000000\n"
     ]
    },
    {
     "name": "stderr",
     "output_type": "stream",
     "text": [
      "[I 2024-08-29 05:47:40,672] Trial 9 finished with value: 0.07352941176470588 and parameters: {'n_estimators': 142, 'max_depth': 26, 'learning_rate': 0.109897469437855, 'subsample': 0.5328646699906916, 'colsample_bytree': 0.7721021652841469, 'num_leaves': 110, 'min_child_samples': 18, 'scale_pos_weight': 17}. Best is trial 1 with value: 0.10281517747858017.\n",
      "C:\\Users\\user\\AppData\\Local\\Temp\\ipykernel_9600\\3909542524.py:11: FutureWarning: suggest_loguniform has been deprecated in v3.0.0. This feature will be removed in v6.0.0. See https://github.com/optuna/optuna/releases/tag/v3.0.0. Use suggest_float(..., log=True) instead.\n",
      "  'learning_rate': trial.suggest_loguniform('learning_rate', 1e-3, 0.3),\n"
     ]
    },
    {
     "name": "stdout",
     "output_type": "stream",
     "text": [
      "[LightGBM] [Info] Number of positive: 30514, number of negative: 30514\n",
      "[LightGBM] [Info] Auto-choosing col-wise multi-threading, the overhead of testing was 0.001465 seconds.\n",
      "You can set `force_col_wise=true` to remove the overhead.\n",
      "[LightGBM] [Info] Total Bins 3825\n",
      "[LightGBM] [Info] Number of data points in the train set: 61028, number of used features: 15\n",
      "[LightGBM] [Info] [binary:BoostFromScore]: pavg=0.500000 -> initscore=0.000000\n"
     ]
    },
    {
     "name": "stderr",
     "output_type": "stream",
     "text": [
      "[I 2024-08-29 05:47:40,991] Trial 10 finished with value: 0.10894941634241245 and parameters: {'n_estimators': 72, 'max_depth': 20, 'learning_rate': 0.27480740163496, 'subsample': 0.6858739407038044, 'colsample_bytree': 0.5271610608075694, 'num_leaves': 194, 'min_child_samples': 8, 'scale_pos_weight': 12}. Best is trial 10 with value: 0.10894941634241245.\n",
      "C:\\Users\\user\\AppData\\Local\\Temp\\ipykernel_9600\\3909542524.py:11: FutureWarning: suggest_loguniform has been deprecated in v3.0.0. This feature will be removed in v6.0.0. See https://github.com/optuna/optuna/releases/tag/v3.0.0. Use suggest_float(..., log=True) instead.\n",
      "  'learning_rate': trial.suggest_loguniform('learning_rate', 1e-3, 0.3),\n"
     ]
    },
    {
     "name": "stdout",
     "output_type": "stream",
     "text": [
      "[LightGBM] [Info] Number of positive: 30514, number of negative: 30514\n",
      "[LightGBM] [Info] Auto-choosing col-wise multi-threading, the overhead of testing was 0.001430 seconds.\n",
      "You can set `force_col_wise=true` to remove the overhead.\n",
      "[LightGBM] [Info] Total Bins 3825\n",
      "[LightGBM] [Info] Number of data points in the train set: 61028, number of used features: 15\n",
      "[LightGBM] [Info] [binary:BoostFromScore]: pavg=0.500000 -> initscore=0.000000\n"
     ]
    },
    {
     "name": "stderr",
     "output_type": "stream",
     "text": [
      "[I 2024-08-29 05:47:41,253] Trial 11 finished with value: 0.09102730819245773 and parameters: {'n_estimators': 53, 'max_depth': 20, 'learning_rate': 0.2987570612336618, 'subsample': 0.6886887388512495, 'colsample_bytree': 0.5662841921257917, 'num_leaves': 193, 'min_child_samples': 8, 'scale_pos_weight': 13}. Best is trial 10 with value: 0.10894941634241245.\n",
      "C:\\Users\\user\\AppData\\Local\\Temp\\ipykernel_9600\\3909542524.py:11: FutureWarning: suggest_loguniform has been deprecated in v3.0.0. This feature will be removed in v6.0.0. See https://github.com/optuna/optuna/releases/tag/v3.0.0. Use suggest_float(..., log=True) instead.\n",
      "  'learning_rate': trial.suggest_loguniform('learning_rate', 1e-3, 0.3),\n",
      "[I 2024-08-29 05:47:41,524] Trial 12 finished with value: 0.10282776349614396 and parameters: {'n_estimators': 54, 'max_depth': 21, 'learning_rate': 0.2966769555169955, 'subsample': 0.6537549071316701, 'colsample_bytree': 0.5183723886329119, 'num_leaves': 186, 'min_child_samples': 6, 'scale_pos_weight': 5}. Best is trial 10 with value: 0.10894941634241245.\n"
     ]
    },
    {
     "name": "stdout",
     "output_type": "stream",
     "text": [
      "[LightGBM] [Info] Number of positive: 30514, number of negative: 30514\n",
      "[LightGBM] [Info] Auto-choosing col-wise multi-threading, the overhead of testing was 0.001593 seconds.\n",
      "You can set `force_col_wise=true` to remove the overhead.\n",
      "[LightGBM] [Info] Total Bins 3825\n",
      "[LightGBM] [Info] Number of data points in the train set: 61028, number of used features: 15\n",
      "[LightGBM] [Info] [binary:BoostFromScore]: pavg=0.500000 -> initscore=0.000000\n"
     ]
    },
    {
     "name": "stderr",
     "output_type": "stream",
     "text": [
      "C:\\Users\\user\\AppData\\Local\\Temp\\ipykernel_9600\\3909542524.py:11: FutureWarning: suggest_loguniform has been deprecated in v3.0.0. This feature will be removed in v6.0.0. See https://github.com/optuna/optuna/releases/tag/v3.0.0. Use suggest_float(..., log=True) instead.\n",
      "  'learning_rate': trial.suggest_loguniform('learning_rate', 1e-3, 0.3),\n"
     ]
    },
    {
     "name": "stdout",
     "output_type": "stream",
     "text": [
      "[LightGBM] [Info] Number of positive: 30514, number of negative: 30514\n",
      "[LightGBM] [Info] Auto-choosing col-wise multi-threading, the overhead of testing was 0.001475 seconds.\n",
      "You can set `force_col_wise=true` to remove the overhead.\n",
      "[LightGBM] [Info] Total Bins 3825\n",
      "[LightGBM] [Info] Number of data points in the train set: 61028, number of used features: 15\n",
      "[LightGBM] [Info] [binary:BoostFromScore]: pavg=0.500000 -> initscore=0.000000\n"
     ]
    },
    {
     "name": "stderr",
     "output_type": "stream",
     "text": [
      "[I 2024-08-29 05:47:41,786] Trial 13 finished with value: 0.07346938775510205 and parameters: {'n_estimators': 50, 'max_depth': 11, 'learning_rate': 0.09056832920603777, 'subsample': 0.661093560137955, 'colsample_bytree': 0.5110031303130433, 'num_leaves': 226, 'min_child_samples': 7, 'scale_pos_weight': 12}. Best is trial 10 with value: 0.10894941634241245.\n",
      "C:\\Users\\user\\AppData\\Local\\Temp\\ipykernel_9600\\3909542524.py:11: FutureWarning: suggest_loguniform has been deprecated in v3.0.0. This feature will be removed in v6.0.0. See https://github.com/optuna/optuna/releases/tag/v3.0.0. Use suggest_float(..., log=True) instead.\n",
      "  'learning_rate': trial.suggest_loguniform('learning_rate', 1e-3, 0.3),\n"
     ]
    },
    {
     "name": "stdout",
     "output_type": "stream",
     "text": [
      "[LightGBM] [Info] Number of positive: 30514, number of negative: 30514\n",
      "[LightGBM] [Info] Auto-choosing col-wise multi-threading, the overhead of testing was 0.001317 seconds.\n",
      "You can set `force_col_wise=true` to remove the overhead.\n",
      "[LightGBM] [Info] Total Bins 3825\n",
      "[LightGBM] [Info] Number of data points in the train set: 61028, number of used features: 15\n",
      "[LightGBM] [Info] [binary:BoostFromScore]: pavg=0.500000 -> initscore=0.000000\n"
     ]
    },
    {
     "name": "stderr",
     "output_type": "stream",
     "text": [
      "[I 2024-08-29 05:47:42,579] Trial 14 finished with value: 0.10324129651860744 and parameters: {'n_estimators': 219, 'max_depth': 20, 'learning_rate': 0.18780266999082385, 'subsample': 0.6152082208840894, 'colsample_bytree': 0.5030174850240768, 'num_leaves': 190, 'min_child_samples': 13, 'scale_pos_weight': 5}. Best is trial 10 with value: 0.10894941634241245.\n",
      "C:\\Users\\user\\AppData\\Local\\Temp\\ipykernel_9600\\3909542524.py:11: FutureWarning: suggest_loguniform has been deprecated in v3.0.0. This feature will be removed in v6.0.0. See https://github.com/optuna/optuna/releases/tag/v3.0.0. Use suggest_float(..., log=True) instead.\n",
      "  'learning_rate': trial.suggest_loguniform('learning_rate', 1e-3, 0.3),\n"
     ]
    },
    {
     "name": "stdout",
     "output_type": "stream",
     "text": [
      "[LightGBM] [Info] Number of positive: 30514, number of negative: 30514\n",
      "[LightGBM] [Info] Auto-choosing col-wise multi-threading, the overhead of testing was 0.001613 seconds.\n",
      "You can set `force_col_wise=true` to remove the overhead.\n",
      "[LightGBM] [Info] Total Bins 3825\n",
      "[LightGBM] [Info] Number of data points in the train set: 61028, number of used features: 15\n",
      "[LightGBM] [Info] [binary:BoostFromScore]: pavg=0.500000 -> initscore=0.000000\n"
     ]
    },
    {
     "name": "stderr",
     "output_type": "stream",
     "text": [
      "[I 2024-08-29 05:47:43,457] Trial 15 finished with value: 0.10335195530726257 and parameters: {'n_estimators': 219, 'max_depth': 18, 'learning_rate': 0.1389166040540726, 'subsample': 0.6016173617164582, 'colsample_bytree': 0.6330474653071281, 'num_leaves': 212, 'min_child_samples': 12, 'scale_pos_weight': 12}. Best is trial 10 with value: 0.10894941634241245.\n",
      "C:\\Users\\user\\AppData\\Local\\Temp\\ipykernel_9600\\3909542524.py:11: FutureWarning: suggest_loguniform has been deprecated in v3.0.0. This feature will be removed in v6.0.0. See https://github.com/optuna/optuna/releases/tag/v3.0.0. Use suggest_float(..., log=True) instead.\n",
      "  'learning_rate': trial.suggest_loguniform('learning_rate', 1e-3, 0.3),\n"
     ]
    },
    {
     "name": "stdout",
     "output_type": "stream",
     "text": [
      "[LightGBM] [Info] Number of positive: 30514, number of negative: 30514\n",
      "[LightGBM] [Info] Auto-choosing col-wise multi-threading, the overhead of testing was 0.001574 seconds.\n",
      "You can set `force_col_wise=true` to remove the overhead.\n",
      "[LightGBM] [Info] Total Bins 3825\n",
      "[LightGBM] [Info] Number of data points in the train set: 61028, number of used features: 15\n",
      "[LightGBM] [Info] [binary:BoostFromScore]: pavg=0.500000 -> initscore=0.000000\n",
      "[LightGBM] [Warning] No further splits with positive gain, best gain: -inf\n",
      "[LightGBM] [Warning] No further splits with positive gain, best gain: -inf\n",
      "[LightGBM] [Warning] No further splits with positive gain, best gain: -inf\n",
      "[LightGBM] [Warning] No further splits with positive gain, best gain: -inf\n",
      "[LightGBM] [Warning] No further splits with positive gain, best gain: -inf\n",
      "[LightGBM] [Warning] No further splits with positive gain, best gain: -inf\n",
      "[LightGBM] [Warning] No further splits with positive gain, best gain: -inf\n",
      "[LightGBM] [Warning] No further splits with positive gain, best gain: -inf\n",
      "[LightGBM] [Warning] No further splits with positive gain, best gain: -inf\n",
      "[LightGBM] [Warning] No further splits with positive gain, best gain: -inf\n",
      "[LightGBM] [Warning] No further splits with positive gain, best gain: -inf\n",
      "[LightGBM] [Warning] No further splits with positive gain, best gain: -inf\n",
      "[LightGBM] [Warning] No further splits with positive gain, best gain: -inf\n",
      "[LightGBM] [Warning] No further splits with positive gain, best gain: -inf\n",
      "[LightGBM] [Warning] No further splits with positive gain, best gain: -inf\n",
      "[LightGBM] [Warning] No further splits with positive gain, best gain: -inf\n",
      "[LightGBM] [Warning] No further splits with positive gain, best gain: -inf\n",
      "[LightGBM] [Warning] No further splits with positive gain, best gain: -inf\n",
      "[LightGBM] [Warning] No further splits with positive gain, best gain: -inf\n",
      "[LightGBM] [Warning] No further splits with positive gain, best gain: -inf\n",
      "[LightGBM] [Warning] No further splits with positive gain, best gain: -inf\n",
      "[LightGBM] [Warning] No further splits with positive gain, best gain: -inf\n",
      "[LightGBM] [Warning] No further splits with positive gain, best gain: -inf\n",
      "[LightGBM] [Warning] No further splits with positive gain, best gain: -inf\n",
      "[LightGBM] [Warning] No further splits with positive gain, best gain: -inf\n",
      "[LightGBM] [Warning] No further splits with positive gain, best gain: -inf\n",
      "[LightGBM] [Warning] No further splits with positive gain, best gain: -inf\n",
      "[LightGBM] [Warning] No further splits with positive gain, best gain: -inf\n",
      "[LightGBM] [Warning] No further splits with positive gain, best gain: -inf\n",
      "[LightGBM] [Warning] No further splits with positive gain, best gain: -inf\n",
      "[LightGBM] [Warning] No further splits with positive gain, best gain: -inf\n",
      "[LightGBM] [Warning] No further splits with positive gain, best gain: -inf\n",
      "[LightGBM] [Warning] No further splits with positive gain, best gain: -inf\n",
      "[LightGBM] [Warning] No further splits with positive gain, best gain: -inf\n",
      "[LightGBM] [Warning] No further splits with positive gain, best gain: -inf\n",
      "[LightGBM] [Warning] No further splits with positive gain, best gain: -inf\n",
      "[LightGBM] [Warning] No further splits with positive gain, best gain: -inf\n",
      "[LightGBM] [Warning] No further splits with positive gain, best gain: -inf\n",
      "[LightGBM] [Warning] No further splits with positive gain, best gain: -inf\n",
      "[LightGBM] [Warning] No further splits with positive gain, best gain: -inf\n",
      "[LightGBM] [Warning] No further splits with positive gain, best gain: -inf\n",
      "[LightGBM] [Warning] No further splits with positive gain, best gain: -inf\n",
      "[LightGBM] [Warning] No further splits with positive gain, best gain: -inf\n",
      "[LightGBM] [Warning] No further splits with positive gain, best gain: -inf\n",
      "[LightGBM] [Warning] No further splits with positive gain, best gain: -inf\n",
      "[LightGBM] [Warning] No further splits with positive gain, best gain: -inf\n",
      "[LightGBM] [Warning] No further splits with positive gain, best gain: -inf\n",
      "[LightGBM] [Warning] No further splits with positive gain, best gain: -inf\n",
      "[LightGBM] [Warning] No further splits with positive gain, best gain: -inf\n",
      "[LightGBM] [Warning] No further splits with positive gain, best gain: -inf\n",
      "[LightGBM] [Warning] No further splits with positive gain, best gain: -inf\n",
      "[LightGBM] [Warning] No further splits with positive gain, best gain: -inf\n",
      "[LightGBM] [Warning] No further splits with positive gain, best gain: -inf\n",
      "[LightGBM] [Warning] No further splits with positive gain, best gain: -inf\n",
      "[LightGBM] [Warning] No further splits with positive gain, best gain: -inf\n",
      "[LightGBM] [Warning] No further splits with positive gain, best gain: -inf\n",
      "[LightGBM] [Warning] No further splits with positive gain, best gain: -inf\n",
      "[LightGBM] [Warning] No further splits with positive gain, best gain: -inf\n",
      "[LightGBM] [Warning] No further splits with positive gain, best gain: -inf\n",
      "[LightGBM] [Warning] No further splits with positive gain, best gain: -inf\n",
      "[LightGBM] [Warning] No further splits with positive gain, best gain: -inf\n",
      "[LightGBM] [Warning] No further splits with positive gain, best gain: -inf\n",
      "[LightGBM] [Warning] No further splits with positive gain, best gain: -inf\n",
      "[LightGBM] [Warning] No further splits with positive gain, best gain: -inf\n",
      "[LightGBM] [Warning] No further splits with positive gain, best gain: -inf\n",
      "[LightGBM] [Warning] No further splits with positive gain, best gain: -inf\n",
      "[LightGBM] [Warning] No further splits with positive gain, best gain: -inf\n",
      "[LightGBM] [Warning] No further splits with positive gain, best gain: -inf\n",
      "[LightGBM] [Warning] No further splits with positive gain, best gain: -inf\n",
      "[LightGBM] [Warning] No further splits with positive gain, best gain: -inf\n",
      "[LightGBM] [Warning] No further splits with positive gain, best gain: -inf\n",
      "[LightGBM] [Warning] No further splits with positive gain, best gain: -inf\n",
      "[LightGBM] [Warning] No further splits with positive gain, best gain: -inf\n",
      "[LightGBM] [Warning] No further splits with positive gain, best gain: -inf\n",
      "[LightGBM] [Warning] No further splits with positive gain, best gain: -inf\n",
      "[LightGBM] [Warning] No further splits with positive gain, best gain: -inf\n",
      "[LightGBM] [Warning] No further splits with positive gain, best gain: -inf\n",
      "[LightGBM] [Warning] No further splits with positive gain, best gain: -inf\n"
     ]
    },
    {
     "name": "stderr",
     "output_type": "stream",
     "text": [
      "[I 2024-08-29 05:47:44,454] Trial 16 finished with value: 0.07246376811594203 and parameters: {'n_estimators': 243, 'max_depth': 11, 'learning_rate': 0.056147540015690084, 'subsample': 0.5734028723615121, 'colsample_bytree': 0.6256516681225279, 'num_leaves': 236, 'min_child_samples': 17, 'scale_pos_weight': 13}. Best is trial 10 with value: 0.10894941634241245.\n",
      "C:\\Users\\user\\AppData\\Local\\Temp\\ipykernel_9600\\3909542524.py:11: FutureWarning: suggest_loguniform has been deprecated in v3.0.0. This feature will be removed in v6.0.0. See https://github.com/optuna/optuna/releases/tag/v3.0.0. Use suggest_float(..., log=True) instead.\n",
      "  'learning_rate': trial.suggest_loguniform('learning_rate', 1e-3, 0.3),\n"
     ]
    },
    {
     "name": "stdout",
     "output_type": "stream",
     "text": [
      "[LightGBM] [Info] Number of positive: 30514, number of negative: 30514\n",
      "[LightGBM] [Info] Auto-choosing col-wise multi-threading, the overhead of testing was 0.002259 seconds.\n",
      "You can set `force_col_wise=true` to remove the overhead.\n",
      "[LightGBM] [Info] Total Bins 3825\n",
      "[LightGBM] [Info] Number of data points in the train set: 61028, number of used features: 15\n",
      "[LightGBM] [Info] [binary:BoostFromScore]: pavg=0.500000 -> initscore=0.000000\n"
     ]
    },
    {
     "name": "stderr",
     "output_type": "stream",
     "text": [
      "[I 2024-08-29 05:47:45,461] Trial 17 finished with value: 0.11001410437235543 and parameters: {'n_estimators': 257, 'max_depth': 16, 'learning_rate': 0.13315221144630277, 'subsample': 0.7308190072061319, 'colsample_bytree': 0.6247241251343352, 'num_leaves': 200, 'min_child_samples': 11, 'scale_pos_weight': 16}. Best is trial 17 with value: 0.11001410437235543.\n",
      "C:\\Users\\user\\AppData\\Local\\Temp\\ipykernel_9600\\3909542524.py:11: FutureWarning: suggest_loguniform has been deprecated in v3.0.0. This feature will be removed in v6.0.0. See https://github.com/optuna/optuna/releases/tag/v3.0.0. Use suggest_float(..., log=True) instead.\n",
      "  'learning_rate': trial.suggest_loguniform('learning_rate', 1e-3, 0.3),\n"
     ]
    },
    {
     "name": "stdout",
     "output_type": "stream",
     "text": [
      "[LightGBM] [Info] Number of positive: 30514, number of negative: 30514\n",
      "[LightGBM] [Info] Auto-choosing col-wise multi-threading, the overhead of testing was 0.001658 seconds.\n",
      "You can set `force_col_wise=true` to remove the overhead.\n",
      "[LightGBM] [Info] Total Bins 3825\n",
      "[LightGBM] [Info] Number of data points in the train set: 61028, number of used features: 15\n",
      "[LightGBM] [Info] [binary:BoostFromScore]: pavg=0.500000 -> initscore=0.000000\n",
      "[LightGBM] [Warning] No further splits with positive gain, best gain: -inf\n",
      "[LightGBM] [Warning] No further splits with positive gain, best gain: -inf\n",
      "[LightGBM] [Warning] No further splits with positive gain, best gain: -inf\n",
      "[LightGBM] [Warning] No further splits with positive gain, best gain: -inf\n",
      "[LightGBM] [Warning] No further splits with positive gain, best gain: -inf\n",
      "[LightGBM] [Warning] No further splits with positive gain, best gain: -inf\n",
      "[LightGBM] [Warning] No further splits with positive gain, best gain: -inf\n",
      "[LightGBM] [Warning] No further splits with positive gain, best gain: -inf\n",
      "[LightGBM] [Warning] No further splits with positive gain, best gain: -inf\n",
      "[LightGBM] [Warning] No further splits with positive gain, best gain: -inf\n",
      "[LightGBM] [Warning] No further splits with positive gain, best gain: -inf\n",
      "[LightGBM] [Warning] No further splits with positive gain, best gain: -inf\n",
      "[LightGBM] [Warning] No further splits with positive gain, best gain: -inf\n",
      "[LightGBM] [Warning] No further splits with positive gain, best gain: -inf\n",
      "[LightGBM] [Warning] No further splits with positive gain, best gain: -inf\n",
      "[LightGBM] [Warning] No further splits with positive gain, best gain: -inf\n",
      "[LightGBM] [Warning] No further splits with positive gain, best gain: -inf\n",
      "[LightGBM] [Warning] No further splits with positive gain, best gain: -inf\n",
      "[LightGBM] [Warning] No further splits with positive gain, best gain: -inf\n",
      "[LightGBM] [Warning] No further splits with positive gain, best gain: -inf\n",
      "[LightGBM] [Warning] No further splits with positive gain, best gain: -inf\n",
      "[LightGBM] [Warning] No further splits with positive gain, best gain: -inf\n",
      "[LightGBM] [Warning] No further splits with positive gain, best gain: -inf\n",
      "[LightGBM] [Warning] No further splits with positive gain, best gain: -inf\n",
      "[LightGBM] [Warning] No further splits with positive gain, best gain: -inf\n",
      "[LightGBM] [Warning] No further splits with positive gain, best gain: -inf\n",
      "[LightGBM] [Warning] No further splits with positive gain, best gain: -inf\n",
      "[LightGBM] [Warning] No further splits with positive gain, best gain: -inf\n",
      "[LightGBM] [Warning] No further splits with positive gain, best gain: -inf\n",
      "[LightGBM] [Warning] No further splits with positive gain, best gain: -inf\n",
      "[LightGBM] [Warning] No further splits with positive gain, best gain: -inf\n",
      "[LightGBM] [Warning] No further splits with positive gain, best gain: -inf\n",
      "[LightGBM] [Warning] No further splits with positive gain, best gain: -inf\n",
      "[LightGBM] [Warning] No further splits with positive gain, best gain: -inf\n",
      "[LightGBM] [Warning] No further splits with positive gain, best gain: -inf\n",
      "[LightGBM] [Warning] No further splits with positive gain, best gain: -inf\n",
      "[LightGBM] [Warning] No further splits with positive gain, best gain: -inf\n",
      "[LightGBM] [Warning] No further splits with positive gain, best gain: -inf\n",
      "[LightGBM] [Warning] No further splits with positive gain, best gain: -inf\n",
      "[LightGBM] [Warning] No further splits with positive gain, best gain: -inf\n",
      "[LightGBM] [Warning] No further splits with positive gain, best gain: -inf\n",
      "[LightGBM] [Warning] No further splits with positive gain, best gain: -inf\n",
      "[LightGBM] [Warning] No further splits with positive gain, best gain: -inf\n",
      "[LightGBM] [Warning] No further splits with positive gain, best gain: -inf\n"
     ]
    },
    {
     "name": "stderr",
     "output_type": "stream",
     "text": [
      "[I 2024-08-29 05:47:45,964] Trial 18 finished with value: 0.07515657620041753 and parameters: {'n_estimators': 254, 'max_depth': 7, 'learning_rate': 0.05403247139648495, 'subsample': 0.979638558540098, 'colsample_bytree': 0.7054401726976351, 'num_leaves': 67, 'min_child_samples': 10, 'scale_pos_weight': 16}. Best is trial 17 with value: 0.11001410437235543.\n",
      "C:\\Users\\user\\AppData\\Local\\Temp\\ipykernel_9600\\3909542524.py:11: FutureWarning: suggest_loguniform has been deprecated in v3.0.0. This feature will be removed in v6.0.0. See https://github.com/optuna/optuna/releases/tag/v3.0.0. Use suggest_float(..., log=True) instead.\n",
      "  'learning_rate': trial.suggest_loguniform('learning_rate', 1e-3, 0.3),\n"
     ]
    },
    {
     "name": "stdout",
     "output_type": "stream",
     "text": [
      "[LightGBM] [Info] Number of positive: 30514, number of negative: 30514\n",
      "[LightGBM] [Info] Auto-choosing col-wise multi-threading, the overhead of testing was 0.001625 seconds.\n",
      "You can set `force_col_wise=true` to remove the overhead.\n",
      "[LightGBM] [Info] Total Bins 3825\n",
      "[LightGBM] [Info] Number of data points in the train set: 61028, number of used features: 15\n",
      "[LightGBM] [Info] [binary:BoostFromScore]: pavg=0.500000 -> initscore=0.000000\n"
     ]
    },
    {
     "name": "stderr",
     "output_type": "stream",
     "text": [
      "[I 2024-08-29 05:47:46,237] Trial 19 finished with value: 0.05263157894736842 and parameters: {'n_estimators': 191, 'max_depth': 25, 'learning_rate': 0.013496631141380638, 'subsample': 0.7237433489282575, 'colsample_bytree': 0.5807978198244235, 'num_leaves': 17, 'min_child_samples': 16, 'scale_pos_weight': 19}. Best is trial 17 with value: 0.11001410437235543.\n",
      "C:\\Users\\user\\AppData\\Local\\Temp\\ipykernel_9600\\3909542524.py:11: FutureWarning: suggest_loguniform has been deprecated in v3.0.0. This feature will be removed in v6.0.0. See https://github.com/optuna/optuna/releases/tag/v3.0.0. Use suggest_float(..., log=True) instead.\n",
      "  'learning_rate': trial.suggest_loguniform('learning_rate', 1e-3, 0.3),\n"
     ]
    },
    {
     "name": "stdout",
     "output_type": "stream",
     "text": [
      "[LightGBM] [Info] Number of positive: 30514, number of negative: 30514\n",
      "[LightGBM] [Info] Auto-choosing col-wise multi-threading, the overhead of testing was 0.001664 seconds.\n",
      "You can set `force_col_wise=true` to remove the overhead.\n",
      "[LightGBM] [Info] Total Bins 3825\n",
      "[LightGBM] [Info] Number of data points in the train set: 61028, number of used features: 15\n",
      "[LightGBM] [Info] [binary:BoostFromScore]: pavg=0.500000 -> initscore=0.000000\n"
     ]
    },
    {
     "name": "stderr",
     "output_type": "stream",
     "text": [
      "[I 2024-08-29 05:47:46,828] Trial 20 finished with value: 0.06047516198704104 and parameters: {'n_estimators': 127, 'max_depth': 30, 'learning_rate': 0.005907837010055039, 'subsample': 0.8571700755231966, 'colsample_bytree': 0.5957234503656309, 'num_leaves': 147, 'min_child_samples': 20, 'scale_pos_weight': 15}. Best is trial 17 with value: 0.11001410437235543.\n",
      "C:\\Users\\user\\AppData\\Local\\Temp\\ipykernel_9600\\3909542524.py:11: FutureWarning: suggest_loguniform has been deprecated in v3.0.0. This feature will be removed in v6.0.0. See https://github.com/optuna/optuna/releases/tag/v3.0.0. Use suggest_float(..., log=True) instead.\n",
      "  'learning_rate': trial.suggest_loguniform('learning_rate', 1e-3, 0.3),\n"
     ]
    },
    {
     "name": "stdout",
     "output_type": "stream",
     "text": [
      "[LightGBM] [Info] Number of positive: 30514, number of negative: 30514\n",
      "[LightGBM] [Info] Auto-choosing col-wise multi-threading, the overhead of testing was 0.001668 seconds.\n",
      "You can set `force_col_wise=true` to remove the overhead.\n",
      "[LightGBM] [Info] Total Bins 3825\n",
      "[LightGBM] [Info] Number of data points in the train set: 61028, number of used features: 15\n",
      "[LightGBM] [Info] [binary:BoostFromScore]: pavg=0.500000 -> initscore=0.000000\n"
     ]
    },
    {
     "name": "stderr",
     "output_type": "stream",
     "text": [
      "[I 2024-08-29 05:47:47,860] Trial 21 finished with value: 0.11207970112079702 and parameters: {'n_estimators': 252, 'max_depth': 17, 'learning_rate': 0.16817298218676954, 'subsample': 0.6918528859991571, 'colsample_bytree': 0.6383299839996248, 'num_leaves': 208, 'min_child_samples': 11, 'scale_pos_weight': 11}. Best is trial 21 with value: 0.11207970112079702.\n",
      "C:\\Users\\user\\AppData\\Local\\Temp\\ipykernel_9600\\3909542524.py:11: FutureWarning: suggest_loguniform has been deprecated in v3.0.0. This feature will be removed in v6.0.0. See https://github.com/optuna/optuna/releases/tag/v3.0.0. Use suggest_float(..., log=True) instead.\n",
      "  'learning_rate': trial.suggest_loguniform('learning_rate', 1e-3, 0.3),\n"
     ]
    },
    {
     "name": "stdout",
     "output_type": "stream",
     "text": [
      "[LightGBM] [Info] Number of positive: 30514, number of negative: 30514\n",
      "[LightGBM] [Info] Auto-choosing col-wise multi-threading, the overhead of testing was 0.001519 seconds.\n",
      "You can set `force_col_wise=true` to remove the overhead.\n",
      "[LightGBM] [Info] Total Bins 3825\n",
      "[LightGBM] [Info] Number of data points in the train set: 61028, number of used features: 15\n",
      "[LightGBM] [Info] [binary:BoostFromScore]: pavg=0.500000 -> initscore=0.000000\n"
     ]
    },
    {
     "name": "stderr",
     "output_type": "stream",
     "text": [
      "[I 2024-08-29 05:47:49,245] Trial 22 finished with value: 0.11944091486658195 and parameters: {'n_estimators': 261, 'max_depth': 17, 'learning_rate': 0.1463413340517554, 'subsample': 0.7528924911295741, 'colsample_bytree': 0.6759922637460025, 'num_leaves': 255, 'min_child_samples': 11, 'scale_pos_weight': 10}. Best is trial 22 with value: 0.11944091486658195.\n",
      "C:\\Users\\user\\AppData\\Local\\Temp\\ipykernel_9600\\3909542524.py:11: FutureWarning: suggest_loguniform has been deprecated in v3.0.0. This feature will be removed in v6.0.0. See https://github.com/optuna/optuna/releases/tag/v3.0.0. Use suggest_float(..., log=True) instead.\n",
      "  'learning_rate': trial.suggest_loguniform('learning_rate', 1e-3, 0.3),\n"
     ]
    },
    {
     "name": "stdout",
     "output_type": "stream",
     "text": [
      "[LightGBM] [Info] Number of positive: 30514, number of negative: 30514\n",
      "[LightGBM] [Info] Auto-choosing col-wise multi-threading, the overhead of testing was 0.002166 seconds.\n",
      "You can set `force_col_wise=true` to remove the overhead.\n",
      "[LightGBM] [Info] Total Bins 3825\n",
      "[LightGBM] [Info] Number of data points in the train set: 61028, number of used features: 15\n",
      "[LightGBM] [Info] [binary:BoostFromScore]: pavg=0.500000 -> initscore=0.000000\n",
      "[LightGBM] [Warning] No further splits with positive gain, best gain: -inf\n",
      "[LightGBM] [Warning] No further splits with positive gain, best gain: -inf\n",
      "[LightGBM] [Warning] No further splits with positive gain, best gain: -inf\n",
      "[LightGBM] [Warning] No further splits with positive gain, best gain: -inf\n",
      "[LightGBM] [Warning] No further splits with positive gain, best gain: -inf\n",
      "[LightGBM] [Warning] No further splits with positive gain, best gain: -inf\n"
     ]
    },
    {
     "name": "stderr",
     "output_type": "stream",
     "text": [
      "[I 2024-08-29 05:47:50,610] Trial 23 finished with value: 0.10314465408805032 and parameters: {'n_estimators': 263, 'max_depth': 13, 'learning_rate': 0.14144005002916982, 'subsample': 0.7594671976135968, 'colsample_bytree': 0.706501571968138, 'num_leaves': 254, 'min_child_samples': 11, 'scale_pos_weight': 9}. Best is trial 22 with value: 0.11944091486658195.\n",
      "C:\\Users\\user\\AppData\\Local\\Temp\\ipykernel_9600\\3909542524.py:11: FutureWarning: suggest_loguniform has been deprecated in v3.0.0. This feature will be removed in v6.0.0. See https://github.com/optuna/optuna/releases/tag/v3.0.0. Use suggest_float(..., log=True) instead.\n",
      "  'learning_rate': trial.suggest_loguniform('learning_rate', 1e-3, 0.3),\n"
     ]
    },
    {
     "name": "stdout",
     "output_type": "stream",
     "text": [
      "[LightGBM] [Info] Number of positive: 30514, number of negative: 30514\n",
      "[LightGBM] [Info] Auto-choosing col-wise multi-threading, the overhead of testing was 0.001802 seconds.\n",
      "You can set `force_col_wise=true` to remove the overhead.\n",
      "[LightGBM] [Info] Total Bins 3825\n",
      "[LightGBM] [Info] Number of data points in the train set: 61028, number of used features: 15\n",
      "[LightGBM] [Info] [binary:BoostFromScore]: pavg=0.500000 -> initscore=0.000000\n"
     ]
    },
    {
     "name": "stderr",
     "output_type": "stream",
     "text": [
      "[I 2024-08-29 05:47:51,820] Trial 24 finished with value: 0.09872611464968153 and parameters: {'n_estimators': 237, 'max_depth': 17, 'learning_rate': 0.06029578486763113, 'subsample': 0.7506841983439018, 'colsample_bytree': 0.8465054351262085, 'num_leaves': 236, 'min_child_samples': 15, 'scale_pos_weight': 10}. Best is trial 22 with value: 0.11944091486658195.\n",
      "C:\\Users\\user\\AppData\\Local\\Temp\\ipykernel_9600\\3909542524.py:11: FutureWarning: suggest_loguniform has been deprecated in v3.0.0. This feature will be removed in v6.0.0. See https://github.com/optuna/optuna/releases/tag/v3.0.0. Use suggest_float(..., log=True) instead.\n",
      "  'learning_rate': trial.suggest_loguniform('learning_rate', 1e-3, 0.3),\n"
     ]
    },
    {
     "name": "stdout",
     "output_type": "stream",
     "text": [
      "[LightGBM] [Info] Number of positive: 30514, number of negative: 30514\n",
      "[LightGBM] [Info] Auto-choosing col-wise multi-threading, the overhead of testing was 0.001543 seconds.\n",
      "You can set `force_col_wise=true` to remove the overhead.\n",
      "[LightGBM] [Info] Total Bins 3825\n",
      "[LightGBM] [Info] Number of data points in the train set: 61028, number of used features: 15\n",
      "[LightGBM] [Info] [binary:BoostFromScore]: pavg=0.500000 -> initscore=0.000000\n"
     ]
    },
    {
     "name": "stderr",
     "output_type": "stream",
     "text": [
      "[I 2024-08-29 05:47:52,902] Trial 25 finished with value: 0.10484927916120576 and parameters: {'n_estimators': 274, 'max_depth': 14, 'learning_rate': 0.1594504350207556, 'subsample': 0.712815294380994, 'colsample_bytree': 0.6859368105905906, 'num_leaves': 208, 'min_child_samples': 10, 'scale_pos_weight': 14}. Best is trial 22 with value: 0.11944091486658195.\n",
      "C:\\Users\\user\\AppData\\Local\\Temp\\ipykernel_9600\\3909542524.py:11: FutureWarning: suggest_loguniform has been deprecated in v3.0.0. This feature will be removed in v6.0.0. See https://github.com/optuna/optuna/releases/tag/v3.0.0. Use suggest_float(..., log=True) instead.\n",
      "  'learning_rate': trial.suggest_loguniform('learning_rate', 1e-3, 0.3),\n"
     ]
    },
    {
     "name": "stdout",
     "output_type": "stream",
     "text": [
      "[LightGBM] [Info] Number of positive: 30514, number of negative: 30514\n",
      "[LightGBM] [Info] Auto-choosing col-wise multi-threading, the overhead of testing was 0.001620 seconds.\n",
      "You can set `force_col_wise=true` to remove the overhead.\n",
      "[LightGBM] [Info] Total Bins 3825\n",
      "[LightGBM] [Info] Number of data points in the train set: 61028, number of used features: 15\n",
      "[LightGBM] [Info] [binary:BoostFromScore]: pavg=0.500000 -> initscore=0.000000\n",
      "[LightGBM] [Warning] No further splits with positive gain, best gain: -inf\n",
      "[LightGBM] [Warning] No further splits with positive gain, best gain: -inf\n",
      "[LightGBM] [Warning] No further splits with positive gain, best gain: -inf\n",
      "[LightGBM] [Warning] No further splits with positive gain, best gain: -inf\n",
      "[LightGBM] [Warning] No further splits with positive gain, best gain: -inf\n",
      "[LightGBM] [Warning] No further splits with positive gain, best gain: -inf\n",
      "[LightGBM] [Warning] No further splits with positive gain, best gain: -inf\n",
      "[LightGBM] [Warning] No further splits with positive gain, best gain: -inf\n",
      "[LightGBM] [Warning] No further splits with positive gain, best gain: -inf\n",
      "[LightGBM] [Warning] No further splits with positive gain, best gain: -inf\n",
      "[LightGBM] [Warning] No further splits with positive gain, best gain: -inf\n",
      "[LightGBM] [Warning] No further splits with positive gain, best gain: -inf\n",
      "[LightGBM] [Warning] No further splits with positive gain, best gain: -inf\n",
      "[LightGBM] [Warning] No further splits with positive gain, best gain: -inf\n",
      "[LightGBM] [Warning] No further splits with positive gain, best gain: -inf\n",
      "[LightGBM] [Warning] No further splits with positive gain, best gain: -inf\n",
      "[LightGBM] [Warning] No further splits with positive gain, best gain: -inf\n",
      "[LightGBM] [Warning] No further splits with positive gain, best gain: -inf\n",
      "[LightGBM] [Warning] No further splits with positive gain, best gain: -inf\n",
      "[LightGBM] [Warning] No further splits with positive gain, best gain: -inf\n",
      "[LightGBM] [Warning] No further splits with positive gain, best gain: -inf\n",
      "[LightGBM] [Warning] No further splits with positive gain, best gain: -inf\n",
      "[LightGBM] [Warning] No further splits with positive gain, best gain: -inf\n",
      "[LightGBM] [Warning] No further splits with positive gain, best gain: -inf\n",
      "[LightGBM] [Warning] No further splits with positive gain, best gain: -inf\n",
      "[LightGBM] [Warning] No further splits with positive gain, best gain: -inf\n",
      "[LightGBM] [Warning] No further splits with positive gain, best gain: -inf\n",
      "[LightGBM] [Warning] No further splits with positive gain, best gain: -inf\n",
      "[LightGBM] [Warning] No further splits with positive gain, best gain: -inf\n",
      "[LightGBM] [Warning] No further splits with positive gain, best gain: -inf\n",
      "[LightGBM] [Warning] No further splits with positive gain, best gain: -inf\n",
      "[LightGBM] [Warning] No further splits with positive gain, best gain: -inf\n",
      "[LightGBM] [Warning] No further splits with positive gain, best gain: -inf\n",
      "[LightGBM] [Warning] No further splits with positive gain, best gain: -inf\n",
      "[LightGBM] [Warning] No further splits with positive gain, best gain: -inf\n",
      "[LightGBM] [Warning] No further splits with positive gain, best gain: -inf\n",
      "[LightGBM] [Warning] No further splits with positive gain, best gain: -inf\n",
      "[LightGBM] [Warning] No further splits with positive gain, best gain: -inf\n",
      "[LightGBM] [Warning] No further splits with positive gain, best gain: -inf\n",
      "[LightGBM] [Warning] No further splits with positive gain, best gain: -inf\n",
      "[LightGBM] [Warning] No further splits with positive gain, best gain: -inf\n",
      "[LightGBM] [Warning] No further splits with positive gain, best gain: -inf\n",
      "[LightGBM] [Warning] No further splits with positive gain, best gain: -inf\n",
      "[LightGBM] [Warning] No further splits with positive gain, best gain: -inf\n",
      "[LightGBM] [Warning] No further splits with positive gain, best gain: -inf\n",
      "[LightGBM] [Warning] No further splits with positive gain, best gain: -inf\n",
      "[LightGBM] [Warning] No further splits with positive gain, best gain: -inf\n",
      "[LightGBM] [Warning] No further splits with positive gain, best gain: -inf\n",
      "[LightGBM] [Warning] No further splits with positive gain, best gain: -inf\n",
      "[LightGBM] [Warning] No further splits with positive gain, best gain: -inf\n",
      "[LightGBM] [Warning] No further splits with positive gain, best gain: -inf\n",
      "[LightGBM] [Warning] No further splits with positive gain, best gain: -inf\n",
      "[LightGBM] [Warning] No further splits with positive gain, best gain: -inf\n",
      "[LightGBM] [Warning] No further splits with positive gain, best gain: -inf\n",
      "[LightGBM] [Warning] No further splits with positive gain, best gain: -inf\n",
      "[LightGBM] [Warning] No further splits with positive gain, best gain: -inf\n",
      "[LightGBM] [Warning] No further splits with positive gain, best gain: -inf\n",
      "[LightGBM] [Warning] No further splits with positive gain, best gain: -inf\n",
      "[LightGBM] [Warning] No further splits with positive gain, best gain: -inf\n",
      "[LightGBM] [Warning] No further splits with positive gain, best gain: -inf\n",
      "[LightGBM] [Warning] No further splits with positive gain, best gain: -inf\n",
      "[LightGBM] [Warning] No further splits with positive gain, best gain: -inf\n",
      "[LightGBM] [Warning] No further splits with positive gain, best gain: -inf\n",
      "[LightGBM] [Warning] No further splits with positive gain, best gain: -inf\n",
      "[LightGBM] [Warning] No further splits with positive gain, best gain: -inf\n",
      "[LightGBM] [Warning] No further splits with positive gain, best gain: -inf\n",
      "[LightGBM] [Warning] No further splits with positive gain, best gain: -inf\n",
      "[LightGBM] [Warning] No further splits with positive gain, best gain: -inf\n",
      "[LightGBM] [Warning] No further splits with positive gain, best gain: -inf\n",
      "[LightGBM] [Warning] No further splits with positive gain, best gain: -inf\n",
      "[LightGBM] [Warning] No further splits with positive gain, best gain: -inf\n",
      "[LightGBM] [Warning] No further splits with positive gain, best gain: -inf\n",
      "[LightGBM] [Warning] No further splits with positive gain, best gain: -inf\n",
      "[LightGBM] [Warning] No further splits with positive gain, best gain: -inf\n",
      "[LightGBM] [Warning] No further splits with positive gain, best gain: -inf\n",
      "[LightGBM] [Warning] No further splits with positive gain, best gain: -inf\n",
      "[LightGBM] [Warning] No further splits with positive gain, best gain: -inf\n",
      "[LightGBM] [Warning] No further splits with positive gain, best gain: -inf\n",
      "[LightGBM] [Warning] No further splits with positive gain, best gain: -inf\n",
      "[LightGBM] [Warning] No further splits with positive gain, best gain: -inf\n",
      "[LightGBM] [Warning] No further splits with positive gain, best gain: -inf\n",
      "[LightGBM] [Warning] No further splits with positive gain, best gain: -inf\n",
      "[LightGBM] [Warning] No further splits with positive gain, best gain: -inf\n",
      "[LightGBM] [Warning] No further splits with positive gain, best gain: -inf\n",
      "[LightGBM] [Warning] No further splits with positive gain, best gain: -inf\n",
      "[LightGBM] [Warning] No further splits with positive gain, best gain: -inf\n",
      "[LightGBM] [Warning] No further splits with positive gain, best gain: -inf\n",
      "[LightGBM] [Warning] No further splits with positive gain, best gain: -inf\n",
      "[LightGBM] [Warning] No further splits with positive gain, best gain: -inf\n",
      "[LightGBM] [Warning] No further splits with positive gain, best gain: -inf\n",
      "[LightGBM] [Warning] No further splits with positive gain, best gain: -inf\n",
      "[LightGBM] [Warning] No further splits with positive gain, best gain: -inf\n",
      "[LightGBM] [Warning] No further splits with positive gain, best gain: -inf\n",
      "[LightGBM] [Warning] No further splits with positive gain, best gain: -inf\n",
      "[LightGBM] [Warning] No further splits with positive gain, best gain: -inf\n",
      "[LightGBM] [Warning] No further splits with positive gain, best gain: -inf\n",
      "[LightGBM] [Warning] No further splits with positive gain, best gain: -inf\n",
      "[LightGBM] [Warning] No further splits with positive gain, best gain: -inf\n",
      "[LightGBM] [Warning] No further splits with positive gain, best gain: -inf\n",
      "[LightGBM] [Warning] No further splits with positive gain, best gain: -inf\n",
      "[LightGBM] [Warning] No further splits with positive gain, best gain: -inf\n",
      "[LightGBM] [Warning] No further splits with positive gain, best gain: -inf\n",
      "[LightGBM] [Warning] No further splits with positive gain, best gain: -inf\n",
      "[LightGBM] [Warning] No further splits with positive gain, best gain: -inf\n",
      "[LightGBM] [Warning] No further splits with positive gain, best gain: -inf\n",
      "[LightGBM] [Warning] No further splits with positive gain, best gain: -inf\n",
      "[LightGBM] [Warning] No further splits with positive gain, best gain: -inf\n",
      "[LightGBM] [Warning] No further splits with positive gain, best gain: -inf\n",
      "[LightGBM] [Warning] No further splits with positive gain, best gain: -inf\n",
      "[LightGBM] [Warning] No further splits with positive gain, best gain: -inf\n",
      "[LightGBM] [Warning] No further splits with positive gain, best gain: -inf\n",
      "[LightGBM] [Warning] No further splits with positive gain, best gain: -inf\n",
      "[LightGBM] [Warning] No further splits with positive gain, best gain: -inf\n",
      "[LightGBM] [Warning] No further splits with positive gain, best gain: -inf\n",
      "[LightGBM] [Warning] No further splits with positive gain, best gain: -inf\n",
      "[LightGBM] [Warning] No further splits with positive gain, best gain: -inf\n",
      "[LightGBM] [Warning] No further splits with positive gain, best gain: -inf\n",
      "[LightGBM] [Warning] No further splits with positive gain, best gain: -inf\n",
      "[LightGBM] [Warning] No further splits with positive gain, best gain: -inf\n",
      "[LightGBM] [Warning] No further splits with positive gain, best gain: -inf\n",
      "[LightGBM] [Warning] No further splits with positive gain, best gain: -inf\n",
      "[LightGBM] [Warning] No further splits with positive gain, best gain: -inf\n",
      "[LightGBM] [Warning] No further splits with positive gain, best gain: -inf\n",
      "[LightGBM] [Warning] No further splits with positive gain, best gain: -inf\n",
      "[LightGBM] [Warning] No further splits with positive gain, best gain: -inf\n",
      "[LightGBM] [Warning] No further splits with positive gain, best gain: -inf\n",
      "[LightGBM] [Warning] No further splits with positive gain, best gain: -inf\n",
      "[LightGBM] [Warning] No further splits with positive gain, best gain: -inf\n",
      "[LightGBM] [Warning] No further splits with positive gain, best gain: -inf\n",
      "[LightGBM] [Warning] No further splits with positive gain, best gain: -inf\n",
      "[LightGBM] [Warning] No further splits with positive gain, best gain: -inf\n",
      "[LightGBM] [Warning] No further splits with positive gain, best gain: -inf\n",
      "[LightGBM] [Warning] No further splits with positive gain, best gain: -inf\n",
      "[LightGBM] [Warning] No further splits with positive gain, best gain: -inf\n",
      "[LightGBM] [Warning] No further splits with positive gain, best gain: -inf\n",
      "[LightGBM] [Warning] No further splits with positive gain, best gain: -inf\n",
      "[LightGBM] [Warning] No further splits with positive gain, best gain: -inf\n",
      "[LightGBM] [Warning] No further splits with positive gain, best gain: -inf\n",
      "[LightGBM] [Warning] No further splits with positive gain, best gain: -inf\n",
      "[LightGBM] [Warning] No further splits with positive gain, best gain: -inf\n",
      "[LightGBM] [Warning] No further splits with positive gain, best gain: -inf\n",
      "[LightGBM] [Warning] No further splits with positive gain, best gain: -inf\n",
      "[LightGBM] [Warning] No further splits with positive gain, best gain: -inf\n",
      "[LightGBM] [Warning] No further splits with positive gain, best gain: -inf\n",
      "[LightGBM] [Warning] No further splits with positive gain, best gain: -inf\n",
      "[LightGBM] [Warning] No further splits with positive gain, best gain: -inf\n",
      "[LightGBM] [Warning] No further splits with positive gain, best gain: -inf\n",
      "[LightGBM] [Warning] No further splits with positive gain, best gain: -inf\n",
      "[LightGBM] [Warning] No further splits with positive gain, best gain: -inf\n",
      "[LightGBM] [Warning] No further splits with positive gain, best gain: -inf\n",
      "[LightGBM] [Warning] No further splits with positive gain, best gain: -inf\n",
      "[LightGBM] [Warning] No further splits with positive gain, best gain: -inf\n",
      "[LightGBM] [Warning] No further splits with positive gain, best gain: -inf\n",
      "[LightGBM] [Warning] No further splits with positive gain, best gain: -inf\n",
      "[LightGBM] [Warning] No further splits with positive gain, best gain: -inf\n",
      "[LightGBM] [Warning] No further splits with positive gain, best gain: -inf\n",
      "[LightGBM] [Warning] No further splits with positive gain, best gain: -inf\n",
      "[LightGBM] [Warning] No further splits with positive gain, best gain: -inf\n",
      "[LightGBM] [Warning] No further splits with positive gain, best gain: -inf\n",
      "[LightGBM] [Warning] No further splits with positive gain, best gain: -inf\n",
      "[LightGBM] [Warning] No further splits with positive gain, best gain: -inf\n",
      "[LightGBM] [Warning] No further splits with positive gain, best gain: -inf\n",
      "[LightGBM] [Warning] No further splits with positive gain, best gain: -inf\n",
      "[LightGBM] [Warning] No further splits with positive gain, best gain: -inf\n",
      "[LightGBM] [Warning] No further splits with positive gain, best gain: -inf\n",
      "[LightGBM] [Warning] No further splits with positive gain, best gain: -inf\n",
      "[LightGBM] [Warning] No further splits with positive gain, best gain: -inf\n",
      "[LightGBM] [Warning] No further splits with positive gain, best gain: -inf\n",
      "[LightGBM] [Warning] No further splits with positive gain, best gain: -inf\n",
      "[LightGBM] [Warning] No further splits with positive gain, best gain: -inf\n",
      "[LightGBM] [Warning] No further splits with positive gain, best gain: -inf\n",
      "[LightGBM] [Warning] No further splits with positive gain, best gain: -inf\n",
      "[LightGBM] [Warning] No further splits with positive gain, best gain: -inf\n",
      "[LightGBM] [Warning] No further splits with positive gain, best gain: -inf\n",
      "[LightGBM] [Warning] No further splits with positive gain, best gain: -inf\n",
      "[LightGBM] [Warning] No further splits with positive gain, best gain: -inf\n",
      "[LightGBM] [Warning] No further splits with positive gain, best gain: -inf\n",
      "[LightGBM] [Warning] No further splits with positive gain, best gain: -inf\n",
      "[LightGBM] [Warning] No further splits with positive gain, best gain: -inf\n",
      "[LightGBM] [Warning] No further splits with positive gain, best gain: -inf\n",
      "[LightGBM] [Warning] No further splits with positive gain, best gain: -inf\n",
      "[LightGBM] [Warning] No further splits with positive gain, best gain: -inf\n",
      "[LightGBM] [Warning] No further splits with positive gain, best gain: -inf\n",
      "[LightGBM] [Warning] No further splits with positive gain, best gain: -inf\n",
      "[LightGBM] [Warning] No further splits with positive gain, best gain: -inf\n",
      "[LightGBM] [Warning] No further splits with positive gain, best gain: -inf\n",
      "[LightGBM] [Warning] No further splits with positive gain, best gain: -inf\n",
      "[LightGBM] [Warning] No further splits with positive gain, best gain: -inf\n",
      "[LightGBM] [Warning] No further splits with positive gain, best gain: -inf\n",
      "[LightGBM] [Warning] No further splits with positive gain, best gain: -inf\n",
      "[LightGBM] [Warning] No further splits with positive gain, best gain: -inf\n",
      "[LightGBM] [Warning] No further splits with positive gain, best gain: -inf\n",
      "[LightGBM] [Warning] No further splits with positive gain, best gain: -inf\n",
      "[LightGBM] [Warning] No further splits with positive gain, best gain: -inf\n",
      "[LightGBM] [Warning] No further splits with positive gain, best gain: -inf\n",
      "[LightGBM] [Warning] No further splits with positive gain, best gain: -inf\n",
      "[LightGBM] [Warning] No further splits with positive gain, best gain: -inf\n",
      "[LightGBM] [Warning] No further splits with positive gain, best gain: -inf\n",
      "[LightGBM] [Warning] No further splits with positive gain, best gain: -inf\n",
      "[LightGBM] [Warning] No further splits with positive gain, best gain: -inf\n",
      "[LightGBM] [Warning] No further splits with positive gain, best gain: -inf\n",
      "[LightGBM] [Warning] No further splits with positive gain, best gain: -inf\n",
      "[LightGBM] [Warning] No further splits with positive gain, best gain: -inf\n",
      "[LightGBM] [Warning] No further splits with positive gain, best gain: -inf\n",
      "[LightGBM] [Warning] No further splits with positive gain, best gain: -inf\n",
      "[LightGBM] [Warning] No further splits with positive gain, best gain: -inf\n",
      "[LightGBM] [Warning] No further splits with positive gain, best gain: -inf\n",
      "[LightGBM] [Warning] No further splits with positive gain, best gain: -inf\n",
      "[LightGBM] [Warning] No further splits with positive gain, best gain: -inf\n",
      "[LightGBM] [Warning] No further splits with positive gain, best gain: -inf\n",
      "[LightGBM] [Warning] No further splits with positive gain, best gain: -inf\n",
      "[LightGBM] [Warning] No further splits with positive gain, best gain: -inf\n",
      "[LightGBM] [Warning] No further splits with positive gain, best gain: -inf\n",
      "[LightGBM] [Warning] No further splits with positive gain, best gain: -inf\n"
     ]
    },
    {
     "name": "stderr",
     "output_type": "stream",
     "text": [
      "[I 2024-08-29 05:47:53,852] Trial 26 finished with value: 0.06827309236947791 and parameters: {'n_estimators': 271, 'max_depth': 9, 'learning_rate': 0.04162699975897301, 'subsample': 0.8332537109955186, 'colsample_bytree': 0.6325890289081743, 'num_leaves': 238, 'min_child_samples': 15, 'scale_pos_weight': 11}. Best is trial 22 with value: 0.11944091486658195.\n",
      "C:\\Users\\user\\AppData\\Local\\Temp\\ipykernel_9600\\3909542524.py:11: FutureWarning: suggest_loguniform has been deprecated in v3.0.0. This feature will be removed in v6.0.0. See https://github.com/optuna/optuna/releases/tag/v3.0.0. Use suggest_float(..., log=True) instead.\n",
      "  'learning_rate': trial.suggest_loguniform('learning_rate', 1e-3, 0.3),\n"
     ]
    },
    {
     "name": "stdout",
     "output_type": "stream",
     "text": [
      "[LightGBM] [Info] Number of positive: 30514, number of negative: 30514\n",
      "[LightGBM] [Info] Auto-choosing col-wise multi-threading, the overhead of testing was 0.001617 seconds.\n",
      "You can set `force_col_wise=true` to remove the overhead.\n",
      "[LightGBM] [Info] Total Bins 3825\n",
      "[LightGBM] [Info] Number of data points in the train set: 61028, number of used features: 15\n",
      "[LightGBM] [Info] [binary:BoostFromScore]: pavg=0.500000 -> initscore=0.000000\n"
     ]
    },
    {
     "name": "stderr",
     "output_type": "stream",
     "text": [
      "[I 2024-08-29 05:47:54,751] Trial 27 finished with value: 0.09836065573770492 and parameters: {'n_estimators': 242, 'max_depth': 23, 'learning_rate': 0.08623893553831305, 'subsample': 0.7720600775159515, 'colsample_bytree': 0.721132769971228, 'num_leaves': 174, 'min_child_samples': 11, 'scale_pos_weight': 17}. Best is trial 22 with value: 0.11944091486658195.\n",
      "C:\\Users\\user\\AppData\\Local\\Temp\\ipykernel_9600\\3909542524.py:11: FutureWarning: suggest_loguniform has been deprecated in v3.0.0. This feature will be removed in v6.0.0. See https://github.com/optuna/optuna/releases/tag/v3.0.0. Use suggest_float(..., log=True) instead.\n",
      "  'learning_rate': trial.suggest_loguniform('learning_rate', 1e-3, 0.3),\n"
     ]
    },
    {
     "name": "stdout",
     "output_type": "stream",
     "text": [
      "[LightGBM] [Info] Number of positive: 30514, number of negative: 30514\n",
      "[LightGBM] [Info] Auto-choosing col-wise multi-threading, the overhead of testing was 0.001457 seconds.\n",
      "You can set `force_col_wise=true` to remove the overhead.\n",
      "[LightGBM] [Info] Total Bins 3825\n",
      "[LightGBM] [Info] Number of data points in the train set: 61028, number of used features: 15\n",
      "[LightGBM] [Info] [binary:BoostFromScore]: pavg=0.500000 -> initscore=0.000000\n"
     ]
    },
    {
     "name": "stderr",
     "output_type": "stream",
     "text": [
      "[I 2024-08-29 05:47:55,573] Trial 28 finished with value: 0.10318664643399089 and parameters: {'n_estimators': 189, 'max_depth': 18, 'learning_rate': 0.12823471120080815, 'subsample': 0.6551805597046708, 'colsample_bytree': 0.6128233655447612, 'num_leaves': 210, 'min_child_samples': 14, 'scale_pos_weight': 15}. Best is trial 22 with value: 0.11944091486658195.\n",
      "C:\\Users\\user\\AppData\\Local\\Temp\\ipykernel_9600\\3909542524.py:11: FutureWarning: suggest_loguniform has been deprecated in v3.0.0. This feature will be removed in v6.0.0. See https://github.com/optuna/optuna/releases/tag/v3.0.0. Use suggest_float(..., log=True) instead.\n",
      "  'learning_rate': trial.suggest_loguniform('learning_rate', 1e-3, 0.3),\n"
     ]
    },
    {
     "name": "stdout",
     "output_type": "stream",
     "text": [
      "[LightGBM] [Info] Number of positive: 30514, number of negative: 30514\n",
      "[LightGBM] [Info] Auto-choosing col-wise multi-threading, the overhead of testing was 0.002037 seconds.\n",
      "You can set `force_col_wise=true` to remove the overhead.\n",
      "[LightGBM] [Info] Total Bins 3825\n",
      "[LightGBM] [Info] Number of data points in the train set: 61028, number of used features: 15\n",
      "[LightGBM] [Info] [binary:BoostFromScore]: pavg=0.500000 -> initscore=0.000000\n",
      "[LightGBM] [Warning] No further splits with positive gain, best gain: -inf\n",
      "[LightGBM] [Warning] No further splits with positive gain, best gain: -inf\n",
      "[LightGBM] [Warning] No further splits with positive gain, best gain: -inf\n",
      "[LightGBM] [Warning] No further splits with positive gain, best gain: -inf\n",
      "[LightGBM] [Warning] No further splits with positive gain, best gain: -inf\n",
      "[LightGBM] [Warning] No further splits with positive gain, best gain: -inf\n",
      "[LightGBM] [Warning] No further splits with positive gain, best gain: -inf\n",
      "[LightGBM] [Warning] No further splits with positive gain, best gain: -inf\n",
      "[LightGBM] [Warning] No further splits with positive gain, best gain: -inf\n",
      "[LightGBM] [Warning] No further splits with positive gain, best gain: -inf\n",
      "[LightGBM] [Warning] No further splits with positive gain, best gain: -inf\n",
      "[LightGBM] [Warning] No further splits with positive gain, best gain: -inf\n",
      "[LightGBM] [Warning] No further splits with positive gain, best gain: -inf\n",
      "[LightGBM] [Warning] No further splits with positive gain, best gain: -inf\n",
      "[LightGBM] [Warning] No further splits with positive gain, best gain: -inf\n",
      "[LightGBM] [Warning] No further splits with positive gain, best gain: -inf\n",
      "[LightGBM] [Warning] No further splits with positive gain, best gain: -inf\n",
      "[LightGBM] [Warning] No further splits with positive gain, best gain: -inf\n",
      "[LightGBM] [Warning] No further splits with positive gain, best gain: -inf\n",
      "[LightGBM] [Warning] No further splits with positive gain, best gain: -inf\n",
      "[LightGBM] [Warning] No further splits with positive gain, best gain: -inf\n",
      "[LightGBM] [Warning] No further splits with positive gain, best gain: -inf\n",
      "[LightGBM] [Warning] No further splits with positive gain, best gain: -inf\n",
      "[LightGBM] [Warning] No further splits with positive gain, best gain: -inf\n",
      "[LightGBM] [Warning] No further splits with positive gain, best gain: -inf\n",
      "[LightGBM] [Warning] No further splits with positive gain, best gain: -inf\n",
      "[LightGBM] [Warning] No further splits with positive gain, best gain: -inf\n",
      "[LightGBM] [Warning] No further splits with positive gain, best gain: -inf\n",
      "[LightGBM] [Warning] No further splits with positive gain, best gain: -inf\n",
      "[LightGBM] [Warning] No further splits with positive gain, best gain: -inf\n",
      "[LightGBM] [Warning] No further splits with positive gain, best gain: -inf\n",
      "[LightGBM] [Warning] No further splits with positive gain, best gain: -inf\n",
      "[LightGBM] [Warning] No further splits with positive gain, best gain: -inf\n",
      "[LightGBM] [Warning] No further splits with positive gain, best gain: -inf\n",
      "[LightGBM] [Warning] No further splits with positive gain, best gain: -inf\n",
      "[LightGBM] [Warning] No further splits with positive gain, best gain: -inf\n",
      "[LightGBM] [Warning] No further splits with positive gain, best gain: -inf\n",
      "[LightGBM] [Warning] No further splits with positive gain, best gain: -inf\n",
      "[LightGBM] [Warning] No further splits with positive gain, best gain: -inf\n",
      "[LightGBM] [Warning] No further splits with positive gain, best gain: -inf\n",
      "[LightGBM] [Warning] No further splits with positive gain, best gain: -inf\n",
      "[LightGBM] [Warning] No further splits with positive gain, best gain: -inf\n",
      "[LightGBM] [Warning] No further splits with positive gain, best gain: -inf\n",
      "[LightGBM] [Warning] No further splits with positive gain, best gain: -inf\n",
      "[LightGBM] [Warning] No further splits with positive gain, best gain: -inf\n",
      "[LightGBM] [Warning] No further splits with positive gain, best gain: -inf\n",
      "[LightGBM] [Warning] No further splits with positive gain, best gain: -inf\n",
      "[LightGBM] [Warning] No further splits with positive gain, best gain: -inf\n",
      "[LightGBM] [Warning] No further splits with positive gain, best gain: -inf\n",
      "[LightGBM] [Warning] No further splits with positive gain, best gain: -inf\n",
      "[LightGBM] [Warning] No further splits with positive gain, best gain: -inf\n",
      "[LightGBM] [Warning] No further splits with positive gain, best gain: -inf\n",
      "[LightGBM] [Warning] No further splits with positive gain, best gain: -inf\n",
      "[LightGBM] [Warning] No further splits with positive gain, best gain: -inf\n",
      "[LightGBM] [Warning] No further splits with positive gain, best gain: -inf\n",
      "[LightGBM] [Warning] No further splits with positive gain, best gain: -inf\n",
      "[LightGBM] [Warning] No further splits with positive gain, best gain: -inf\n",
      "[LightGBM] [Warning] No further splits with positive gain, best gain: -inf\n",
      "[LightGBM] [Warning] No further splits with positive gain, best gain: -inf\n",
      "[LightGBM] [Warning] No further splits with positive gain, best gain: -inf\n",
      "[LightGBM] [Warning] No further splits with positive gain, best gain: -inf\n",
      "[LightGBM] [Warning] No further splits with positive gain, best gain: -inf\n",
      "[LightGBM] [Warning] No further splits with positive gain, best gain: -inf\n",
      "[LightGBM] [Warning] No further splits with positive gain, best gain: -inf\n",
      "[LightGBM] [Warning] No further splits with positive gain, best gain: -inf\n",
      "[LightGBM] [Warning] No further splits with positive gain, best gain: -inf\n",
      "[LightGBM] [Warning] No further splits with positive gain, best gain: -inf\n",
      "[LightGBM] [Warning] No further splits with positive gain, best gain: -inf\n",
      "[LightGBM] [Warning] No further splits with positive gain, best gain: -inf\n",
      "[LightGBM] [Warning] No further splits with positive gain, best gain: -inf\n",
      "[LightGBM] [Warning] No further splits with positive gain, best gain: -inf\n",
      "[LightGBM] [Warning] No further splits with positive gain, best gain: -inf\n",
      "[LightGBM] [Warning] No further splits with positive gain, best gain: -inf\n",
      "[LightGBM] [Warning] No further splits with positive gain, best gain: -inf\n",
      "[LightGBM] [Warning] No further splits with positive gain, best gain: -inf\n",
      "[LightGBM] [Warning] No further splits with positive gain, best gain: -inf\n",
      "[LightGBM] [Warning] No further splits with positive gain, best gain: -inf\n",
      "[LightGBM] [Warning] No further splits with positive gain, best gain: -inf\n",
      "[LightGBM] [Warning] No further splits with positive gain, best gain: -inf\n",
      "[LightGBM] [Warning] No further splits with positive gain, best gain: -inf\n",
      "[LightGBM] [Warning] No further splits with positive gain, best gain: -inf\n",
      "[LightGBM] [Warning] No further splits with positive gain, best gain: -inf\n",
      "[LightGBM] [Warning] No further splits with positive gain, best gain: -inf\n",
      "[LightGBM] [Warning] No further splits with positive gain, best gain: -inf\n",
      "[LightGBM] [Warning] No further splits with positive gain, best gain: -inf\n",
      "[LightGBM] [Warning] No further splits with positive gain, best gain: -inf\n",
      "[LightGBM] [Warning] No further splits with positive gain, best gain: -inf\n",
      "[LightGBM] [Warning] No further splits with positive gain, best gain: -inf\n",
      "[LightGBM] [Warning] No further splits with positive gain, best gain: -inf\n",
      "[LightGBM] [Warning] No further splits with positive gain, best gain: -inf\n",
      "[LightGBM] [Warning] No further splits with positive gain, best gain: -inf\n",
      "[LightGBM] [Warning] No further splits with positive gain, best gain: -inf\n",
      "[LightGBM] [Warning] No further splits with positive gain, best gain: -inf\n",
      "[LightGBM] [Warning] No further splits with positive gain, best gain: -inf\n",
      "[LightGBM] [Warning] No further splits with positive gain, best gain: -inf\n",
      "[LightGBM] [Warning] No further splits with positive gain, best gain: -inf\n",
      "[LightGBM] [Warning] No further splits with positive gain, best gain: -inf\n",
      "[LightGBM] [Warning] No further splits with positive gain, best gain: -inf\n",
      "[LightGBM] [Warning] No further splits with positive gain, best gain: -inf\n",
      "[LightGBM] [Warning] No further splits with positive gain, best gain: -inf\n",
      "[LightGBM] [Warning] No further splits with positive gain, best gain: -inf\n",
      "[LightGBM] [Warning] No further splits with positive gain, best gain: -inf\n",
      "[LightGBM] [Warning] No further splits with positive gain, best gain: -inf\n",
      "[LightGBM] [Warning] No further splits with positive gain, best gain: -inf\n",
      "[LightGBM] [Warning] No further splits with positive gain, best gain: -inf\n",
      "[LightGBM] [Warning] No further splits with positive gain, best gain: -inf\n",
      "[LightGBM] [Warning] No further splits with positive gain, best gain: -inf\n",
      "[LightGBM] [Warning] No further splits with positive gain, best gain: -inf\n",
      "[LightGBM] [Warning] No further splits with positive gain, best gain: -inf\n",
      "[LightGBM] [Warning] No further splits with positive gain, best gain: -inf\n",
      "[LightGBM] [Warning] No further splits with positive gain, best gain: -inf\n",
      "[LightGBM] [Warning] No further splits with positive gain, best gain: -inf\n",
      "[LightGBM] [Warning] No further splits with positive gain, best gain: -inf\n",
      "[LightGBM] [Warning] No further splits with positive gain, best gain: -inf\n",
      "[LightGBM] [Warning] No further splits with positive gain, best gain: -inf\n",
      "[LightGBM] [Warning] No further splits with positive gain, best gain: -inf\n",
      "[LightGBM] [Warning] No further splits with positive gain, best gain: -inf\n",
      "[LightGBM] [Warning] No further splits with positive gain, best gain: -inf\n",
      "[LightGBM] [Warning] No further splits with positive gain, best gain: -inf\n",
      "[LightGBM] [Warning] No further splits with positive gain, best gain: -inf\n",
      "[LightGBM] [Warning] No further splits with positive gain, best gain: -inf\n",
      "[LightGBM] [Warning] No further splits with positive gain, best gain: -inf\n",
      "[LightGBM] [Warning] No further splits with positive gain, best gain: -inf\n",
      "[LightGBM] [Warning] No further splits with positive gain, best gain: -inf\n",
      "[LightGBM] [Warning] No further splits with positive gain, best gain: -inf\n",
      "[LightGBM] [Warning] No further splits with positive gain, best gain: -inf\n",
      "[LightGBM] [Warning] No further splits with positive gain, best gain: -inf\n",
      "[LightGBM] [Warning] No further splits with positive gain, best gain: -inf\n",
      "[LightGBM] [Warning] No further splits with positive gain, best gain: -inf\n",
      "[LightGBM] [Warning] No further splits with positive gain, best gain: -inf\n",
      "[LightGBM] [Warning] No further splits with positive gain, best gain: -inf\n",
      "[LightGBM] [Warning] No further splits with positive gain, best gain: -inf\n"
     ]
    },
    {
     "name": "stderr",
     "output_type": "stream",
     "text": [
      "[I 2024-08-29 05:47:56,500] Trial 29 finished with value: 0.07172995780590717 and parameters: {'n_estimators': 223, 'max_depth': 9, 'learning_rate': 0.02213119676567008, 'subsample': 0.8206087408900298, 'colsample_bytree': 0.6702356250594681, 'num_leaves': 254, 'min_child_samples': 9, 'scale_pos_weight': 10}. Best is trial 22 with value: 0.11944091486658195.\n",
      "C:\\Users\\user\\AppData\\Local\\Temp\\ipykernel_9600\\3909542524.py:11: FutureWarning: suggest_loguniform has been deprecated in v3.0.0. This feature will be removed in v6.0.0. See https://github.com/optuna/optuna/releases/tag/v3.0.0. Use suggest_float(..., log=True) instead.\n",
      "  'learning_rate': trial.suggest_loguniform('learning_rate', 1e-3, 0.3),\n"
     ]
    },
    {
     "name": "stdout",
     "output_type": "stream",
     "text": [
      "[LightGBM] [Info] Number of positive: 30514, number of negative: 30514\n",
      "[LightGBM] [Info] Auto-choosing col-wise multi-threading, the overhead of testing was 0.001454 seconds.\n",
      "You can set `force_col_wise=true` to remove the overhead.\n",
      "[LightGBM] [Info] Total Bins 3825\n",
      "[LightGBM] [Info] Number of data points in the train set: 61028, number of used features: 15\n",
      "[LightGBM] [Info] [binary:BoostFromScore]: pavg=0.500000 -> initscore=0.000000\n"
     ]
    },
    {
     "name": "stderr",
     "output_type": "stream",
     "text": [
      "[I 2024-08-29 05:47:57,708] Trial 30 finished with value: 0.1021566401816118 and parameters: {'n_estimators': 279, 'max_depth': 25, 'learning_rate': 0.18924425022798702, 'subsample': 0.6935119449523364, 'colsample_bytree': 0.6552834718931149, 'num_leaves': 224, 'min_child_samples': 12, 'scale_pos_weight': 7}. Best is trial 22 with value: 0.11944091486658195.\n",
      "C:\\Users\\user\\AppData\\Local\\Temp\\ipykernel_9600\\3909542524.py:11: FutureWarning: suggest_loguniform has been deprecated in v3.0.0. This feature will be removed in v6.0.0. See https://github.com/optuna/optuna/releases/tag/v3.0.0. Use suggest_float(..., log=True) instead.\n",
      "  'learning_rate': trial.suggest_loguniform('learning_rate', 1e-3, 0.3),\n"
     ]
    },
    {
     "name": "stdout",
     "output_type": "stream",
     "text": [
      "[LightGBM] [Info] Number of positive: 30514, number of negative: 30514\n",
      "[LightGBM] [Info] Auto-choosing col-wise multi-threading, the overhead of testing was 0.001375 seconds.\n",
      "You can set `force_col_wise=true` to remove the overhead.\n",
      "[LightGBM] [Info] Total Bins 3825\n",
      "[LightGBM] [Info] Number of data points in the train set: 61028, number of used features: 15\n",
      "[LightGBM] [Info] [binary:BoostFromScore]: pavg=0.500000 -> initscore=0.000000\n"
     ]
    },
    {
     "name": "stderr",
     "output_type": "stream",
     "text": [
      "[I 2024-08-29 05:47:58,582] Trial 31 finished with value: 0.10613207547169812 and parameters: {'n_estimators': 256, 'max_depth': 16, 'learning_rate': 0.23838144980555406, 'subsample': 0.682482042436159, 'colsample_bytree': 0.5431286583744457, 'num_leaves': 188, 'min_child_samples': 8, 'scale_pos_weight': 11}. Best is trial 22 with value: 0.11944091486658195.\n",
      "C:\\Users\\user\\AppData\\Local\\Temp\\ipykernel_9600\\3909542524.py:11: FutureWarning: suggest_loguniform has been deprecated in v3.0.0. This feature will be removed in v6.0.0. See https://github.com/optuna/optuna/releases/tag/v3.0.0. Use suggest_float(..., log=True) instead.\n",
      "  'learning_rate': trial.suggest_loguniform('learning_rate', 1e-3, 0.3),\n"
     ]
    },
    {
     "name": "stdout",
     "output_type": "stream",
     "text": [
      "[LightGBM] [Info] Number of positive: 30514, number of negative: 30514\n",
      "[LightGBM] [Info] Auto-choosing col-wise multi-threading, the overhead of testing was 0.001356 seconds.\n",
      "You can set `force_col_wise=true` to remove the overhead.\n",
      "[LightGBM] [Info] Total Bins 3825\n",
      "[LightGBM] [Info] Number of data points in the train set: 61028, number of used features: 15\n",
      "[LightGBM] [Info] [binary:BoostFromScore]: pavg=0.500000 -> initscore=0.000000\n"
     ]
    },
    {
     "name": "stderr",
     "output_type": "stream",
     "text": [
      "[I 2024-08-29 05:47:58,961] Trial 32 finished with value: 0.10951008645533142 and parameters: {'n_estimators': 81, 'max_depth': 19, 'learning_rate': 0.2223260117124079, 'subsample': 0.7361477295982606, 'colsample_bytree': 0.5510742836349867, 'num_leaves': 197, 'min_child_samples': 9, 'scale_pos_weight': 13}. Best is trial 22 with value: 0.11944091486658195.\n",
      "C:\\Users\\user\\AppData\\Local\\Temp\\ipykernel_9600\\3909542524.py:11: FutureWarning: suggest_loguniform has been deprecated in v3.0.0. This feature will be removed in v6.0.0. See https://github.com/optuna/optuna/releases/tag/v3.0.0. Use suggest_float(..., log=True) instead.\n",
      "  'learning_rate': trial.suggest_loguniform('learning_rate', 1e-3, 0.3),\n"
     ]
    },
    {
     "name": "stdout",
     "output_type": "stream",
     "text": [
      "[LightGBM] [Info] Number of positive: 30514, number of negative: 30514\n",
      "[LightGBM] [Info] Auto-choosing col-wise multi-threading, the overhead of testing was 0.001612 seconds.\n",
      "You can set `force_col_wise=true` to remove the overhead.\n",
      "[LightGBM] [Info] Total Bins 3825\n",
      "[LightGBM] [Info] Number of data points in the train set: 61028, number of used features: 15\n",
      "[LightGBM] [Info] [binary:BoostFromScore]: pavg=0.500000 -> initscore=0.000000\n"
     ]
    },
    {
     "name": "stderr",
     "output_type": "stream",
     "text": [
      "[I 2024-08-29 05:47:59,601] Trial 33 finished with value: 0.08445297504798464 and parameters: {'n_estimators': 157, 'max_depth': 18, 'learning_rate': 0.07436930527201639, 'subsample': 0.7867512827845689, 'colsample_bytree': 0.5969199629322537, 'num_leaves': 154, 'min_child_samples': 11, 'scale_pos_weight': 18}. Best is trial 22 with value: 0.11944091486658195.\n",
      "C:\\Users\\user\\AppData\\Local\\Temp\\ipykernel_9600\\3909542524.py:11: FutureWarning: suggest_loguniform has been deprecated in v3.0.0. This feature will be removed in v6.0.0. See https://github.com/optuna/optuna/releases/tag/v3.0.0. Use suggest_float(..., log=True) instead.\n",
      "  'learning_rate': trial.suggest_loguniform('learning_rate', 1e-3, 0.3),\n"
     ]
    },
    {
     "name": "stdout",
     "output_type": "stream",
     "text": [
      "[LightGBM] [Info] Number of positive: 30514, number of negative: 30514\n",
      "[LightGBM] [Info] Auto-choosing col-wise multi-threading, the overhead of testing was 0.001441 seconds.\n",
      "You can set `force_col_wise=true` to remove the overhead.\n",
      "[LightGBM] [Info] Total Bins 3825\n",
      "[LightGBM] [Info] Number of data points in the train set: 61028, number of used features: 15\n",
      "[LightGBM] [Info] [binary:BoostFromScore]: pavg=0.500000 -> initscore=0.000000\n"
     ]
    },
    {
     "name": "stderr",
     "output_type": "stream",
     "text": [
      "[I 2024-08-29 05:48:00,272] Trial 34 finished with value: 0.11505507955936352 and parameters: {'n_estimators': 230, 'max_depth': 22, 'learning_rate': 0.1901876340646349, 'subsample': 0.7379411947482981, 'colsample_bytree': 0.5535635068203668, 'num_leaves': 129, 'min_child_samples': 5, 'scale_pos_weight': 21}. Best is trial 22 with value: 0.11944091486658195.\n",
      "C:\\Users\\user\\AppData\\Local\\Temp\\ipykernel_9600\\3909542524.py:11: FutureWarning: suggest_loguniform has been deprecated in v3.0.0. This feature will be removed in v6.0.0. See https://github.com/optuna/optuna/releases/tag/v3.0.0. Use suggest_float(..., log=True) instead.\n",
      "  'learning_rate': trial.suggest_loguniform('learning_rate', 1e-3, 0.3),\n"
     ]
    },
    {
     "name": "stdout",
     "output_type": "stream",
     "text": [
      "[LightGBM] [Info] Number of positive: 30514, number of negative: 30514\n",
      "[LightGBM] [Info] Auto-choosing col-wise multi-threading, the overhead of testing was 0.002026 seconds.\n",
      "You can set `force_col_wise=true` to remove the overhead.\n",
      "[LightGBM] [Info] Total Bins 3825\n",
      "[LightGBM] [Info] Number of data points in the train set: 61028, number of used features: 15\n",
      "[LightGBM] [Info] [binary:BoostFromScore]: pavg=0.500000 -> initscore=0.000000\n"
     ]
    },
    {
     "name": "stderr",
     "output_type": "stream",
     "text": [
      "[I 2024-08-29 05:48:01,042] Trial 35 finished with value: 0.07346938775510205 and parameters: {'n_estimators': 234, 'max_depth': 23, 'learning_rate': 0.039779580036780386, 'subsample': 0.8695921579867121, 'colsample_bytree': 0.7391406035331175, 'num_leaves': 129, 'min_child_samples': 6, 'scale_pos_weight': 21}. Best is trial 22 with value: 0.11944091486658195.\n",
      "C:\\Users\\user\\AppData\\Local\\Temp\\ipykernel_9600\\3909542524.py:11: FutureWarning: suggest_loguniform has been deprecated in v3.0.0. This feature will be removed in v6.0.0. See https://github.com/optuna/optuna/releases/tag/v3.0.0. Use suggest_float(..., log=True) instead.\n",
      "  'learning_rate': trial.suggest_loguniform('learning_rate', 1e-3, 0.3),\n"
     ]
    },
    {
     "name": "stdout",
     "output_type": "stream",
     "text": [
      "[LightGBM] [Info] Number of positive: 30514, number of negative: 30514\n",
      "[LightGBM] [Info] Auto-choosing col-wise multi-threading, the overhead of testing was 0.001661 seconds.\n",
      "You can set `force_col_wise=true` to remove the overhead.\n",
      "[LightGBM] [Info] Total Bins 3825\n",
      "[LightGBM] [Info] Number of data points in the train set: 61028, number of used features: 15\n",
      "[LightGBM] [Info] [binary:BoostFromScore]: pavg=0.500000 -> initscore=0.000000\n"
     ]
    },
    {
     "name": "stderr",
     "output_type": "stream",
     "text": [
      "[I 2024-08-29 05:48:01,903] Trial 36 finished with value: 0.0771513353115727 and parameters: {'n_estimators': 199, 'max_depth': 23, 'learning_rate': 0.09988194922885686, 'subsample': 0.8076791959566743, 'colsample_bytree': 0.9903516827961227, 'num_leaves': 169, 'min_child_samples': 4, 'scale_pos_weight': 23}. Best is trial 22 with value: 0.11944091486658195.\n",
      "C:\\Users\\user\\AppData\\Local\\Temp\\ipykernel_9600\\3909542524.py:11: FutureWarning: suggest_loguniform has been deprecated in v3.0.0. This feature will be removed in v6.0.0. See https://github.com/optuna/optuna/releases/tag/v3.0.0. Use suggest_float(..., log=True) instead.\n",
      "  'learning_rate': trial.suggest_loguniform('learning_rate', 1e-3, 0.3),\n"
     ]
    },
    {
     "name": "stdout",
     "output_type": "stream",
     "text": [
      "[LightGBM] [Info] Number of positive: 30514, number of negative: 30514\n",
      "[LightGBM] [Info] Auto-choosing col-wise multi-threading, the overhead of testing was 0.001556 seconds.\n",
      "You can set `force_col_wise=true` to remove the overhead.\n",
      "[LightGBM] [Info] Total Bins 3825\n",
      "[LightGBM] [Info] Number of data points in the train set: 61028, number of used features: 15\n",
      "[LightGBM] [Info] [binary:BoostFromScore]: pavg=0.500000 -> initscore=0.000000\n"
     ]
    },
    {
     "name": "stderr",
     "output_type": "stream",
     "text": [
      "[I 2024-08-29 05:48:02,609] Trial 37 finished with value: 0.10607521697203472 and parameters: {'n_estimators': 255, 'max_depth': 15, 'learning_rate': 0.1734854978159746, 'subsample': 0.6338735383881867, 'colsample_bytree': 0.6508803723209489, 'num_leaves': 113, 'min_child_samples': 1, 'scale_pos_weight': 22}. Best is trial 22 with value: 0.11944091486658195.\n",
      "C:\\Users\\user\\AppData\\Local\\Temp\\ipykernel_9600\\3909542524.py:11: FutureWarning: suggest_loguniform has been deprecated in v3.0.0. This feature will be removed in v6.0.0. See https://github.com/optuna/optuna/releases/tag/v3.0.0. Use suggest_float(..., log=True) instead.\n",
      "  'learning_rate': trial.suggest_loguniform('learning_rate', 1e-3, 0.3),\n"
     ]
    },
    {
     "name": "stdout",
     "output_type": "stream",
     "text": [
      "[LightGBM] [Info] Number of positive: 30514, number of negative: 30514\n",
      "[LightGBM] [Info] Auto-choosing col-wise multi-threading, the overhead of testing was 0.001530 seconds.\n",
      "You can set `force_col_wise=true` to remove the overhead.\n",
      "[LightGBM] [Info] Total Bins 3825\n",
      "[LightGBM] [Info] Number of data points in the train set: 61028, number of used features: 15\n",
      "[LightGBM] [Info] [binary:BoostFromScore]: pavg=0.500000 -> initscore=0.000000\n"
     ]
    },
    {
     "name": "stderr",
     "output_type": "stream",
     "text": [
      "[I 2024-08-29 05:48:03,339] Trial 38 finished with value: 0.09415584415584416 and parameters: {'n_estimators': 286, 'max_depth': 22, 'learning_rate': 0.11702949003795277, 'subsample': 0.7748142166925004, 'colsample_bytree': 0.8183481009194776, 'num_leaves': 91, 'min_child_samples': 12, 'scale_pos_weight': 20}. Best is trial 22 with value: 0.11944091486658195.\n",
      "C:\\Users\\user\\AppData\\Local\\Temp\\ipykernel_9600\\3909542524.py:11: FutureWarning: suggest_loguniform has been deprecated in v3.0.0. This feature will be removed in v6.0.0. See https://github.com/optuna/optuna/releases/tag/v3.0.0. Use suggest_float(..., log=True) instead.\n",
      "  'learning_rate': trial.suggest_loguniform('learning_rate', 1e-3, 0.3),\n"
     ]
    },
    {
     "name": "stdout",
     "output_type": "stream",
     "text": [
      "[LightGBM] [Info] Number of positive: 30514, number of negative: 30514\n",
      "[LightGBM] [Info] Auto-choosing col-wise multi-threading, the overhead of testing was 0.001722 seconds.\n",
      "You can set `force_col_wise=true` to remove the overhead.\n",
      "[LightGBM] [Info] Total Bins 3825\n",
      "[LightGBM] [Info] Number of data points in the train set: 61028, number of used features: 15\n",
      "[LightGBM] [Info] [binary:BoostFromScore]: pavg=0.500000 -> initscore=0.000000\n"
     ]
    },
    {
     "name": "stderr",
     "output_type": "stream",
     "text": [
      "[I 2024-08-29 05:48:04,373] Trial 39 finished with value: 0.1089588377723971 and parameters: {'n_estimators': 300, 'max_depth': 0, 'learning_rate': 0.2071385538959269, 'subsample': 0.7484646266453808, 'colsample_bytree': 0.678328885156692, 'num_leaves': 136, 'min_child_samples': 14, 'scale_pos_weight': 7}. Best is trial 22 with value: 0.11944091486658195.\n",
      "C:\\Users\\user\\AppData\\Local\\Temp\\ipykernel_9600\\3909542524.py:11: FutureWarning: suggest_loguniform has been deprecated in v3.0.0. This feature will be removed in v6.0.0. See https://github.com/optuna/optuna/releases/tag/v3.0.0. Use suggest_float(..., log=True) instead.\n",
      "  'learning_rate': trial.suggest_loguniform('learning_rate', 1e-3, 0.3),\n"
     ]
    },
    {
     "name": "stdout",
     "output_type": "stream",
     "text": [
      "[LightGBM] [Info] Number of positive: 30514, number of negative: 30514\n",
      "[LightGBM] [Info] Auto-choosing col-wise multi-threading, the overhead of testing was 0.000978 seconds.\n",
      "You can set `force_col_wise=true` to remove the overhead.\n",
      "[LightGBM] [Info] Total Bins 3825\n",
      "[LightGBM] [Info] Number of data points in the train set: 61028, number of used features: 15\n",
      "[LightGBM] [Info] [binary:BoostFromScore]: pavg=0.500000 -> initscore=0.000000\n"
     ]
    },
    {
     "name": "stderr",
     "output_type": "stream",
     "text": [
      "[I 2024-08-29 05:48:05,199] Trial 40 finished with value: 0.0603448275862069 and parameters: {'n_estimators': 210, 'max_depth': 27, 'learning_rate': 0.006058526860650932, 'subsample': 0.7057088421651438, 'colsample_bytree': 0.5942452822215614, 'num_leaves': 156, 'min_child_samples': 5, 'scale_pos_weight': 19}. Best is trial 22 with value: 0.11944091486658195.\n",
      "C:\\Users\\user\\AppData\\Local\\Temp\\ipykernel_9600\\3909542524.py:11: FutureWarning: suggest_loguniform has been deprecated in v3.0.0. This feature will be removed in v6.0.0. See https://github.com/optuna/optuna/releases/tag/v3.0.0. Use suggest_float(..., log=True) instead.\n",
      "  'learning_rate': trial.suggest_loguniform('learning_rate', 1e-3, 0.3),\n"
     ]
    },
    {
     "name": "stdout",
     "output_type": "stream",
     "text": [
      "[LightGBM] [Info] Number of positive: 30514, number of negative: 30514\n",
      "[LightGBM] [Info] Auto-choosing col-wise multi-threading, the overhead of testing was 0.001328 seconds.\n",
      "You can set `force_col_wise=true` to remove the overhead.\n",
      "[LightGBM] [Info] Total Bins 3825\n",
      "[LightGBM] [Info] Number of data points in the train set: 61028, number of used features: 15\n",
      "[LightGBM] [Info] [binary:BoostFromScore]: pavg=0.500000 -> initscore=0.000000\n"
     ]
    },
    {
     "name": "stderr",
     "output_type": "stream",
     "text": [
      "[I 2024-08-29 05:48:05,879] Trial 41 finished with value: 0.10606060606060606 and parameters: {'n_estimators': 173, 'max_depth': 17, 'learning_rate': 0.21543129873346034, 'subsample': 0.7424488680477752, 'colsample_bytree': 0.5561516455054583, 'num_leaves': 202, 'min_child_samples': 9, 'scale_pos_weight': 14}. Best is trial 22 with value: 0.11944091486658195.\n",
      "C:\\Users\\user\\AppData\\Local\\Temp\\ipykernel_9600\\3909542524.py:11: FutureWarning: suggest_loguniform has been deprecated in v3.0.0. This feature will be removed in v6.0.0. See https://github.com/optuna/optuna/releases/tag/v3.0.0. Use suggest_float(..., log=True) instead.\n",
      "  'learning_rate': trial.suggest_loguniform('learning_rate', 1e-3, 0.3),\n"
     ]
    },
    {
     "name": "stdout",
     "output_type": "stream",
     "text": [
      "[LightGBM] [Info] Number of positive: 30514, number of negative: 30514\n",
      "[LightGBM] [Info] Auto-choosing col-wise multi-threading, the overhead of testing was 0.001468 seconds.\n",
      "You can set `force_col_wise=true` to remove the overhead.\n",
      "[LightGBM] [Info] Total Bins 3825\n",
      "[LightGBM] [Info] Number of data points in the train set: 61028, number of used features: 15\n",
      "[LightGBM] [Info] [binary:BoostFromScore]: pavg=0.500000 -> initscore=0.000000\n"
     ]
    },
    {
     "name": "stderr",
     "output_type": "stream",
     "text": [
      "[I 2024-08-29 05:48:06,821] Trial 42 finished with value: 0.08346709470304976 and parameters: {'n_estimators': 267, 'max_depth': 19, 'learning_rate': 0.07129146685305161, 'subsample': 0.7338452456452838, 'colsample_bytree': 0.5507558252683632, 'num_leaves': 176, 'min_child_samples': 10, 'scale_pos_weight': 9}. Best is trial 22 with value: 0.11944091486658195.\n",
      "C:\\Users\\user\\AppData\\Local\\Temp\\ipykernel_9600\\3909542524.py:11: FutureWarning: suggest_loguniform has been deprecated in v3.0.0. This feature will be removed in v6.0.0. See https://github.com/optuna/optuna/releases/tag/v3.0.0. Use suggest_float(..., log=True) instead.\n",
      "  'learning_rate': trial.suggest_loguniform('learning_rate', 1e-3, 0.3),\n"
     ]
    },
    {
     "name": "stdout",
     "output_type": "stream",
     "text": [
      "[LightGBM] [Info] Number of positive: 30514, number of negative: 30514\n",
      "[LightGBM] [Info] Auto-choosing col-wise multi-threading, the overhead of testing was 0.001563 seconds.\n",
      "You can set `force_col_wise=true` to remove the overhead.\n",
      "[LightGBM] [Info] Total Bins 3825\n",
      "[LightGBM] [Info] Number of data points in the train set: 61028, number of used features: 15\n",
      "[LightGBM] [Info] [binary:BoostFromScore]: pavg=0.500000 -> initscore=0.000000\n"
     ]
    },
    {
     "name": "stderr",
     "output_type": "stream",
     "text": [
      "[I 2024-08-29 05:48:07,153] Trial 43 finished with value: 0.08662900188323917 and parameters: {'n_estimators': 82, 'max_depth': 14, 'learning_rate': 0.12199594481367172, 'subsample': 0.8027247948913239, 'colsample_bytree': 0.5771763287248179, 'num_leaves': 138, 'min_child_samples': 7, 'scale_pos_weight': 10}. Best is trial 22 with value: 0.11944091486658195.\n",
      "C:\\Users\\user\\AppData\\Local\\Temp\\ipykernel_9600\\3909542524.py:11: FutureWarning: suggest_loguniform has been deprecated in v3.0.0. This feature will be removed in v6.0.0. See https://github.com/optuna/optuna/releases/tag/v3.0.0. Use suggest_float(..., log=True) instead.\n",
      "  'learning_rate': trial.suggest_loguniform('learning_rate', 1e-3, 0.3),\n"
     ]
    },
    {
     "name": "stdout",
     "output_type": "stream",
     "text": [
      "[LightGBM] [Info] Number of positive: 30514, number of negative: 30514\n",
      "[LightGBM] [Info] Auto-choosing col-wise multi-threading, the overhead of testing was 0.001495 seconds.\n",
      "You can set `force_col_wise=true` to remove the overhead.\n",
      "[LightGBM] [Info] Total Bins 3825\n",
      "[LightGBM] [Info] Number of data points in the train set: 61028, number of used features: 15\n",
      "[LightGBM] [Info] [binary:BoostFromScore]: pavg=0.500000 -> initscore=0.000000\n"
     ]
    },
    {
     "name": "stderr",
     "output_type": "stream",
     "text": [
      "[I 2024-08-29 05:48:08,274] Trial 44 finished with value: 0.11488862837045721 and parameters: {'n_estimators': 248, 'max_depth': 16, 'learning_rate': 0.2372034998851002, 'subsample': 0.6745515912487839, 'colsample_bytree': 0.6141902521140583, 'num_leaves': 241, 'min_child_samples': 13, 'scale_pos_weight': 13}. Best is trial 22 with value: 0.11944091486658195.\n",
      "C:\\Users\\user\\AppData\\Local\\Temp\\ipykernel_9600\\3909542524.py:11: FutureWarning: suggest_loguniform has been deprecated in v3.0.0. This feature will be removed in v6.0.0. See https://github.com/optuna/optuna/releases/tag/v3.0.0. Use suggest_float(..., log=True) instead.\n",
      "  'learning_rate': trial.suggest_loguniform('learning_rate', 1e-3, 0.3),\n"
     ]
    },
    {
     "name": "stdout",
     "output_type": "stream",
     "text": [
      "[LightGBM] [Info] Number of positive: 30514, number of negative: 30514\n",
      "[LightGBM] [Info] Auto-choosing col-wise multi-threading, the overhead of testing was 0.001549 seconds.\n",
      "You can set `force_col_wise=true` to remove the overhead.\n",
      "[LightGBM] [Info] Total Bins 3825\n",
      "[LightGBM] [Info] Number of data points in the train set: 61028, number of used features: 15\n",
      "[LightGBM] [Info] [binary:BoostFromScore]: pavg=0.500000 -> initscore=0.000000\n"
     ]
    },
    {
     "name": "stderr",
     "output_type": "stream",
     "text": [
      "[I 2024-08-29 05:48:09,540] Trial 45 finished with value: 0.09563409563409564 and parameters: {'n_estimators': 228, 'max_depth': 16, 'learning_rate': 0.0036978200138461227, 'subsample': 0.669403756567173, 'colsample_bytree': 0.6466250558196744, 'num_leaves': 241, 'min_child_samples': 13, 'scale_pos_weight': 11}. Best is trial 22 with value: 0.11944091486658195.\n",
      "C:\\Users\\user\\AppData\\Local\\Temp\\ipykernel_9600\\3909542524.py:11: FutureWarning: suggest_loguniform has been deprecated in v3.0.0. This feature will be removed in v6.0.0. See https://github.com/optuna/optuna/releases/tag/v3.0.0. Use suggest_float(..., log=True) instead.\n",
      "  'learning_rate': trial.suggest_loguniform('learning_rate', 1e-3, 0.3),\n"
     ]
    },
    {
     "name": "stdout",
     "output_type": "stream",
     "text": [
      "[LightGBM] [Info] Number of positive: 30514, number of negative: 30514\n",
      "[LightGBM] [Info] Auto-choosing col-wise multi-threading, the overhead of testing was 0.001593 seconds.\n",
      "You can set `force_col_wise=true` to remove the overhead.\n",
      "[LightGBM] [Info] Total Bins 3825\n",
      "[LightGBM] [Info] Number of data points in the train set: 61028, number of used features: 15\n",
      "[LightGBM] [Info] [binary:BoostFromScore]: pavg=0.500000 -> initscore=0.000000\n",
      "[LightGBM] [Warning] No further splits with positive gain, best gain: -inf\n",
      "[LightGBM] [Warning] No further splits with positive gain, best gain: -inf\n",
      "[LightGBM] [Warning] No further splits with positive gain, best gain: -inf\n",
      "[LightGBM] [Warning] No further splits with positive gain, best gain: -inf\n",
      "[LightGBM] [Warning] No further splits with positive gain, best gain: -inf\n",
      "[LightGBM] [Warning] No further splits with positive gain, best gain: -inf\n",
      "[LightGBM] [Warning] No further splits with positive gain, best gain: -inf\n",
      "[LightGBM] [Warning] No further splits with positive gain, best gain: -inf\n",
      "[LightGBM] [Warning] No further splits with positive gain, best gain: -inf\n",
      "[LightGBM] [Warning] No further splits with positive gain, best gain: -inf\n",
      "[LightGBM] [Warning] No further splits with positive gain, best gain: -inf\n",
      "[LightGBM] [Warning] No further splits with positive gain, best gain: -inf\n",
      "[LightGBM] [Warning] No further splits with positive gain, best gain: -inf\n",
      "[LightGBM] [Warning] No further splits with positive gain, best gain: -inf\n",
      "[LightGBM] [Warning] No further splits with positive gain, best gain: -inf\n",
      "[LightGBM] [Warning] No further splits with positive gain, best gain: -inf\n",
      "[LightGBM] [Warning] No further splits with positive gain, best gain: -inf\n",
      "[LightGBM] [Warning] No further splits with positive gain, best gain: -inf\n",
      "[LightGBM] [Warning] No further splits with positive gain, best gain: -inf\n",
      "[LightGBM] [Warning] No further splits with positive gain, best gain: -inf\n",
      "[LightGBM] [Warning] No further splits with positive gain, best gain: -inf\n",
      "[LightGBM] [Warning] No further splits with positive gain, best gain: -inf\n",
      "[LightGBM] [Warning] No further splits with positive gain, best gain: -inf\n"
     ]
    },
    {
     "name": "stderr",
     "output_type": "stream",
     "text": [
      "[I 2024-08-29 05:48:10,561] Trial 46 finished with value: 0.1034047919293821 and parameters: {'n_estimators': 247, 'max_depth': 12, 'learning_rate': 0.1635588708080149, 'subsample': 0.5729645320753113, 'colsample_bytree': 0.6049668750669461, 'num_leaves': 223, 'min_child_samples': 14, 'scale_pos_weight': 8}. Best is trial 22 with value: 0.11944091486658195.\n",
      "C:\\Users\\user\\AppData\\Local\\Temp\\ipykernel_9600\\3909542524.py:11: FutureWarning: suggest_loguniform has been deprecated in v3.0.0. This feature will be removed in v6.0.0. See https://github.com/optuna/optuna/releases/tag/v3.0.0. Use suggest_float(..., log=True) instead.\n",
      "  'learning_rate': trial.suggest_loguniform('learning_rate', 1e-3, 0.3),\n"
     ]
    },
    {
     "name": "stdout",
     "output_type": "stream",
     "text": [
      "[LightGBM] [Info] Number of positive: 30514, number of negative: 30514\n",
      "[LightGBM] [Info] Auto-choosing col-wise multi-threading, the overhead of testing was 0.001518 seconds.\n",
      "You can set `force_col_wise=true` to remove the overhead.\n",
      "[LightGBM] [Info] Total Bins 3825\n",
      "[LightGBM] [Info] Number of data points in the train set: 61028, number of used features: 15\n",
      "[LightGBM] [Info] [binary:BoostFromScore]: pavg=0.500000 -> initscore=0.000000\n"
     ]
    },
    {
     "name": "stderr",
     "output_type": "stream",
     "text": [
      "[I 2024-08-29 05:48:12,114] Trial 47 finished with value: 0.07218683651804671 and parameters: {'n_estimators': 284, 'max_depth': 21, 'learning_rate': 0.0011807341468483563, 'subsample': 0.6323925884648028, 'colsample_bytree': 0.6334566060806567, 'num_leaves': 247, 'min_child_samples': 12, 'scale_pos_weight': 25}. Best is trial 22 with value: 0.11944091486658195.\n",
      "C:\\Users\\user\\AppData\\Local\\Temp\\ipykernel_9600\\3909542524.py:11: FutureWarning: suggest_loguniform has been deprecated in v3.0.0. This feature will be removed in v6.0.0. See https://github.com/optuna/optuna/releases/tag/v3.0.0. Use suggest_float(..., log=True) instead.\n",
      "  'learning_rate': trial.suggest_loguniform('learning_rate', 1e-3, 0.3),\n"
     ]
    },
    {
     "name": "stdout",
     "output_type": "stream",
     "text": [
      "[LightGBM] [Info] Number of positive: 30514, number of negative: 30514\n",
      "[LightGBM] [Info] Auto-choosing col-wise multi-threading, the overhead of testing was 0.001604 seconds.\n",
      "You can set `force_col_wise=true` to remove the overhead.\n",
      "[LightGBM] [Info] Total Bins 3825\n",
      "[LightGBM] [Info] Number of data points in the train set: 61028, number of used features: 15\n",
      "[LightGBM] [Info] [binary:BoostFromScore]: pavg=0.500000 -> initscore=0.000000\n"
     ]
    },
    {
     "name": "stderr",
     "output_type": "stream",
     "text": [
      "[I 2024-08-29 05:48:13,269] Trial 48 finished with value: 0.11045828437132785 and parameters: {'n_estimators': 261, 'max_depth': 16, 'learning_rate': 0.26577501990099667, 'subsample': 0.7040969653568425, 'colsample_bytree': 0.6885786194270223, 'num_leaves': 226, 'min_child_samples': 13, 'scale_pos_weight': 16}. Best is trial 22 with value: 0.11944091486658195.\n",
      "C:\\Users\\user\\AppData\\Local\\Temp\\ipykernel_9600\\3909542524.py:11: FutureWarning: suggest_loguniform has been deprecated in v3.0.0. This feature will be removed in v6.0.0. See https://github.com/optuna/optuna/releases/tag/v3.0.0. Use suggest_float(..., log=True) instead.\n",
      "  'learning_rate': trial.suggest_loguniform('learning_rate', 1e-3, 0.3),\n"
     ]
    },
    {
     "name": "stdout",
     "output_type": "stream",
     "text": [
      "[LightGBM] [Info] Number of positive: 30514, number of negative: 30514\n",
      "[LightGBM] [Info] Auto-choosing col-wise multi-threading, the overhead of testing was 0.001625 seconds.\n",
      "You can set `force_col_wise=true` to remove the overhead.\n",
      "[LightGBM] [Info] Total Bins 3825\n",
      "[LightGBM] [Info] Number of data points in the train set: 61028, number of used features: 15\n",
      "[LightGBM] [Info] [binary:BoostFromScore]: pavg=0.500000 -> initscore=0.000000\n"
     ]
    },
    {
     "name": "stderr",
     "output_type": "stream",
     "text": [
      "[I 2024-08-29 05:48:14,240] Trial 49 finished with value: 0.10836277974087162 and parameters: {'n_estimators': 210, 'max_depth': 28, 'learning_rate': 0.2783841770207827, 'subsample': 0.5858788115558036, 'colsample_bytree': 0.7767802813398559, 'num_leaves': 227, 'min_child_samples': 13, 'scale_pos_weight': 13}. Best is trial 22 with value: 0.11944091486658195.\n"
     ]
    },
    {
     "name": "stdout",
     "output_type": "stream",
     "text": [
      "Best hyperparameters:  {'n_estimators': 261, 'max_depth': 17, 'learning_rate': 0.1463413340517554, 'subsample': 0.7528924911295741, 'colsample_bytree': 0.6759922637460025, 'num_leaves': 255, 'min_child_samples': 11, 'scale_pos_weight': 10}\n",
      "[LightGBM] [Info] Number of positive: 30514, number of negative: 30514\n",
      "[LightGBM] [Info] Auto-choosing col-wise multi-threading, the overhead of testing was 0.001628 seconds.\n",
      "You can set `force_col_wise=true` to remove the overhead.\n",
      "[LightGBM] [Info] Total Bins 3825\n",
      "[LightGBM] [Info] Number of data points in the train set: 61028, number of used features: 15\n",
      "[LightGBM] [Info] [binary:BoostFromScore]: pavg=0.500000 -> initscore=0.000000\n",
      "              precision    recall  f1-score   support\n",
      "\n",
      "           0       0.14      0.11      0.12       441\n",
      "           1       0.95      0.96      0.95      7642\n",
      "\n",
      "    accuracy                           0.91      8083\n",
      "   macro avg       0.54      0.53      0.54      8083\n",
      "weighted avg       0.90      0.91      0.91      8083\n",
      "\n"
     ]
    }
   ],
   "source": [
    "# Optuna 최적화\n",
    "study = optuna.create_study(direction='maximize')\n",
    "study.optimize(objective, n_trials=50)\n",
    "\n",
    "# 최적 하이퍼파라미터 출력\n",
    "print(\"Best hyperparameters: \", study.best_params)\n",
    "\n",
    "# 최적 모델로 재학습 및 검증\n",
    "best_params = study.best_params\n",
    "best_model = lgb.LGBMClassifier(**best_params, random_state=42)\n",
    "\n",
    "best_model.fit(X_train_smote, y_train_smote)\n",
    "y_val_pred = best_model.predict(X_val)\n",
    "\n",
    "# 분류 리포트 출력\n",
    "print(classification_report(y_val, y_val_pred))"
   ]
  },
  {
   "cell_type": "markdown",
   "metadata": {},
   "source": [
    "# Equipment Dam 0과 1로 나눠서 Xgboost랑 LightGbm 사용"
   ]
  },
  {
   "cell_type": "code",
   "execution_count": 23,
   "metadata": {},
   "outputs": [],
   "source": [
    "\n",
    "# train_x_line_0 = pca_features[train_X['Equipment_Dam'] == 0]\n",
    "# train_x_line_1 = pca_features[train_X['Equipment_Dam'] == 1]\n",
    "\n",
    "# train_y_line_0 = target[train_X['Equipment_Dam'] == 0]\n",
    "# train_y_line_1 = target[train_X['Equipment_Dam'] == 1]\n",
    "\n",
    "# test_x_line_0 = test_x[test_x['Equipment_Dam'] == 0]\n",
    "# test_x_line_1 = test_x[test_x['Equipment_Dam'] == 1]\n",
    "\n",
    "# # SMOTE 적용 함수\n",
    "# def apply_smote(X_train, y_train):\n",
    "#     smote = SMOTE(random_state=42)\n",
    "#     X_train_smote, y_train_smote = smote.fit_resample(X_train, y_train)\n",
    "#     return X_train_smote, y_train_smote\n",
    "\n",
    "# # 모델 학습 및 예측 함수\n",
    "# def model_pipeline(train_x, train_y, test_x, model_type='xgboost'):\n",
    "#     # 데이터 분리 (학습용 80%, 검증용 20%)\n",
    "#     X_train, X_val, y_train, y_val = train_test_split(train_x, train_y, test_size=0.2, random_state=42)\n",
    "\n",
    "#     # SMOTE 적용\n",
    "#     X_train_smote, y_train_smote = apply_smote(X_train, y_train)\n",
    "\n",
    "#     # 모델 선택 및 학습\n",
    "#     if model_type == 'xgboost':\n",
    "#         model = XGBClassifier(n_estimators=200, random_state=42, scale_pos_weight=10, use_label_encoder=False, eval_metric='logloss')\n",
    "#     elif model_type == 'lightgbm':\n",
    "#         model = LGBMClassifier(n_estimators=200, random_state=42, class_weight={0: 1, 1: 10}, device='gpu') # GPU 사용\n",
    "#     else:\n",
    "#         raise ValueError(\"Invalid model type. Choose 'xgboost' or 'lightgbm'.\")\n",
    "    \n",
    "#     model.fit(X_train_smote, y_train_smote)\n",
    "\n",
    "#     # 검증 데이터셋에서 예측 수행\n",
    "#     y_pred_weighted_val = model.predict(X_val)\n",
    "\n",
    "#     # 성능 평가\n",
    "#     accuracy_weighted_val = accuracy_score(y_val, y_pred_weighted_val)\n",
    "#     classification_rep_weighted_val = classification_report(y_val, y_pred_weighted_val, digits=4)\n",
    "\n",
    "#     print(f\"{model_type.upper()} 모델 성능\")\n",
    "#     print(\"Accuracy:\", accuracy_weighted_val)\n",
    "#     print(\"Classification Report:\\n\", classification_rep_weighted_val)\n",
    "\n",
    "#     # 테스트 데이터에 PCA 및 스케일러 적용\n",
    "#     scaled_features_test = scaler.transform(test_x)\n",
    "#     pca_features_test = pca.transform(scaled_features_test)\n",
    "\n",
    "#     # 테스트 데이터에서 예측 수행\n",
    "#     y_pred_test = model.predict(pca_features_test)\n",
    "\n",
    "#     return y_pred_test\n",
    "\n",
    "# # Equipment_Dam = 0인 경우\n",
    "# y_pred_0_xgboost = model_pipeline(train_x_line_0, train_y_line_0, test_x_line_0, model_type='xgboost')\n",
    "# y_pred_0_lightgbm = model_pipeline(train_x_line_0, train_y_line_0, test_x_line_0, model_type='lightgbm')\n",
    "\n",
    "# # Equipment_Dam = 1인 경우\n",
    "# y_pred_1_xgboost = model_pipeline(train_x_line_1, train_y_line_1, test_x_line_1, model_type='xgboost')\n",
    "# y_pred_1_lightgbm = model_pipeline(train_x_line_1, train_y_line_1, test_x_line_1, model_type='lightgbm')\n",
    "\n",
    "# # 최종 예측 결과 결합 (XGBoost와 LightGBM의 평균 앙상블)\n",
    "# y_pred_test_xgboost = np.zeros(len(test_x))\n",
    "# y_pred_test_lightgbm = np.zeros(len(test_x))\n",
    "\n",
    "# y_pred_test_xgboost[test_x['Equipment_Dam'] == 0] = y_pred_0_xgboost\n",
    "# y_pred_test_xgboost[test_x['Equipment_Dam'] == 1] = y_pred_1_xgboost\n",
    "\n",
    "# # y_pred_test_lightgbm[test_x['Equipment_Dam'] == 0] = y_pred_0_lightgbm\n",
    "# # y_pred_test_lightgbm[test_x['Equipment_Dam'] == 1] = y_pred_1_lightgbm\n",
    "\n",
    "# # 두 모델의 예측을 평균 내어 최종 예측을 수행\n",
    "# y_pred_final = (\n",
    "#     y_pred_test_xgboost*0.65 + \n",
    "#     y_pred_test_lightgbm*0.35\n",
    "#     )\n",
    "# y_pred_final_binary = (y_pred_final > 0.5).astype(int)\n",
    "\n",
    "# # 최종 결과를 DataFrame으로 저장\n",
    "# result = pd.DataFrame({\n",
    "#     'Set ID': test2['Set ID'].values,\n",
    "#     'target': y_pred_final_binary\n",
    "# })"
   ]
  },
  {
   "cell_type": "markdown",
   "metadata": {},
   "source": [
    "# Equipment Dam 0과 1로 나눈거"
   ]
  },
  {
   "cell_type": "code",
   "execution_count": 24,
   "metadata": {},
   "outputs": [],
   "source": [
    "# train_x_line_0 = pca_features[train_X['Equipment_Dam'] == 0]\n",
    "# train_x_line_1 = pca_features[train_X['Equipment_Dam'] == 1]\n",
    "\n",
    "# train_y_line_0 = target[train_X['Equipment_Dam'] == 0]\n",
    "# train_y_line_1 = target[train_X['Equipment_Dam'] == 1]\n",
    "\n",
    "# test_x_line_0 = test_x[test_x['Equipment_Dam'] == 0]\n",
    "# test_x_line_1 = test_x[test_x['Equipment_Dam'] == 1]\n",
    "\n",
    "# def model_pipeline(train_x, train_y, test_x):\n",
    "#     # 데이터 분리 (학습용 80%, 검증용 20%)\n",
    "#     X_train, X_val, y_train, y_val = train_test_split(train_x, train_y, test_size=0.2, random_state=42)\n",
    "\n",
    "#     # SMOTE 적용\n",
    "#     smote = SMOTE(random_state=42)\n",
    "#     X_train_smote, y_train_smote = smote.fit_resample(X_train, y_train)\n",
    "\n",
    "#     # 1. SMOTE를 적용하여 학습한 랜덤 포레스트 모델\n",
    "#     model_weighted_smote = RandomForestClassifier(n_estimators=200, random_state=42, class_weight={0: 1, 1: 10})\n",
    "#     model_weighted_smote.fit(X_train_smote, y_train_smote)\n",
    "\n",
    "#     # 2. 검증 데이터셋에서 예측 수행\n",
    "#     y_pred_weighted_val = model_weighted_smote.predict(X_val)\n",
    "\n",
    "#     # 3. 성능 평가\n",
    "#     accuracy_weighted_val = accuracy_score(y_val, y_pred_weighted_val)\n",
    "#     classification_rep_weighted_val = classification_report(y_val, y_pred_weighted_val, digits=4)\n",
    "\n",
    "#     print(\"SMOTE 적용 모델 성능\")\n",
    "#     print(\"Accuracy:\", accuracy_weighted_val)\n",
    "#     print(\"Classification Report:\\n\", classification_rep_weighted_val)\n",
    "\n",
    "#     # 4. 테스트 데이터에 PCA 및 스케일러 적용\n",
    "#     # Equipment_Dam을 포함한 상태에서 스케일러와 PCA 적용\n",
    "#     scaled_features_test = scaler.transform(test_x)\n",
    "#     pca_features_test = pca.transform(scaled_features_test)\n",
    "\n",
    "#     # 5. 테스트 데이터에서 예측 수행\n",
    "#     y_pred_test = model_weighted_smote.predict(pca_features_test)\n",
    "\n",
    "#     return y_pred_test\n",
    "\n",
    "# # Equipment_Dam = 0인 경우\n",
    "# y_pred_0 = model_pipeline(train_x_line_0, train_y_line_0, test_x_line_0)\n",
    "\n",
    "# # Equipment_Dam = 1인 경우\n",
    "# y_pred_1 = model_pipeline(train_x_line_1, train_y_line_1, test_x_line_1)\n",
    "\n",
    "# # 6. 최종 예측 결과 결합\n",
    "# y_pred_test = np.zeros(len(test_x))\n",
    "# y_pred_test[test_x['Equipment_Dam'] == 0] = y_pred_0\n",
    "# y_pred_test[test_x['Equipment_Dam'] == 1] = y_pred_1\n",
    "\n"
   ]
  },
  {
   "cell_type": "code",
   "execution_count": 81,
   "metadata": {},
   "outputs": [],
   "source": [
    "test_data = all_data_top20[pd.isnull(all_data['target'])]\n",
    "features_test = test_data.drop(columns=['target'])\n",
    "# 4. 테스트 데이터에 PCA 및 스케일러 적용\n",
    "scaled_features_test = scaler.transform(features_test)\n",
    "pca_features_test = pca.transform(scaled_features_test)\n",
    "\n",
    "# 5. 테스트 데이터에서 예측 수행\n",
    "y_pred_test = voting_model.predict(pca_features_test)"
   ]
  },
  {
   "cell_type": "code",
   "execution_count": 82,
   "metadata": {},
   "outputs": [
    {
     "name": "stdout",
     "output_type": "stream",
     "text": [
      "                             Set ID  target\n",
      "0  0001be084fbc4aaa9d921f39e595961b       1\n",
      "1  0005bbd180064abd99e63f9ed3e1ac80       1\n",
      "2  000948934c4140d883d670adcb609584       1\n",
      "3  000a6bfd02874c6296dc7b2e9c5678a7       1\n",
      "4  0018e78ce91343678716e2ea27a51c95       1\n",
      "(17333, 2)\n"
     ]
    }
   ],
   "source": [
    "# 6. 결과를 DataFrame으로 저장\n",
    "result = pd.DataFrame({\n",
    "    'Set ID': test2['Set ID'].values,  # Set ID를 원래대로 유지\n",
    "    'target': y_pred_test\n",
    "})\n",
    "\n",
    "# 결과 출력\n",
    "print(result.head())\n",
    "\n",
    "print(result.shape)\n",
    "\n",
    "# 기존 0과 1 값을 'AbNormal'과 'Normal'로 변환\n",
    "result['target'] = result['target'].map({0: 'AbNormal', 1: 'Normal'})\n",
    "\n",
    "submission_same = result"
   ]
  },
  {
   "cell_type": "markdown",
   "metadata": {},
   "source": [
    "## 최종: Submission 만들기"
   ]
  },
  {
   "cell_type": "markdown",
   "metadata": {},
   "source": [
    "Submission_diff과 Submission_same을 합친다."
   ]
  },
  {
   "cell_type": "code",
   "execution_count": 83,
   "metadata": {},
   "outputs": [],
   "source": [
    "# submission_same, submission_diff 데이터프레임을 하나로 합치기\n",
    "submission = pd.concat([submission_same, submission_diff])"
   ]
  },
  {
   "cell_type": "code",
   "execution_count": 85,
   "metadata": {},
   "outputs": [],
   "source": [
    "submission.to_csv('C:/lg_capstone/find_abnormal/data/submission.csv', index=False)"
   ]
  },
  {
   "cell_type": "markdown",
   "metadata": {},
   "source": [
    "AbNormal, Normal 값의 개수 확인하기"
   ]
  },
  {
   "cell_type": "code",
   "execution_count": 84,
   "metadata": {},
   "outputs": [
    {
     "name": "stdout",
     "output_type": "stream",
     "text": [
      "['AbNormal' 'Normal'] [ 1703 15658]\n"
     ]
    }
   ],
   "source": [
    "unique, counts = np.unique(submission['target'], return_counts=True)\n",
    "print(unique, counts)"
   ]
  }
 ],
 "metadata": {
  "kernelspec": {
   "display_name": "lg_capstone",
   "language": "python",
   "name": "python3"
  },
  "language_info": {
   "codemirror_mode": {
    "name": "ipython",
    "version": 3
   },
   "file_extension": ".py",
   "mimetype": "text/x-python",
   "name": "python",
   "nbconvert_exporter": "python",
   "pygments_lexer": "ipython3",
   "version": "3.12.0"
  }
 },
 "nbformat": 4,
 "nbformat_minor": 2
}
